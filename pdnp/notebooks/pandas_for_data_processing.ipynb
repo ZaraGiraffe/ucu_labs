{
  "nbformat": 4,
  "nbformat_minor": 0,
  "metadata": {
    "colab": {
      "name": "pandas_for_data_processing.ipynb",
      "provenance": [],
      "collapsed_sections": []
    },
    "kernelspec": {
      "name": "python3",
      "display_name": "Python 3"
    }
  },
  "cells": [
    {
      "cell_type": "markdown",
      "metadata": {
        "id": "0RTBH9iCIPQB"
      },
      "source": [
        "# Python для роботих файлами xlsx, csv, json\n",
        "# Бібліотека pandas"
      ]
    },
    {
      "cell_type": "markdown",
      "metadata": {
        "id": "opvW7HaeL7qr"
      },
      "source": [
        "## Чому вартує вивчити Python?\n"
      ]
    },
    {
      "cell_type": "markdown",
      "metadata": {
        "id": "CgMTKgR2MIic"
      },
      "source": [
        "Python одна з провідних мов програмування, яка використовується у:\n",
        "- науках про дані\n",
        "- веб розробці\n",
        "- системному адмініструванні\n",
        "- ...\n",
        "\n",
        "Python дозволяє користувачам:\n",
        "- зберігати дані,\n",
        "- доступатися до даних,\n",
        "- опрацьовувати дані\n",
        "\n",
        "Python має розвинену екосистему:\n",
        "- засоби програмування\n",
        "- бібліотеки\n",
        "\n",
        "Python використовується у багатьох галузях, зокрема:\n",
        "- охорона здоров'я\n",
        "- фінанси\n",
        "- сільськогосподарські технології\n",
        "- консалтинг\n",
        "- ..."
      ]
    },
    {
      "cell_type": "markdown",
      "metadata": {
        "id": "is7LSVwwP40-"
      },
      "source": [
        "Для роботи з даними в табличній формі часто використовується Excel, який вже не відповідає сучасним вимогам бізнесу \n",
        "- малі обсяги даних\n",
        "- дані не в режимі реального часу\n",
        "- спільна робота ускладнена (чи це важливо?)\n"
      ]
    },
    {
      "cell_type": "markdown",
      "metadata": {
        "id": "PqtSkZvaRNQG"
      },
      "source": [
        "Data scientist, Chris Cardillo: \n",
        "“If somebody spends more than four hours a day in Excel, they will undoubtedly benefit from learning Python/R.”"
      ]
    },
    {
      "cell_type": "markdown",
      "metadata": {
        "id": "7Gt8JtGVIhjj"
      },
      "source": [
        "## Чому вартує використовувати Python для роботи з xlsx файлами (Excel) \n",
        "(https://www.dataquest.io/blog/9-reasons-excel-users-should-consider-learning-programming/)"
      ]
    },
    {
      "cell_type": "markdown",
      "metadata": {
        "id": "aqmoL8ksSR-w"
      },
      "source": [
        "- потужні засоби для імпортування даних та опрацювання даних\n",
        "- автоматизація процесів в опрацюванні даних\n",
        "- відтворюваність результатів опрацювання даних\n",
        "- легко знайти та виправити помилки\n",
        "- доступність (безкоштовність) та відкритий код\n",
        "- потужні засоби для статистики та машинного навчання\n",
        "- потужні засоби по візуалізації даних\n",
        "- працездатність на різних платформах (Windows, Linux, Mac OS X) \n"
      ]
    },
    {
      "cell_type": "markdown",
      "metadata": {
        "id": "emeu3GHI17lo"
      },
      "source": [
        "## Модулі стандартної бібліотеки"
      ]
    },
    {
      "cell_type": "markdown",
      "metadata": {
        "id": "bcX-BFFf2EjK"
      },
      "source": [
        "\n",
        "\n",
        "*   csv\n",
        "*   json\n",
        "\n"
      ]
    },
    {
      "cell_type": "markdown",
      "metadata": {
        "id": "KffOIUsnI-9v"
      },
      "source": [
        "## Бібліотека pandas"
      ]
    },
    {
      "cell_type": "markdown",
      "metadata": {
        "id": "8tKEP0BdiS0X"
      },
      "source": [
        "Бібліотека pandas забезпечує розробників швидкими, гнучкими та інуїтивно зрозумілими структурами даних, які значно спрощують роботу з даними. Найбільш потужна, швидка та гнучка біблотека з відкритим кодом для аналізу та опрацювання даних.\n",
        "Дані можуть бути у наступному вигляді:\n",
        "- Excel чи SQL таблиці (xlsx файл)\n",
        "- Довільні матричні дані (csv, tsv файли)\n",
        "- Інші формати (json файл)\n",
        "\n",
        "Використовуються дві основні структури даних:\n",
        "- Series (1D - одновимірна)\n",
        "- DataFrame (2D - двовимірна)\n",
        "\n",
        "DataFrame це контейнер для Series. Series це контейнер для склаярних даних. \n",
        "Структури даних - змінювані. Можуть змінюватися значення у цих структурах, але розмір структур може змінюватися не завжди.\n",
        "Довжина Series не змінюється. До DataFrame можна додати стовпець.\n",
        "Основний принцип - початкові дані не змінюються. Всі функції та методи створюють нові об'єкти.  "
      ]
    },
    {
      "cell_type": "markdown",
      "metadata": {
        "id": "XwSFnheonFBr"
      },
      "source": [
        "Перший етап при роботі з даними - підготовка даних.\n",
        "\n",
        "Теоретично - маємо дані в належному вигляді та необхідного обсягу. \n",
        "\n",
        "Практично -  великий обсяг, складних та не структурованих даних.\n",
        "80% часу роботи при роботі з даними витрачається на:\n",
        "- підготовку даних\n",
        "- дослідження даних\n",
        "- візуалізацію даних "
      ]
    },
    {
      "cell_type": "markdown",
      "metadata": {
        "id": "QrVB5hg_oh-O"
      },
      "source": [
        "Підготова даних передбачає:\n",
        "- завантаження даних\n",
        "- об'єднання даних\n",
        "- очищення даних (виявлення та обробка помилок в даних)\n",
        "- відновлення відсутніх даних"
      ]
    },
    {
      "cell_type": "markdown",
      "metadata": {
        "id": "IoIyz7X728bI"
      },
      "source": [
        "### Використання pandas для роботи з xlsx файлами\n",
        "(https://www.dataquest.io/blog/excel-and-pandas/)"
      ]
    },
    {
      "cell_type": "markdown",
      "metadata": {
        "id": "FGllJz2W-EXJ"
      },
      "source": [
        "## 1. Набір даних\n",
        "\n",
        "Використовується набір даних https://dq-blog-files.s3.amazonaws.com/movies.xls з Kaggle’s IMDB Scores data.  Набір даних містить інформацію про фільми які були сфільмовані у  20 столітті, перших 10 роках 21 століття та після 2010 року. Інформація про фільми знаходиться в трьох окремих таблицях 1900s, 2000s,2010s.\n"
      ]
    },
    {
      "cell_type": "markdown",
      "metadata": {
        "id": "ejbtBidoQbwh"
      },
      "source": [
        "## 2. Імпортування даних"
      ]
    },
    {
      "cell_type": "code",
      "metadata": {
        "colab": {
          "base_uri": "https://localhost:8080/"
        },
        "id": "Q9zcUrIwjAax",
        "outputId": "b000f362-ba80-4151-8aae-2c7274a532f5"
      },
      "source": [
        "from google.colab import drive\n",
        "drive.mount('/content/drive') #drive.mount('/Data')\n",
        "%cd /content/drive"
      ],
      "execution_count": 9,
      "outputs": [
        {
          "output_type": "stream",
          "name": "stdout",
          "text": [
            "Drive already mounted at /content/drive; to attempt to forcibly remount, call drive.mount(\"/content/drive\", force_remount=True).\n",
            "/content/drive\n"
          ]
        }
      ]
    },
    {
      "cell_type": "code",
      "metadata": {
        "id": "flbAwVg--FJj"
      },
      "source": [
        "import pandas as pd"
      ],
      "execution_count": 10,
      "outputs": []
    },
    {
      "cell_type": "markdown",
      "metadata": {
        "id": "XH4zAjqB-D4x"
      },
      "source": [
        "Набір даних у форматі xls й потрібно використовувати функцію pandas read_excel для імпортування даних з файлу. Функція дозволяє автоматично прочитати першу таблицю, якщо в аргументах функції вказати шлях до файла. Змінна movies буде містити посилання на об'єкт типу DataFrame, який буде використовуватися для збереження набору даних."
      ]
    },
    {
      "cell_type": "code",
      "metadata": {
        "id": "AY6-krps-E_X",
        "colab": {
          "base_uri": "https://localhost:8080/"
        },
        "outputId": "06e21eb7-0c71-40d8-b9b1-ca38f4f40d6d"
      },
      "source": [
        "excel_file = '/content/drive/MyDrive/Data/movies.xls'\n",
        "movies = pd.read_excel(excel_file)\n",
        "print(type(movies))"
      ],
      "execution_count": 11,
      "outputs": [
        {
          "output_type": "stream",
          "name": "stdout",
          "text": [
            "<class 'pandas.core.frame.DataFrame'>\n"
          ]
        }
      ]
    },
    {
      "cell_type": "markdown",
      "metadata": {
        "id": "VlMXeCuH-D_-"
      },
      "source": [
        "Для роботи з даними потрібно спочатку їх переглянути. Для цього є два методи head та tail. Метод head дозволяє вивести на екран перші рядки даних (за замовчуванням п'ять). Метод tail дозволяє вивести на екран останні п'ять рядків. За потреби можна вказати яку кількість рядків потрібно вивести на екран. "
      ]
    },
    {
      "cell_type": "code",
      "metadata": {
        "id": "WxWxWG2_-E13",
        "colab": {
          "base_uri": "https://localhost:8080/",
          "height": 469
        },
        "outputId": "ecd78fa6-fe7c-480c-9439-ae760330e6b6"
      },
      "source": [
        "movies.head()"
      ],
      "execution_count": 12,
      "outputs": [
        {
          "output_type": "execute_result",
          "data": {
            "text/html": [
              "<div>\n",
              "<style scoped>\n",
              "    .dataframe tbody tr th:only-of-type {\n",
              "        vertical-align: middle;\n",
              "    }\n",
              "\n",
              "    .dataframe tbody tr th {\n",
              "        vertical-align: top;\n",
              "    }\n",
              "\n",
              "    .dataframe thead th {\n",
              "        text-align: right;\n",
              "    }\n",
              "</style>\n",
              "<table border=\"1\" class=\"dataframe\">\n",
              "  <thead>\n",
              "    <tr style=\"text-align: right;\">\n",
              "      <th></th>\n",
              "      <th>Title</th>\n",
              "      <th>Year</th>\n",
              "      <th>Genres</th>\n",
              "      <th>Language</th>\n",
              "      <th>Country</th>\n",
              "      <th>Content Rating</th>\n",
              "      <th>Duration</th>\n",
              "      <th>Aspect Ratio</th>\n",
              "      <th>Budget</th>\n",
              "      <th>Gross Earnings</th>\n",
              "      <th>Director</th>\n",
              "      <th>Actor 1</th>\n",
              "      <th>Actor 2</th>\n",
              "      <th>Actor 3</th>\n",
              "      <th>Facebook Likes - Director</th>\n",
              "      <th>Facebook Likes - Actor 1</th>\n",
              "      <th>Facebook Likes - Actor 2</th>\n",
              "      <th>Facebook Likes - Actor 3</th>\n",
              "      <th>Facebook Likes - cast Total</th>\n",
              "      <th>Facebook likes - Movie</th>\n",
              "      <th>Facenumber in posters</th>\n",
              "      <th>User Votes</th>\n",
              "      <th>Reviews by Users</th>\n",
              "      <th>Reviews by Crtiics</th>\n",
              "      <th>IMDB Score</th>\n",
              "    </tr>\n",
              "  </thead>\n",
              "  <tbody>\n",
              "    <tr>\n",
              "      <th>0</th>\n",
              "      <td>Intolerance: Love's Struggle Throughout the Ages</td>\n",
              "      <td>1916</td>\n",
              "      <td>Drama|History|War</td>\n",
              "      <td>NaN</td>\n",
              "      <td>USA</td>\n",
              "      <td>Not Rated</td>\n",
              "      <td>123</td>\n",
              "      <td>1.33</td>\n",
              "      <td>385907.0</td>\n",
              "      <td>NaN</td>\n",
              "      <td>D.W. Griffith</td>\n",
              "      <td>Lillian Gish</td>\n",
              "      <td>Mae Marsh</td>\n",
              "      <td>Walter Long</td>\n",
              "      <td>204</td>\n",
              "      <td>436</td>\n",
              "      <td>22</td>\n",
              "      <td>9.0</td>\n",
              "      <td>481</td>\n",
              "      <td>691</td>\n",
              "      <td>1</td>\n",
              "      <td>10718</td>\n",
              "      <td>88</td>\n",
              "      <td>69.0</td>\n",
              "      <td>8.0</td>\n",
              "    </tr>\n",
              "    <tr>\n",
              "      <th>1</th>\n",
              "      <td>Over the Hill to the Poorhouse</td>\n",
              "      <td>1920</td>\n",
              "      <td>Crime|Drama</td>\n",
              "      <td>NaN</td>\n",
              "      <td>USA</td>\n",
              "      <td>NaN</td>\n",
              "      <td>110</td>\n",
              "      <td>1.33</td>\n",
              "      <td>100000.0</td>\n",
              "      <td>3000000.0</td>\n",
              "      <td>Harry F. Millarde</td>\n",
              "      <td>Stephen Carr</td>\n",
              "      <td>Johnnie Walker</td>\n",
              "      <td>Mary Carr</td>\n",
              "      <td>0</td>\n",
              "      <td>2</td>\n",
              "      <td>2</td>\n",
              "      <td>0.0</td>\n",
              "      <td>4</td>\n",
              "      <td>0</td>\n",
              "      <td>1</td>\n",
              "      <td>5</td>\n",
              "      <td>1</td>\n",
              "      <td>1.0</td>\n",
              "      <td>4.8</td>\n",
              "    </tr>\n",
              "    <tr>\n",
              "      <th>2</th>\n",
              "      <td>The Big Parade</td>\n",
              "      <td>1925</td>\n",
              "      <td>Drama|Romance|War</td>\n",
              "      <td>NaN</td>\n",
              "      <td>USA</td>\n",
              "      <td>Not Rated</td>\n",
              "      <td>151</td>\n",
              "      <td>1.33</td>\n",
              "      <td>245000.0</td>\n",
              "      <td>NaN</td>\n",
              "      <td>King Vidor</td>\n",
              "      <td>John Gilbert</td>\n",
              "      <td>Renée Adorée</td>\n",
              "      <td>Claire Adams</td>\n",
              "      <td>54</td>\n",
              "      <td>81</td>\n",
              "      <td>12</td>\n",
              "      <td>6.0</td>\n",
              "      <td>108</td>\n",
              "      <td>226</td>\n",
              "      <td>0</td>\n",
              "      <td>4849</td>\n",
              "      <td>45</td>\n",
              "      <td>48.0</td>\n",
              "      <td>8.3</td>\n",
              "    </tr>\n",
              "    <tr>\n",
              "      <th>3</th>\n",
              "      <td>Metropolis</td>\n",
              "      <td>1927</td>\n",
              "      <td>Drama|Sci-Fi</td>\n",
              "      <td>German</td>\n",
              "      <td>Germany</td>\n",
              "      <td>Not Rated</td>\n",
              "      <td>145</td>\n",
              "      <td>1.33</td>\n",
              "      <td>6000000.0</td>\n",
              "      <td>26435.0</td>\n",
              "      <td>Fritz Lang</td>\n",
              "      <td>Brigitte Helm</td>\n",
              "      <td>Gustav Fröhlich</td>\n",
              "      <td>Rudolf Klein-Rogge</td>\n",
              "      <td>756</td>\n",
              "      <td>136</td>\n",
              "      <td>23</td>\n",
              "      <td>18.0</td>\n",
              "      <td>203</td>\n",
              "      <td>12000</td>\n",
              "      <td>1</td>\n",
              "      <td>111841</td>\n",
              "      <td>413</td>\n",
              "      <td>260.0</td>\n",
              "      <td>8.3</td>\n",
              "    </tr>\n",
              "    <tr>\n",
              "      <th>4</th>\n",
              "      <td>Pandora's Box</td>\n",
              "      <td>1929</td>\n",
              "      <td>Crime|Drama|Romance</td>\n",
              "      <td>German</td>\n",
              "      <td>Germany</td>\n",
              "      <td>Not Rated</td>\n",
              "      <td>110</td>\n",
              "      <td>1.33</td>\n",
              "      <td>NaN</td>\n",
              "      <td>9950.0</td>\n",
              "      <td>Georg Wilhelm Pabst</td>\n",
              "      <td>Louise Brooks</td>\n",
              "      <td>Francis Lederer</td>\n",
              "      <td>Fritz Kortner</td>\n",
              "      <td>21</td>\n",
              "      <td>426</td>\n",
              "      <td>20</td>\n",
              "      <td>3.0</td>\n",
              "      <td>455</td>\n",
              "      <td>926</td>\n",
              "      <td>1</td>\n",
              "      <td>7431</td>\n",
              "      <td>84</td>\n",
              "      <td>71.0</td>\n",
              "      <td>8.0</td>\n",
              "    </tr>\n",
              "  </tbody>\n",
              "</table>\n",
              "</div>"
            ],
            "text/plain": [
              "                                               Title  ...  IMDB Score\n",
              "0  Intolerance: Love's Struggle Throughout the Ages   ...         8.0\n",
              "1                    Over the Hill to the Poorhouse   ...         4.8\n",
              "2                                    The Big Parade   ...         8.3\n",
              "3                                        Metropolis   ...         8.3\n",
              "4                                     Pandora's Box   ...         8.0\n",
              "\n",
              "[5 rows x 25 columns]"
            ]
          },
          "metadata": {},
          "execution_count": 12
        }
      ]
    },
    {
      "cell_type": "code",
      "metadata": {
        "id": "xPOTPU-tGaDr",
        "colab": {
          "base_uri": "https://localhost:8080/",
          "height": 382
        },
        "outputId": "05bb8d68-d14b-4e6c-8245-d38cc254e97b"
      },
      "source": [
        "movies.tail()"
      ],
      "execution_count": 13,
      "outputs": [
        {
          "output_type": "execute_result",
          "data": {
            "text/html": [
              "<div>\n",
              "<style scoped>\n",
              "    .dataframe tbody tr th:only-of-type {\n",
              "        vertical-align: middle;\n",
              "    }\n",
              "\n",
              "    .dataframe tbody tr th {\n",
              "        vertical-align: top;\n",
              "    }\n",
              "\n",
              "    .dataframe thead th {\n",
              "        text-align: right;\n",
              "    }\n",
              "</style>\n",
              "<table border=\"1\" class=\"dataframe\">\n",
              "  <thead>\n",
              "    <tr style=\"text-align: right;\">\n",
              "      <th></th>\n",
              "      <th>Title</th>\n",
              "      <th>Year</th>\n",
              "      <th>Genres</th>\n",
              "      <th>Language</th>\n",
              "      <th>Country</th>\n",
              "      <th>Content Rating</th>\n",
              "      <th>Duration</th>\n",
              "      <th>Aspect Ratio</th>\n",
              "      <th>Budget</th>\n",
              "      <th>Gross Earnings</th>\n",
              "      <th>Director</th>\n",
              "      <th>Actor 1</th>\n",
              "      <th>Actor 2</th>\n",
              "      <th>Actor 3</th>\n",
              "      <th>Facebook Likes - Director</th>\n",
              "      <th>Facebook Likes - Actor 1</th>\n",
              "      <th>Facebook Likes - Actor 2</th>\n",
              "      <th>Facebook Likes - Actor 3</th>\n",
              "      <th>Facebook Likes - cast Total</th>\n",
              "      <th>Facebook likes - Movie</th>\n",
              "      <th>Facenumber in posters</th>\n",
              "      <th>User Votes</th>\n",
              "      <th>Reviews by Users</th>\n",
              "      <th>Reviews by Crtiics</th>\n",
              "      <th>IMDB Score</th>\n",
              "    </tr>\n",
              "  </thead>\n",
              "  <tbody>\n",
              "    <tr>\n",
              "      <th>1333</th>\n",
              "      <td>Twin Falls Idaho</td>\n",
              "      <td>1999</td>\n",
              "      <td>Drama</td>\n",
              "      <td>English</td>\n",
              "      <td>USA</td>\n",
              "      <td>R</td>\n",
              "      <td>111</td>\n",
              "      <td>1.85</td>\n",
              "      <td>500000.0</td>\n",
              "      <td>985341.0</td>\n",
              "      <td>Michael Polish</td>\n",
              "      <td>Sasha Alexander</td>\n",
              "      <td>William Katt</td>\n",
              "      <td>Jon Gries</td>\n",
              "      <td>35</td>\n",
              "      <td>980</td>\n",
              "      <td>505</td>\n",
              "      <td>482.0</td>\n",
              "      <td>3166</td>\n",
              "      <td>180</td>\n",
              "      <td>0</td>\n",
              "      <td>3479</td>\n",
              "      <td>87</td>\n",
              "      <td>54.0</td>\n",
              "      <td>7.3</td>\n",
              "    </tr>\n",
              "    <tr>\n",
              "      <th>1334</th>\n",
              "      <td>Universal Soldier: The Return</td>\n",
              "      <td>1999</td>\n",
              "      <td>Action|Sci-Fi</td>\n",
              "      <td>English</td>\n",
              "      <td>USA</td>\n",
              "      <td>R</td>\n",
              "      <td>83</td>\n",
              "      <td>1.85</td>\n",
              "      <td>24000000.0</td>\n",
              "      <td>10431220.0</td>\n",
              "      <td>Mic Rodgers</td>\n",
              "      <td>Michael Jai White</td>\n",
              "      <td>Daniel von Bargen</td>\n",
              "      <td>Xander Berkeley</td>\n",
              "      <td>7</td>\n",
              "      <td>2000</td>\n",
              "      <td>577</td>\n",
              "      <td>485.0</td>\n",
              "      <td>4024</td>\n",
              "      <td>401</td>\n",
              "      <td>0</td>\n",
              "      <td>24216</td>\n",
              "      <td>162</td>\n",
              "      <td>75.0</td>\n",
              "      <td>4.1</td>\n",
              "    </tr>\n",
              "    <tr>\n",
              "      <th>1335</th>\n",
              "      <td>Varsity Blues</td>\n",
              "      <td>1999</td>\n",
              "      <td>Comedy|Drama|Romance|Sport</td>\n",
              "      <td>English</td>\n",
              "      <td>USA</td>\n",
              "      <td>R</td>\n",
              "      <td>106</td>\n",
              "      <td>1.85</td>\n",
              "      <td>16000000.0</td>\n",
              "      <td>52885587.0</td>\n",
              "      <td>Brian Robbins</td>\n",
              "      <td>Paul Walker</td>\n",
              "      <td>Ron Lester</td>\n",
              "      <td>Mark Walters</td>\n",
              "      <td>48</td>\n",
              "      <td>23000</td>\n",
              "      <td>255</td>\n",
              "      <td>35.0</td>\n",
              "      <td>23369</td>\n",
              "      <td>0</td>\n",
              "      <td>0</td>\n",
              "      <td>35312</td>\n",
              "      <td>267</td>\n",
              "      <td>67.0</td>\n",
              "      <td>6.4</td>\n",
              "    </tr>\n",
              "    <tr>\n",
              "      <th>1336</th>\n",
              "      <td>Wild Wild West</td>\n",
              "      <td>1999</td>\n",
              "      <td>Action|Comedy|Sci-Fi|Western</td>\n",
              "      <td>English</td>\n",
              "      <td>USA</td>\n",
              "      <td>PG-13</td>\n",
              "      <td>106</td>\n",
              "      <td>1.85</td>\n",
              "      <td>170000000.0</td>\n",
              "      <td>113745408.0</td>\n",
              "      <td>Barry Sonnenfeld</td>\n",
              "      <td>Will Smith</td>\n",
              "      <td>Salma Hayek</td>\n",
              "      <td>Bai Ling</td>\n",
              "      <td>188</td>\n",
              "      <td>10000</td>\n",
              "      <td>4000</td>\n",
              "      <td>582.0</td>\n",
              "      <td>15870</td>\n",
              "      <td>0</td>\n",
              "      <td>2</td>\n",
              "      <td>129601</td>\n",
              "      <td>648</td>\n",
              "      <td>85.0</td>\n",
              "      <td>4.8</td>\n",
              "    </tr>\n",
              "    <tr>\n",
              "      <th>1337</th>\n",
              "      <td>Wing Commander</td>\n",
              "      <td>1999</td>\n",
              "      <td>Action|Adventure|Sci-Fi</td>\n",
              "      <td>English</td>\n",
              "      <td>USA</td>\n",
              "      <td>PG-13</td>\n",
              "      <td>100</td>\n",
              "      <td>2.35</td>\n",
              "      <td>30000000.0</td>\n",
              "      <td>11576087.0</td>\n",
              "      <td>Chris Roberts</td>\n",
              "      <td>Saffron Burrows</td>\n",
              "      <td>David Suchet</td>\n",
              "      <td>Jürgen Prochnow</td>\n",
              "      <td>38</td>\n",
              "      <td>811</td>\n",
              "      <td>586</td>\n",
              "      <td>362.0</td>\n",
              "      <td>2497</td>\n",
              "      <td>858</td>\n",
              "      <td>3</td>\n",
              "      <td>14747</td>\n",
              "      <td>338</td>\n",
              "      <td>85.0</td>\n",
              "      <td>4.1</td>\n",
              "    </tr>\n",
              "  </tbody>\n",
              "</table>\n",
              "</div>"
            ],
            "text/plain": [
              "                               Title  Year  ... Reviews by Crtiics IMDB Score\n",
              "1333               Twin Falls Idaho   1999  ...               54.0        7.3\n",
              "1334  Universal Soldier: The Return   1999  ...               75.0        4.1\n",
              "1335                  Varsity Blues   1999  ...               67.0        6.4\n",
              "1336                 Wild Wild West   1999  ...               85.0        4.8\n",
              "1337                 Wing Commander   1999  ...               85.0        4.1\n",
              "\n",
              "[5 rows x 25 columns]"
            ]
          },
          "metadata": {},
          "execution_count": 13
        }
      ]
    },
    {
      "cell_type": "markdown",
      "metadata": {
        "id": "rh8lX4ny-Dyd"
      },
      "source": [
        "Якщо у файлі декілька таблиць (аркушів) то за допомогою аргументу sheet_name функції read_excel можна вказати назву аркуша або номер аркуша. Номери аркушів починаються з нуля. Якщо аргумент sheetname  не вказаний, то за замовчуванням він дорівнює нулю, й імпортується перший аркуш.\n",
        "\n",
        "Інший аргумент index_col функції read_excel використовується для встановлення індекса першого стовпчика. Можна залишити індекс за замовчуванням, якщо у даних немає стовпця з унікальними значеннями, який може слугувати кращим індексом. \n",
        "\n",
        "Наступний рядок дозволяє імпортувати перший аркуш."
      ]
    },
    {
      "cell_type": "code",
      "metadata": {
        "id": "Hm5YnuI6JR-f",
        "colab": {
          "base_uri": "https://localhost:8080/",
          "height": 500
        },
        "outputId": "9a5936fa-a9b0-4b32-aaea-92d33479cde6"
      },
      "source": [
        "movies_sheet1 = pd.read_excel(excel_file, sheet_name=0, index_col=0)\n",
        "movies_sheet1.head()"
      ],
      "execution_count": 15,
      "outputs": [
        {
          "output_type": "execute_result",
          "data": {
            "text/html": [
              "<div>\n",
              "<style scoped>\n",
              "    .dataframe tbody tr th:only-of-type {\n",
              "        vertical-align: middle;\n",
              "    }\n",
              "\n",
              "    .dataframe tbody tr th {\n",
              "        vertical-align: top;\n",
              "    }\n",
              "\n",
              "    .dataframe thead th {\n",
              "        text-align: right;\n",
              "    }\n",
              "</style>\n",
              "<table border=\"1\" class=\"dataframe\">\n",
              "  <thead>\n",
              "    <tr style=\"text-align: right;\">\n",
              "      <th></th>\n",
              "      <th>Year</th>\n",
              "      <th>Genres</th>\n",
              "      <th>Language</th>\n",
              "      <th>Country</th>\n",
              "      <th>Content Rating</th>\n",
              "      <th>Duration</th>\n",
              "      <th>Aspect Ratio</th>\n",
              "      <th>Budget</th>\n",
              "      <th>Gross Earnings</th>\n",
              "      <th>Director</th>\n",
              "      <th>Actor 1</th>\n",
              "      <th>Actor 2</th>\n",
              "      <th>Actor 3</th>\n",
              "      <th>Facebook Likes - Director</th>\n",
              "      <th>Facebook Likes - Actor 1</th>\n",
              "      <th>Facebook Likes - Actor 2</th>\n",
              "      <th>Facebook Likes - Actor 3</th>\n",
              "      <th>Facebook Likes - cast Total</th>\n",
              "      <th>Facebook likes - Movie</th>\n",
              "      <th>Facenumber in posters</th>\n",
              "      <th>User Votes</th>\n",
              "      <th>Reviews by Users</th>\n",
              "      <th>Reviews by Crtiics</th>\n",
              "      <th>IMDB Score</th>\n",
              "    </tr>\n",
              "    <tr>\n",
              "      <th>Title</th>\n",
              "      <th></th>\n",
              "      <th></th>\n",
              "      <th></th>\n",
              "      <th></th>\n",
              "      <th></th>\n",
              "      <th></th>\n",
              "      <th></th>\n",
              "      <th></th>\n",
              "      <th></th>\n",
              "      <th></th>\n",
              "      <th></th>\n",
              "      <th></th>\n",
              "      <th></th>\n",
              "      <th></th>\n",
              "      <th></th>\n",
              "      <th></th>\n",
              "      <th></th>\n",
              "      <th></th>\n",
              "      <th></th>\n",
              "      <th></th>\n",
              "      <th></th>\n",
              "      <th></th>\n",
              "      <th></th>\n",
              "      <th></th>\n",
              "    </tr>\n",
              "  </thead>\n",
              "  <tbody>\n",
              "    <tr>\n",
              "      <th>Intolerance: Love's Struggle Throughout the Ages</th>\n",
              "      <td>1916</td>\n",
              "      <td>Drama|History|War</td>\n",
              "      <td>NaN</td>\n",
              "      <td>USA</td>\n",
              "      <td>Not Rated</td>\n",
              "      <td>123</td>\n",
              "      <td>1.33</td>\n",
              "      <td>385907.0</td>\n",
              "      <td>NaN</td>\n",
              "      <td>D.W. Griffith</td>\n",
              "      <td>Lillian Gish</td>\n",
              "      <td>Mae Marsh</td>\n",
              "      <td>Walter Long</td>\n",
              "      <td>204</td>\n",
              "      <td>436</td>\n",
              "      <td>22</td>\n",
              "      <td>9.0</td>\n",
              "      <td>481</td>\n",
              "      <td>691</td>\n",
              "      <td>1</td>\n",
              "      <td>10718</td>\n",
              "      <td>88</td>\n",
              "      <td>69.0</td>\n",
              "      <td>8.0</td>\n",
              "    </tr>\n",
              "    <tr>\n",
              "      <th>Over the Hill to the Poorhouse</th>\n",
              "      <td>1920</td>\n",
              "      <td>Crime|Drama</td>\n",
              "      <td>NaN</td>\n",
              "      <td>USA</td>\n",
              "      <td>NaN</td>\n",
              "      <td>110</td>\n",
              "      <td>1.33</td>\n",
              "      <td>100000.0</td>\n",
              "      <td>3000000.0</td>\n",
              "      <td>Harry F. Millarde</td>\n",
              "      <td>Stephen Carr</td>\n",
              "      <td>Johnnie Walker</td>\n",
              "      <td>Mary Carr</td>\n",
              "      <td>0</td>\n",
              "      <td>2</td>\n",
              "      <td>2</td>\n",
              "      <td>0.0</td>\n",
              "      <td>4</td>\n",
              "      <td>0</td>\n",
              "      <td>1</td>\n",
              "      <td>5</td>\n",
              "      <td>1</td>\n",
              "      <td>1.0</td>\n",
              "      <td>4.8</td>\n",
              "    </tr>\n",
              "    <tr>\n",
              "      <th>The Big Parade</th>\n",
              "      <td>1925</td>\n",
              "      <td>Drama|Romance|War</td>\n",
              "      <td>NaN</td>\n",
              "      <td>USA</td>\n",
              "      <td>Not Rated</td>\n",
              "      <td>151</td>\n",
              "      <td>1.33</td>\n",
              "      <td>245000.0</td>\n",
              "      <td>NaN</td>\n",
              "      <td>King Vidor</td>\n",
              "      <td>John Gilbert</td>\n",
              "      <td>Renée Adorée</td>\n",
              "      <td>Claire Adams</td>\n",
              "      <td>54</td>\n",
              "      <td>81</td>\n",
              "      <td>12</td>\n",
              "      <td>6.0</td>\n",
              "      <td>108</td>\n",
              "      <td>226</td>\n",
              "      <td>0</td>\n",
              "      <td>4849</td>\n",
              "      <td>45</td>\n",
              "      <td>48.0</td>\n",
              "      <td>8.3</td>\n",
              "    </tr>\n",
              "    <tr>\n",
              "      <th>Metropolis</th>\n",
              "      <td>1927</td>\n",
              "      <td>Drama|Sci-Fi</td>\n",
              "      <td>German</td>\n",
              "      <td>Germany</td>\n",
              "      <td>Not Rated</td>\n",
              "      <td>145</td>\n",
              "      <td>1.33</td>\n",
              "      <td>6000000.0</td>\n",
              "      <td>26435.0</td>\n",
              "      <td>Fritz Lang</td>\n",
              "      <td>Brigitte Helm</td>\n",
              "      <td>Gustav Fröhlich</td>\n",
              "      <td>Rudolf Klein-Rogge</td>\n",
              "      <td>756</td>\n",
              "      <td>136</td>\n",
              "      <td>23</td>\n",
              "      <td>18.0</td>\n",
              "      <td>203</td>\n",
              "      <td>12000</td>\n",
              "      <td>1</td>\n",
              "      <td>111841</td>\n",
              "      <td>413</td>\n",
              "      <td>260.0</td>\n",
              "      <td>8.3</td>\n",
              "    </tr>\n",
              "    <tr>\n",
              "      <th>Pandora's Box</th>\n",
              "      <td>1929</td>\n",
              "      <td>Crime|Drama|Romance</td>\n",
              "      <td>German</td>\n",
              "      <td>Germany</td>\n",
              "      <td>Not Rated</td>\n",
              "      <td>110</td>\n",
              "      <td>1.33</td>\n",
              "      <td>NaN</td>\n",
              "      <td>9950.0</td>\n",
              "      <td>Georg Wilhelm Pabst</td>\n",
              "      <td>Louise Brooks</td>\n",
              "      <td>Francis Lederer</td>\n",
              "      <td>Fritz Kortner</td>\n",
              "      <td>21</td>\n",
              "      <td>426</td>\n",
              "      <td>20</td>\n",
              "      <td>3.0</td>\n",
              "      <td>455</td>\n",
              "      <td>926</td>\n",
              "      <td>1</td>\n",
              "      <td>7431</td>\n",
              "      <td>84</td>\n",
              "      <td>71.0</td>\n",
              "      <td>8.0</td>\n",
              "    </tr>\n",
              "  </tbody>\n",
              "</table>\n",
              "</div>"
            ],
            "text/plain": [
              "                                                   Year  ... IMDB Score\n",
              "Title                                                    ...           \n",
              "Intolerance: Love's Struggle Throughout the Ages   1916  ...        8.0\n",
              "Over the Hill to the Poorhouse                     1920  ...        4.8\n",
              "The Big Parade                                     1925  ...        8.3\n",
              "Metropolis                                         1927  ...        8.3\n",
              "Pandora's Box                                      1929  ...        8.0\n",
              "\n",
              "[5 rows x 24 columns]"
            ]
          },
          "metadata": {},
          "execution_count": 15
        }
      ]
    },
    {
      "cell_type": "markdown",
      "metadata": {
        "id": "M43hSBqiLM9T"
      },
      "source": [
        "Наступний рядок дозволяє імпортувати другий аркуш."
      ]
    },
    {
      "cell_type": "code",
      "metadata": {
        "id": "38UF1cpfJR2E",
        "colab": {
          "base_uri": "https://localhost:8080/",
          "height": 431
        },
        "outputId": "f5f38311-e7f4-441b-ac0c-53ed87c022f9"
      },
      "source": [
        "movies_sheet2 = pd.read_excel(excel_file, sheet_name=1, index_col=0)\n",
        "movies_sheet2.head()"
      ],
      "execution_count": 16,
      "outputs": [
        {
          "output_type": "execute_result",
          "data": {
            "text/html": [
              "<div>\n",
              "<style scoped>\n",
              "    .dataframe tbody tr th:only-of-type {\n",
              "        vertical-align: middle;\n",
              "    }\n",
              "\n",
              "    .dataframe tbody tr th {\n",
              "        vertical-align: top;\n",
              "    }\n",
              "\n",
              "    .dataframe thead th {\n",
              "        text-align: right;\n",
              "    }\n",
              "</style>\n",
              "<table border=\"1\" class=\"dataframe\">\n",
              "  <thead>\n",
              "    <tr style=\"text-align: right;\">\n",
              "      <th></th>\n",
              "      <th>Year</th>\n",
              "      <th>Genres</th>\n",
              "      <th>Language</th>\n",
              "      <th>Country</th>\n",
              "      <th>Content Rating</th>\n",
              "      <th>Duration</th>\n",
              "      <th>Aspect Ratio</th>\n",
              "      <th>Budget</th>\n",
              "      <th>Gross Earnings</th>\n",
              "      <th>Director</th>\n",
              "      <th>Actor 1</th>\n",
              "      <th>Actor 2</th>\n",
              "      <th>Actor 3</th>\n",
              "      <th>Facebook Likes - Director</th>\n",
              "      <th>Facebook Likes - Actor 1</th>\n",
              "      <th>Facebook Likes - Actor 2</th>\n",
              "      <th>Facebook Likes - Actor 3</th>\n",
              "      <th>Facebook Likes - cast Total</th>\n",
              "      <th>Facebook likes - Movie</th>\n",
              "      <th>Facenumber in posters</th>\n",
              "      <th>User Votes</th>\n",
              "      <th>Reviews by Users</th>\n",
              "      <th>Reviews by Crtiics</th>\n",
              "      <th>IMDB Score</th>\n",
              "    </tr>\n",
              "    <tr>\n",
              "      <th>Title</th>\n",
              "      <th></th>\n",
              "      <th></th>\n",
              "      <th></th>\n",
              "      <th></th>\n",
              "      <th></th>\n",
              "      <th></th>\n",
              "      <th></th>\n",
              "      <th></th>\n",
              "      <th></th>\n",
              "      <th></th>\n",
              "      <th></th>\n",
              "      <th></th>\n",
              "      <th></th>\n",
              "      <th></th>\n",
              "      <th></th>\n",
              "      <th></th>\n",
              "      <th></th>\n",
              "      <th></th>\n",
              "      <th></th>\n",
              "      <th></th>\n",
              "      <th></th>\n",
              "      <th></th>\n",
              "      <th></th>\n",
              "      <th></th>\n",
              "    </tr>\n",
              "  </thead>\n",
              "  <tbody>\n",
              "    <tr>\n",
              "      <th>102 Dalmatians</th>\n",
              "      <td>2000</td>\n",
              "      <td>Adventure|Comedy|Family</td>\n",
              "      <td>English</td>\n",
              "      <td>USA</td>\n",
              "      <td>G</td>\n",
              "      <td>100.0</td>\n",
              "      <td>1.85</td>\n",
              "      <td>85000000.0</td>\n",
              "      <td>66941559.0</td>\n",
              "      <td>Kevin Lima</td>\n",
              "      <td>Ioan Gruffudd</td>\n",
              "      <td>Eric Idle</td>\n",
              "      <td>Jim Carter</td>\n",
              "      <td>36</td>\n",
              "      <td>2000.0</td>\n",
              "      <td>795.0</td>\n",
              "      <td>439.0</td>\n",
              "      <td>4182</td>\n",
              "      <td>372</td>\n",
              "      <td>1</td>\n",
              "      <td>26413</td>\n",
              "      <td>77.0</td>\n",
              "      <td>84.0</td>\n",
              "      <td>4.8</td>\n",
              "    </tr>\n",
              "    <tr>\n",
              "      <th>28 Days</th>\n",
              "      <td>2000</td>\n",
              "      <td>Comedy|Drama</td>\n",
              "      <td>English</td>\n",
              "      <td>USA</td>\n",
              "      <td>PG-13</td>\n",
              "      <td>103.0</td>\n",
              "      <td>1.37</td>\n",
              "      <td>43000000.0</td>\n",
              "      <td>37035515.0</td>\n",
              "      <td>Betty Thomas</td>\n",
              "      <td>Steve Buscemi</td>\n",
              "      <td>Viggo Mortensen</td>\n",
              "      <td>Elizabeth Perkins</td>\n",
              "      <td>84</td>\n",
              "      <td>12000.0</td>\n",
              "      <td>10000.0</td>\n",
              "      <td>664.0</td>\n",
              "      <td>23864</td>\n",
              "      <td>0</td>\n",
              "      <td>1</td>\n",
              "      <td>34597</td>\n",
              "      <td>194.0</td>\n",
              "      <td>116.0</td>\n",
              "      <td>6.0</td>\n",
              "    </tr>\n",
              "    <tr>\n",
              "      <th>3 Strikes</th>\n",
              "      <td>2000</td>\n",
              "      <td>Comedy</td>\n",
              "      <td>English</td>\n",
              "      <td>USA</td>\n",
              "      <td>R</td>\n",
              "      <td>82.0</td>\n",
              "      <td>1.85</td>\n",
              "      <td>6000000.0</td>\n",
              "      <td>9821335.0</td>\n",
              "      <td>DJ Pooh</td>\n",
              "      <td>Mo'Nique</td>\n",
              "      <td>Mike Epps</td>\n",
              "      <td>Faizon Love</td>\n",
              "      <td>69</td>\n",
              "      <td>939.0</td>\n",
              "      <td>706.0</td>\n",
              "      <td>585.0</td>\n",
              "      <td>3354</td>\n",
              "      <td>118</td>\n",
              "      <td>1</td>\n",
              "      <td>1415</td>\n",
              "      <td>10.0</td>\n",
              "      <td>22.0</td>\n",
              "      <td>4.0</td>\n",
              "    </tr>\n",
              "    <tr>\n",
              "      <th>Aberdeen</th>\n",
              "      <td>2000</td>\n",
              "      <td>Drama</td>\n",
              "      <td>English</td>\n",
              "      <td>UK</td>\n",
              "      <td>NaN</td>\n",
              "      <td>106.0</td>\n",
              "      <td>1.85</td>\n",
              "      <td>6500000.0</td>\n",
              "      <td>64148.0</td>\n",
              "      <td>Hans Petter Moland</td>\n",
              "      <td>Charlotte Rampling</td>\n",
              "      <td>Sara-Marie Maltha</td>\n",
              "      <td>Stellan Skarsgård</td>\n",
              "      <td>19</td>\n",
              "      <td>844.0</td>\n",
              "      <td>2.0</td>\n",
              "      <td>0.0</td>\n",
              "      <td>846</td>\n",
              "      <td>260</td>\n",
              "      <td>0</td>\n",
              "      <td>2601</td>\n",
              "      <td>35.0</td>\n",
              "      <td>28.0</td>\n",
              "      <td>7.3</td>\n",
              "    </tr>\n",
              "    <tr>\n",
              "      <th>All the Pretty Horses</th>\n",
              "      <td>2000</td>\n",
              "      <td>Drama|Romance|Western</td>\n",
              "      <td>English</td>\n",
              "      <td>USA</td>\n",
              "      <td>PG-13</td>\n",
              "      <td>220.0</td>\n",
              "      <td>2.35</td>\n",
              "      <td>57000000.0</td>\n",
              "      <td>15527125.0</td>\n",
              "      <td>Billy Bob Thornton</td>\n",
              "      <td>Matt Damon</td>\n",
              "      <td>Henry Thomas</td>\n",
              "      <td>Sam Shepard</td>\n",
              "      <td>0</td>\n",
              "      <td>13000.0</td>\n",
              "      <td>861.0</td>\n",
              "      <td>820.0</td>\n",
              "      <td>15006</td>\n",
              "      <td>652</td>\n",
              "      <td>2</td>\n",
              "      <td>11388</td>\n",
              "      <td>183.0</td>\n",
              "      <td>85.0</td>\n",
              "      <td>5.8</td>\n",
              "    </tr>\n",
              "  </tbody>\n",
              "</table>\n",
              "</div>"
            ],
            "text/plain": [
              "                        Year  ... IMDB Score\n",
              "Title                         ...           \n",
              "102 Dalmatians          2000  ...        4.8\n",
              "28 Days                 2000  ...        6.0\n",
              "3 Strikes               2000  ...        4.0\n",
              "Aberdeen                2000  ...        7.3\n",
              "All the Pretty Horses   2000  ...        5.8\n",
              "\n",
              "[5 rows x 24 columns]"
            ]
          },
          "metadata": {},
          "execution_count": 16
        }
      ]
    },
    {
      "cell_type": "markdown",
      "metadata": {
        "id": "nBYkuQwsLkxu"
      },
      "source": [
        "Наступний рядок дозволяє імпортувати третій аркуш."
      ]
    },
    {
      "cell_type": "code",
      "metadata": {
        "id": "zoECeHqPJRuQ",
        "colab": {
          "base_uri": "https://localhost:8080/",
          "height": 936
        },
        "outputId": "02d94fba-bca5-4e1d-a0e2-c925ab6a4089"
      },
      "source": [
        "movies_sheet3 = pd.read_excel(excel_file, sheet_name=2, index_col=0)\n",
        "movies_sheet3.head(15)"
      ],
      "execution_count": 17,
      "outputs": [
        {
          "output_type": "execute_result",
          "data": {
            "text/html": [
              "<div>\n",
              "<style scoped>\n",
              "    .dataframe tbody tr th:only-of-type {\n",
              "        vertical-align: middle;\n",
              "    }\n",
              "\n",
              "    .dataframe tbody tr th {\n",
              "        vertical-align: top;\n",
              "    }\n",
              "\n",
              "    .dataframe thead th {\n",
              "        text-align: right;\n",
              "    }\n",
              "</style>\n",
              "<table border=\"1\" class=\"dataframe\">\n",
              "  <thead>\n",
              "    <tr style=\"text-align: right;\">\n",
              "      <th></th>\n",
              "      <th>Year</th>\n",
              "      <th>Genres</th>\n",
              "      <th>Language</th>\n",
              "      <th>Country</th>\n",
              "      <th>Content Rating</th>\n",
              "      <th>Duration</th>\n",
              "      <th>Aspect Ratio</th>\n",
              "      <th>Budget</th>\n",
              "      <th>Gross Earnings</th>\n",
              "      <th>Director</th>\n",
              "      <th>Actor 1</th>\n",
              "      <th>Actor 2</th>\n",
              "      <th>Actor 3</th>\n",
              "      <th>Facebook Likes - Director</th>\n",
              "      <th>Facebook Likes - Actor 1</th>\n",
              "      <th>Facebook Likes - Actor 2</th>\n",
              "      <th>Facebook Likes - Actor 3</th>\n",
              "      <th>Facebook Likes - cast Total</th>\n",
              "      <th>Facebook likes - Movie</th>\n",
              "      <th>Facenumber in posters</th>\n",
              "      <th>User Votes</th>\n",
              "      <th>Reviews by Users</th>\n",
              "      <th>Reviews by Crtiics</th>\n",
              "      <th>IMDB Score</th>\n",
              "    </tr>\n",
              "    <tr>\n",
              "      <th>Title</th>\n",
              "      <th></th>\n",
              "      <th></th>\n",
              "      <th></th>\n",
              "      <th></th>\n",
              "      <th></th>\n",
              "      <th></th>\n",
              "      <th></th>\n",
              "      <th></th>\n",
              "      <th></th>\n",
              "      <th></th>\n",
              "      <th></th>\n",
              "      <th></th>\n",
              "      <th></th>\n",
              "      <th></th>\n",
              "      <th></th>\n",
              "      <th></th>\n",
              "      <th></th>\n",
              "      <th></th>\n",
              "      <th></th>\n",
              "      <th></th>\n",
              "      <th></th>\n",
              "      <th></th>\n",
              "      <th></th>\n",
              "      <th></th>\n",
              "    </tr>\n",
              "  </thead>\n",
              "  <tbody>\n",
              "    <tr>\n",
              "      <th>127 Hours</th>\n",
              "      <td>2010.0</td>\n",
              "      <td>Adventure|Biography|Drama|Thriller</td>\n",
              "      <td>English</td>\n",
              "      <td>USA</td>\n",
              "      <td>R</td>\n",
              "      <td>94.0</td>\n",
              "      <td>1.85</td>\n",
              "      <td>18000000.0</td>\n",
              "      <td>18329466.0</td>\n",
              "      <td>Danny Boyle</td>\n",
              "      <td>James Franco</td>\n",
              "      <td>Treat Williams</td>\n",
              "      <td>Kate Burton</td>\n",
              "      <td>0.0</td>\n",
              "      <td>11000.0</td>\n",
              "      <td>642.0</td>\n",
              "      <td>223.0</td>\n",
              "      <td>11984</td>\n",
              "      <td>63000</td>\n",
              "      <td>0.0</td>\n",
              "      <td>279179</td>\n",
              "      <td>440.0</td>\n",
              "      <td>450.0</td>\n",
              "      <td>7.6</td>\n",
              "    </tr>\n",
              "    <tr>\n",
              "      <th>3 Backyards</th>\n",
              "      <td>2010.0</td>\n",
              "      <td>Drama</td>\n",
              "      <td>English</td>\n",
              "      <td>USA</td>\n",
              "      <td>R</td>\n",
              "      <td>88.0</td>\n",
              "      <td>NaN</td>\n",
              "      <td>300000.0</td>\n",
              "      <td>NaN</td>\n",
              "      <td>Eric Mendelsohn</td>\n",
              "      <td>Embeth Davidtz</td>\n",
              "      <td>Edie Falco</td>\n",
              "      <td>Kathryn Erbe</td>\n",
              "      <td>5.0</td>\n",
              "      <td>795.0</td>\n",
              "      <td>659.0</td>\n",
              "      <td>301.0</td>\n",
              "      <td>1884</td>\n",
              "      <td>92</td>\n",
              "      <td>0.0</td>\n",
              "      <td>554</td>\n",
              "      <td>23.0</td>\n",
              "      <td>20.0</td>\n",
              "      <td>5.2</td>\n",
              "    </tr>\n",
              "    <tr>\n",
              "      <th>3</th>\n",
              "      <td>2010.0</td>\n",
              "      <td>Comedy|Drama|Romance</td>\n",
              "      <td>German</td>\n",
              "      <td>Germany</td>\n",
              "      <td>Unrated</td>\n",
              "      <td>119.0</td>\n",
              "      <td>2.35</td>\n",
              "      <td>NaN</td>\n",
              "      <td>59774.0</td>\n",
              "      <td>Tom Tykwer</td>\n",
              "      <td>Devid Striesow</td>\n",
              "      <td>Sebastian Schipper</td>\n",
              "      <td>Sophie Rois</td>\n",
              "      <td>670.0</td>\n",
              "      <td>24.0</td>\n",
              "      <td>20.0</td>\n",
              "      <td>9.0</td>\n",
              "      <td>69</td>\n",
              "      <td>2000</td>\n",
              "      <td>0.0</td>\n",
              "      <td>4212</td>\n",
              "      <td>18.0</td>\n",
              "      <td>76.0</td>\n",
              "      <td>6.8</td>\n",
              "    </tr>\n",
              "    <tr>\n",
              "      <th>8: The Mormon Proposition</th>\n",
              "      <td>2010.0</td>\n",
              "      <td>Documentary</td>\n",
              "      <td>English</td>\n",
              "      <td>USA</td>\n",
              "      <td>R</td>\n",
              "      <td>80.0</td>\n",
              "      <td>1.78</td>\n",
              "      <td>2500000.0</td>\n",
              "      <td>99851.0</td>\n",
              "      <td>Reed Cowan</td>\n",
              "      <td>Dustin Lance Black</td>\n",
              "      <td>Emily Pearson</td>\n",
              "      <td>Gavin Newsom</td>\n",
              "      <td>0.0</td>\n",
              "      <td>191.0</td>\n",
              "      <td>12.0</td>\n",
              "      <td>5.0</td>\n",
              "      <td>210</td>\n",
              "      <td>0</td>\n",
              "      <td>0.0</td>\n",
              "      <td>1138</td>\n",
              "      <td>30.0</td>\n",
              "      <td>28.0</td>\n",
              "      <td>7.1</td>\n",
              "    </tr>\n",
              "    <tr>\n",
              "      <th>A Turtle's Tale: Sammy's Adventures</th>\n",
              "      <td>2010.0</td>\n",
              "      <td>Adventure|Animation|Family</td>\n",
              "      <td>English</td>\n",
              "      <td>France</td>\n",
              "      <td>PG</td>\n",
              "      <td>88.0</td>\n",
              "      <td>2.35</td>\n",
              "      <td>NaN</td>\n",
              "      <td>NaN</td>\n",
              "      <td>Ben Stassen</td>\n",
              "      <td>Ed Begley Jr.</td>\n",
              "      <td>Jenny McCarthy</td>\n",
              "      <td>Stacy Keach</td>\n",
              "      <td>4.0</td>\n",
              "      <td>783.0</td>\n",
              "      <td>749.0</td>\n",
              "      <td>602.0</td>\n",
              "      <td>3874</td>\n",
              "      <td>0</td>\n",
              "      <td>2.0</td>\n",
              "      <td>5385</td>\n",
              "      <td>22.0</td>\n",
              "      <td>56.0</td>\n",
              "      <td>6.1</td>\n",
              "    </tr>\n",
              "    <tr>\n",
              "      <th>Alice in Wonderland</th>\n",
              "      <td>2010.0</td>\n",
              "      <td>Adventure|Family|Fantasy</td>\n",
              "      <td>English</td>\n",
              "      <td>USA</td>\n",
              "      <td>PG</td>\n",
              "      <td>108.0</td>\n",
              "      <td>1.85</td>\n",
              "      <td>200000000.0</td>\n",
              "      <td>334185206.0</td>\n",
              "      <td>Tim Burton</td>\n",
              "      <td>Johnny Depp</td>\n",
              "      <td>Alan Rickman</td>\n",
              "      <td>Anne Hathaway</td>\n",
              "      <td>13000.0</td>\n",
              "      <td>40000.0</td>\n",
              "      <td>25000.0</td>\n",
              "      <td>11000.0</td>\n",
              "      <td>79957</td>\n",
              "      <td>24000</td>\n",
              "      <td>0.0</td>\n",
              "      <td>306320</td>\n",
              "      <td>736.0</td>\n",
              "      <td>451.0</td>\n",
              "      <td>6.5</td>\n",
              "    </tr>\n",
              "    <tr>\n",
              "      <th>Alice in Wonderland</th>\n",
              "      <td>2010.0</td>\n",
              "      <td>Adventure|Family|Fantasy</td>\n",
              "      <td>English</td>\n",
              "      <td>USA</td>\n",
              "      <td>PG</td>\n",
              "      <td>108.0</td>\n",
              "      <td>1.85</td>\n",
              "      <td>200000000.0</td>\n",
              "      <td>334185206.0</td>\n",
              "      <td>Tim Burton</td>\n",
              "      <td>Johnny Depp</td>\n",
              "      <td>Alan Rickman</td>\n",
              "      <td>Anne Hathaway</td>\n",
              "      <td>13000.0</td>\n",
              "      <td>40000.0</td>\n",
              "      <td>25000.0</td>\n",
              "      <td>11000.0</td>\n",
              "      <td>79957</td>\n",
              "      <td>24000</td>\n",
              "      <td>0.0</td>\n",
              "      <td>306336</td>\n",
              "      <td>736.0</td>\n",
              "      <td>451.0</td>\n",
              "      <td>6.5</td>\n",
              "    </tr>\n",
              "    <tr>\n",
              "      <th>All Good Things</th>\n",
              "      <td>2010.0</td>\n",
              "      <td>Crime|Drama|Mystery|Romance|Thriller</td>\n",
              "      <td>English</td>\n",
              "      <td>USA</td>\n",
              "      <td>R</td>\n",
              "      <td>101.0</td>\n",
              "      <td>1.85</td>\n",
              "      <td>NaN</td>\n",
              "      <td>578382.0</td>\n",
              "      <td>Andrew Jarecki</td>\n",
              "      <td>Ryan Gosling</td>\n",
              "      <td>Kirsten Dunst</td>\n",
              "      <td>Frank Langella</td>\n",
              "      <td>46.0</td>\n",
              "      <td>33000.0</td>\n",
              "      <td>4000.0</td>\n",
              "      <td>902.0</td>\n",
              "      <td>39515</td>\n",
              "      <td>0</td>\n",
              "      <td>2.0</td>\n",
              "      <td>41249</td>\n",
              "      <td>67.0</td>\n",
              "      <td>140.0</td>\n",
              "      <td>6.3</td>\n",
              "    </tr>\n",
              "    <tr>\n",
              "      <th>Alpha and Omega</th>\n",
              "      <td>2010.0</td>\n",
              "      <td>Adventure|Animation|Comedy|Family|Romance</td>\n",
              "      <td>English</td>\n",
              "      <td>USA</td>\n",
              "      <td>PG</td>\n",
              "      <td>90.0</td>\n",
              "      <td>1.85</td>\n",
              "      <td>20000000.0</td>\n",
              "      <td>25077977.0</td>\n",
              "      <td>Anthony Bell</td>\n",
              "      <td>Kevin Sussman</td>\n",
              "      <td>Larry Miller</td>\n",
              "      <td>Christine Lakin</td>\n",
              "      <td>0.0</td>\n",
              "      <td>681.0</td>\n",
              "      <td>611.0</td>\n",
              "      <td>518.0</td>\n",
              "      <td>2486</td>\n",
              "      <td>0</td>\n",
              "      <td>0.0</td>\n",
              "      <td>10986</td>\n",
              "      <td>84.0</td>\n",
              "      <td>84.0</td>\n",
              "      <td>5.3</td>\n",
              "    </tr>\n",
              "    <tr>\n",
              "      <th>Amigo</th>\n",
              "      <td>2010.0</td>\n",
              "      <td>Drama|War</td>\n",
              "      <td>English</td>\n",
              "      <td>USA</td>\n",
              "      <td>R</td>\n",
              "      <td>124.0</td>\n",
              "      <td>NaN</td>\n",
              "      <td>1700000.0</td>\n",
              "      <td>183490.0</td>\n",
              "      <td>John Sayles</td>\n",
              "      <td>Brian Lee Franklin</td>\n",
              "      <td>John Arcilla</td>\n",
              "      <td>Ronnie Lazaro</td>\n",
              "      <td>407.0</td>\n",
              "      <td>38.0</td>\n",
              "      <td>8.0</td>\n",
              "      <td>7.0</td>\n",
              "      <td>60</td>\n",
              "      <td>594</td>\n",
              "      <td>0.0</td>\n",
              "      <td>463</td>\n",
              "      <td>8.0</td>\n",
              "      <td>35.0</td>\n",
              "      <td>5.8</td>\n",
              "    </tr>\n",
              "    <tr>\n",
              "      <th>Anderson's Cross</th>\n",
              "      <td>2010.0</td>\n",
              "      <td>Comedy|Drama|Romance</td>\n",
              "      <td>English</td>\n",
              "      <td>USA</td>\n",
              "      <td>R</td>\n",
              "      <td>98.0</td>\n",
              "      <td>NaN</td>\n",
              "      <td>300000.0</td>\n",
              "      <td>NaN</td>\n",
              "      <td>Jerome Elston Scott</td>\n",
              "      <td>Taran Killam</td>\n",
              "      <td>Joanna Cassidy</td>\n",
              "      <td>Ryan Carnes</td>\n",
              "      <td>3.0</td>\n",
              "      <td>500.0</td>\n",
              "      <td>317.0</td>\n",
              "      <td>248.0</td>\n",
              "      <td>1545</td>\n",
              "      <td>7</td>\n",
              "      <td>7.0</td>\n",
              "      <td>95</td>\n",
              "      <td>7.0</td>\n",
              "      <td>8.0</td>\n",
              "      <td>7.2</td>\n",
              "    </tr>\n",
              "    <tr>\n",
              "      <th>Animals United</th>\n",
              "      <td>2010.0</td>\n",
              "      <td>Animation|Comedy|Family</td>\n",
              "      <td>German</td>\n",
              "      <td>Germany</td>\n",
              "      <td>PG</td>\n",
              "      <td>93.0</td>\n",
              "      <td>2.39</td>\n",
              "      <td>NaN</td>\n",
              "      <td>NaN</td>\n",
              "      <td>Reinhard Klooss</td>\n",
              "      <td>Jim Broadbent</td>\n",
              "      <td>Vanessa Redgrave</td>\n",
              "      <td>James Corden</td>\n",
              "      <td>7.0</td>\n",
              "      <td>1000.0</td>\n",
              "      <td>898.0</td>\n",
              "      <td>480.0</td>\n",
              "      <td>3095</td>\n",
              "      <td>885</td>\n",
              "      <td>0.0</td>\n",
              "      <td>4599</td>\n",
              "      <td>44.0</td>\n",
              "      <td>36.0</td>\n",
              "      <td>4.9</td>\n",
              "    </tr>\n",
              "    <tr>\n",
              "      <th>Another Year</th>\n",
              "      <td>2010.0</td>\n",
              "      <td>Comedy|Drama</td>\n",
              "      <td>English</td>\n",
              "      <td>UK</td>\n",
              "      <td>PG-13</td>\n",
              "      <td>129.0</td>\n",
              "      <td>2.35</td>\n",
              "      <td>10000000.0</td>\n",
              "      <td>3205244.0</td>\n",
              "      <td>Mike Leigh</td>\n",
              "      <td>Jim Broadbent</td>\n",
              "      <td>Imelda Staunton</td>\n",
              "      <td>Phil Davis</td>\n",
              "      <td>608.0</td>\n",
              "      <td>1000.0</td>\n",
              "      <td>579.0</td>\n",
              "      <td>386.0</td>\n",
              "      <td>2265</td>\n",
              "      <td>0</td>\n",
              "      <td>0.0</td>\n",
              "      <td>23629</td>\n",
              "      <td>141.0</td>\n",
              "      <td>248.0</td>\n",
              "      <td>7.3</td>\n",
              "    </tr>\n",
              "    <tr>\n",
              "      <th>Barney's Version</th>\n",
              "      <td>2010.0</td>\n",
              "      <td>Comedy|Drama</td>\n",
              "      <td>English</td>\n",
              "      <td>Canada</td>\n",
              "      <td>R</td>\n",
              "      <td>134.0</td>\n",
              "      <td>2.35</td>\n",
              "      <td>NaN</td>\n",
              "      <td>7501404.0</td>\n",
              "      <td>Richard J. Lewis</td>\n",
              "      <td>Mark Addy</td>\n",
              "      <td>Atom Egoyan</td>\n",
              "      <td>Paul Gross</td>\n",
              "      <td>12.0</td>\n",
              "      <td>891.0</td>\n",
              "      <td>460.0</td>\n",
              "      <td>329.0</td>\n",
              "      <td>1873</td>\n",
              "      <td>0</td>\n",
              "      <td>2.0</td>\n",
              "      <td>21086</td>\n",
              "      <td>87.0</td>\n",
              "      <td>193.0</td>\n",
              "      <td>7.3</td>\n",
              "    </tr>\n",
              "    <tr>\n",
              "      <th>Barry Munday</th>\n",
              "      <td>2010.0</td>\n",
              "      <td>Comedy|Drama|Romance</td>\n",
              "      <td>English</td>\n",
              "      <td>USA</td>\n",
              "      <td>R</td>\n",
              "      <td>95.0</td>\n",
              "      <td>1.85</td>\n",
              "      <td>NaN</td>\n",
              "      <td>NaN</td>\n",
              "      <td>Chris D'Arienzo</td>\n",
              "      <td>Judy Greer</td>\n",
              "      <td>Cybill Shepherd</td>\n",
              "      <td>Shea Whigham</td>\n",
              "      <td>7.0</td>\n",
              "      <td>2000.0</td>\n",
              "      <td>536.0</td>\n",
              "      <td>463.0</td>\n",
              "      <td>3648</td>\n",
              "      <td>480</td>\n",
              "      <td>2.0</td>\n",
              "      <td>3443</td>\n",
              "      <td>20.0</td>\n",
              "      <td>34.0</td>\n",
              "      <td>5.9</td>\n",
              "    </tr>\n",
              "  </tbody>\n",
              "</table>\n",
              "</div>"
            ],
            "text/plain": [
              "                                        Year  ... IMDB Score\n",
              "Title                                         ...           \n",
              "127 Hours                             2010.0  ...        7.6\n",
              "3 Backyards                           2010.0  ...        5.2\n",
              "3                                     2010.0  ...        6.8\n",
              "8: The Mormon Proposition             2010.0  ...        7.1\n",
              "A Turtle's Tale: Sammy's Adventures   2010.0  ...        6.1\n",
              "Alice in Wonderland                   2010.0  ...        6.5\n",
              "Alice in Wonderland                   2010.0  ...        6.5\n",
              "All Good Things                       2010.0  ...        6.3\n",
              "Alpha and Omega                       2010.0  ...        5.3\n",
              "Amigo                                 2010.0  ...        5.8\n",
              "Anderson's Cross                      2010.0  ...        7.2\n",
              "Animals United                        2010.0  ...        4.9\n",
              "Another Year                          2010.0  ...        7.3\n",
              "Barney's Version                      2010.0  ...        7.3\n",
              "Barry Munday                          2010.0  ...        5.9\n",
              "\n",
              "[15 rows x 24 columns]"
            ]
          },
          "metadata": {},
          "execution_count": 17
        }
      ]
    },
    {
      "cell_type": "markdown",
      "metadata": {
        "id": "G4NGADvMN42v"
      },
      "source": [
        "Оскільки, всі три таблиці містять подібні дані то можна їх об'єднати в єдиний DataFrame. Функція concat дозволяє отримати новий об'єкт який буде містити об'єднані дані. "
      ]
    },
    {
      "cell_type": "code",
      "metadata": {
        "id": "7kCEL43dJRme"
      },
      "source": [
        "movies = pd.concat([movies_sheet1, movies_sheet2, movies_sheet3])"
      ],
      "execution_count": 18,
      "outputs": []
    },
    {
      "cell_type": "markdown",
      "metadata": {
        "id": "hG6f8Z9eLL2Y"
      },
      "source": [
        "Для перевірки результату об'єднання доцільно дізнатися значення shape, яке містить розмір DataFrame. "
      ]
    },
    {
      "cell_type": "code",
      "metadata": {
        "id": "hJ6rULXHJRd3",
        "colab": {
          "base_uri": "https://localhost:8080/"
        },
        "outputId": "46a3bc57-5d5d-4b9e-dbfa-4c5a2bb5b7f1"
      },
      "source": [
        "print(movies.shape)\n",
        "print(movies_sheet1.shape, movies_sheet2.shape, movies_sheet3.shape)"
      ],
      "execution_count": 19,
      "outputs": [
        {
          "output_type": "stream",
          "name": "stdout",
          "text": [
            "(5042, 24)\n",
            "(1338, 24) (2100, 24) (1604, 24)\n"
          ]
        }
      ]
    },
    {
      "cell_type": "markdown",
      "metadata": {
        "id": "bujQ_TKTQGbT"
      },
      "source": [
        "Якщо потрібно імпортувати (прочитати) багато аркушів то потрібно скористатися класом ExcelFile."
      ]
    },
    {
      "cell_type": "code",
      "metadata": {
        "id": "ao49tiynJRVO",
        "colab": {
          "base_uri": "https://localhost:8080/"
        },
        "outputId": "34163da9-83f5-4627-f635-2f944948fd78"
      },
      "source": [
        "xlsx = pd.ExcelFile(excel_file)\n",
        "movies_sheets = []\n",
        "for sheet in xlsx.sheet_names:\n",
        "   movies_sheets.append(xlsx.parse(sheet))\n",
        "movies1 = pd.concat(movies_sheets)\n",
        "print(movies1.shape)"
      ],
      "execution_count": 20,
      "outputs": [
        {
          "output_type": "stream",
          "name": "stdout",
          "text": [
            "(5042, 25)\n"
          ]
        }
      ]
    },
    {
      "cell_type": "markdown",
      "metadata": {
        "id": "7fivfs9cQML3"
      },
      "source": [
        "## 3. Перегляд та дослідження даних"
      ]
    },
    {
      "cell_type": "markdown",
      "metadata": {
        "id": "bM0Xz3NdRYDv"
      },
      "source": [
        "З DataFrame можна працювати як з таблицею Excel. Pandas надає велике різноманіття засобів для цього."
      ]
    },
    {
      "cell_type": "code",
      "metadata": {
        "id": "stHSE0JMfwg9",
        "colab": {
          "base_uri": "https://localhost:8080/"
        },
        "outputId": "148ee3f1-40b8-4fac-a67d-a61adf65627c"
      },
      "source": [
        "movies.info() "
      ],
      "execution_count": 21,
      "outputs": [
        {
          "output_type": "stream",
          "name": "stdout",
          "text": [
            "<class 'pandas.core.frame.DataFrame'>\n",
            "Index: 5042 entries, Intolerance: Love's Struggle Throughout the Ages  to Yu-Gi-Oh! Duel Monsters             \n",
            "Data columns (total 24 columns):\n",
            " #   Column                       Non-Null Count  Dtype  \n",
            "---  ------                       --------------  -----  \n",
            " 0   Year                         4935 non-null   float64\n",
            " 1   Genres                       5042 non-null   object \n",
            " 2   Language                     5031 non-null   object \n",
            " 3   Country                      5038 non-null   object \n",
            " 4   Content Rating               4740 non-null   object \n",
            " 5   Duration                     5028 non-null   float64\n",
            " 6   Aspect Ratio                 4714 non-null   float64\n",
            " 7   Budget                       4551 non-null   float64\n",
            " 8   Gross Earnings               4159 non-null   float64\n",
            " 9   Director                     4938 non-null   object \n",
            " 10  Actor 1                      5035 non-null   object \n",
            " 11  Actor 2                      5029 non-null   object \n",
            " 12  Actor 3                      5020 non-null   object \n",
            " 13  Facebook Likes - Director    4938 non-null   float64\n",
            " 14  Facebook Likes - Actor 1     5035 non-null   float64\n",
            " 15  Facebook Likes - Actor 2     5029 non-null   float64\n",
            " 16  Facebook Likes - Actor 3     5020 non-null   float64\n",
            " 17  Facebook Likes - cast Total  5042 non-null   int64  \n",
            " 18  Facebook likes - Movie       5042 non-null   int64  \n",
            " 19  Facenumber in posters        5029 non-null   float64\n",
            " 20  User Votes                   5042 non-null   int64  \n",
            " 21  Reviews by Users             5022 non-null   float64\n",
            " 22  Reviews by Crtiics           4993 non-null   float64\n",
            " 23  IMDB Score                   5042 non-null   float64\n",
            "dtypes: float64(13), int64(3), object(8)\n",
            "memory usage: 984.8+ KB\n"
          ]
        }
      ]
    },
    {
      "cell_type": "markdown",
      "metadata": {
        "id": "s7ik5ZXvTZN7"
      },
      "source": [
        "Наприклад, аналогічно до Excel можна за допомогою методу sort_values сортувати дані."
      ]
    },
    {
      "cell_type": "code",
      "metadata": {
        "id": "61GJrVOjJRF6"
      },
      "source": [
        "sorted_by_gross = movies.sort_values(['Gross Earnings'], ascending=False)"
      ],
      "execution_count": 22,
      "outputs": []
    },
    {
      "cell_type": "markdown",
      "metadata": {
        "id": "VU_m0EnsT9Av"
      },
      "source": [
        "Оскільки дані відсортовані за Gross Earnings (валовим прибутком) то можна переглянути які фільми мали найвищі прибутки."
      ]
    },
    {
      "cell_type": "code",
      "metadata": {
        "id": "oXjKO6dhUSWF",
        "colab": {
          "base_uri": "https://localhost:8080/"
        },
        "outputId": "f94514ad-aa16-4b6e-8c58-b3830a4bfedc"
      },
      "source": [
        "sorted_by_gross[\"Gross Earnings\"].head(10)"
      ],
      "execution_count": 25,
      "outputs": [
        {
          "output_type": "execute_result",
          "data": {
            "text/plain": [
              "Title\n",
              "Avatar                                        760505847.0\n",
              "Titanic                                       658672302.0\n",
              "Jurassic World                                652177271.0\n",
              "The Avengers                                  623279547.0\n",
              "The Avengers                                  623279547.0\n",
              "The Dark Knight                               533316061.0\n",
              "Star Wars: Episode I - The Phantom Menace     474544677.0\n",
              "Star Wars: Episode IV - A New Hope            460935665.0\n",
              "Avengers: Age of Ultron                       458991599.0\n",
              "The Dark Knight Rises                         448130642.0\n",
              "Name: Gross Earnings, dtype: float64"
            ]
          },
          "metadata": {},
          "execution_count": 25
        }
      ]
    },
    {
      "cell_type": "markdown",
      "metadata": {
        "id": "1GxSrb94VP2f"
      },
      "source": [
        "Методи iloc та loc дозволяють переглядати стовпчики та рядки за їх індексами та мітками. Наприклад, щоб дізнатися який фільми мав найбільші прибутки можна переглянути відповідний рядок таблиці."
      ]
    },
    {
      "cell_type": "code",
      "metadata": {
        "id": "Bipfqp-gUm_z",
        "colab": {
          "base_uri": "https://localhost:8080/"
        },
        "outputId": "92722473-40c2-4da2-a918-53defb9ad5e0"
      },
      "source": [
        "movies.iloc[1867]"
      ],
      "execution_count": 30,
      "outputs": [
        {
          "output_type": "execute_result",
          "data": {
            "text/plain": [
              "Year                                                          2002\n",
              "Genres                         Action|Crime|Drama|Romance|Thriller\n",
              "Language                                                   English\n",
              "Country                                                     France\n",
              "Content Rating                                                   R\n",
              "Duration                                                       109\n",
              "Aspect Ratio                                                  1.85\n",
              "Budget                                                     2.5e+07\n",
              "Gross Earnings                                          3.5178e+06\n",
              "Director                                               Neil Jordan\n",
              "Actor 1                                             Emir Kusturica\n",
              "Actor 2                                             Saïd Taghmaoui\n",
              "Actor 3                                               Tchéky Karyo\n",
              "Facebook Likes - Director                                      277\n",
              "Facebook Likes - Actor 1                                      2000\n",
              "Facebook Likes - Actor 2                                       378\n",
              "Facebook Likes - Actor 3                                       345\n",
              "Facebook Likes - cast Total                                   2759\n",
              "Facebook likes - Movie                                         287\n",
              "Facenumber in posters                                            0\n",
              "User Votes                                                    9004\n",
              "Reviews by Users                                               103\n",
              "Reviews by Crtiics                                             105\n",
              "IMDB Score                                                     6.6\n",
              "Name: The Good Thief , dtype: object"
            ]
          },
          "metadata": {},
          "execution_count": 30
        }
      ]
    },
    {
      "cell_type": "code",
      "metadata": {
        "id": "C9VHa2fyKpLF",
        "colab": {
          "base_uri": "https://localhost:8080/"
        },
        "outputId": "eab09c10-e473-4474-f440-4a64fdf45b05"
      },
      "source": [
        "movies['Year']"
      ],
      "execution_count": 27,
      "outputs": [
        {
          "output_type": "execute_result",
          "data": {
            "text/plain": [
              "Title\n",
              "Intolerance: Love's Struggle Throughout the Ages     1916.0\n",
              "Over the Hill to the Poorhouse                       1920.0\n",
              "The Big Parade                                       1925.0\n",
              "Metropolis                                           1927.0\n",
              "Pandora's Box                                        1929.0\n",
              "                                                      ...  \n",
              "War & Peace                                             NaN\n",
              "Wings                                                   NaN\n",
              "Wolf Creek                                              NaN\n",
              "Wuthering Heights                                       NaN\n",
              "Yu-Gi-Oh! Duel Monsters                                 NaN\n",
              "Name: Year, Length: 5042, dtype: float64"
            ]
          },
          "metadata": {},
          "execution_count": 27
        }
      ]
    },
    {
      "cell_type": "markdown",
      "metadata": {
        "id": "H_WG-k6uVrVH"
      },
      "source": [
        "Дані часто доцільно зображати у вигляді графіків. Pandas надає такі засоби. Хоча потрібно знати що вони реалізовані з використанням бібліотеки  matplotlib"
      ]
    },
    {
      "cell_type": "code",
      "metadata": {
        "id": "p83Y0Q7oWPJx"
      },
      "source": [
        "import matplotlib.pyplot as plt"
      ],
      "execution_count": 31,
      "outputs": []
    },
    {
      "cell_type": "markdown",
      "metadata": {
        "id": "Vvt4u8swWmAQ"
      },
      "source": [
        "Наступний рядок коду дозволяє побудувати горизонтальну стовпчикову діаграму. Для цього використовується метод plot та вказується значення його аргументу kind для встановлення типу діаграми."
      ]
    },
    {
      "cell_type": "code",
      "metadata": {
        "id": "yfLRtAkYWSLz",
        "colab": {
          "base_uri": "https://localhost:8080/",
          "height": 278
        },
        "outputId": "e51d2f8a-cf93-46df-e646-7f164792a9f5"
      },
      "source": [
        "sorted_by_gross['Gross Earnings'].head(10).plot(kind=\"barh\")\n",
        "plt.show()"
      ],
      "execution_count": 32,
      "outputs": [
        {
          "output_type": "display_data",
          "data": {
            "image/png": "[encoded data removed]",
            "text/plain": [
              "<Figure size 432x288 with 1 Axes>"
            ]
          },
          "metadata": {
            "needs_background": "light"
          }
        }
      ]
    },
    {
      "cell_type": "markdown",
      "metadata": {
        "id": "KLYqu-BqXFAI"
      },
      "source": [
        "Інший тип діаграми, який можна побудувати - гістограма. Якщо у стовпчику IMDB Score зберігаються дані про рейтинги фільмів то наступна гістограма показує їх розподіл."
      ]
    },
    {
      "cell_type": "code",
      "metadata": {
        "id": "hWDq1vjrXdUQ",
        "colab": {
          "base_uri": "https://localhost:8080/",
          "height": 265
        },
        "outputId": "2658b9f0-c42d-45cb-f664-360da3ca0f2a"
      },
      "source": [
        "movies['IMDB Score'].plot(kind=\"hist\")\n",
        "plt.show()"
      ],
      "execution_count": 33,
      "outputs": [
        {
          "output_type": "display_data",
          "data": {
            "image/png": "[encoded data removed]",
            "text/plain": [
              "<Figure size 432x288 with 1 Axes>"
            ]
          },
          "metadata": {
            "needs_background": "light"
          }
        }
      ]
    },
    {
      "cell_type": "markdown",
      "metadata": {
        "id": "pKr3d0x9Xy3U"
      },
      "source": [
        "## 3. Статистичні обчислення"
      ]
    },
    {
      "cell_type": "markdown",
      "metadata": {
        "id": "aF3N5fKSYhLg"
      },
      "source": [
        "Pandas надає засоби для статистичних досліджень даних. Метод describe обчислює декілька простих значень."
      ]
    },
    {
      "cell_type": "code",
      "metadata": {
        "id": "nCrK3fqoYias",
        "colab": {
          "base_uri": "https://localhost:8080/",
          "height": 355
        },
        "outputId": "756a30e4-ce60-4300-8ae2-6753ddf48399"
      },
      "source": [
        "movies.describe()"
      ],
      "execution_count": 34,
      "outputs": [
        {
          "output_type": "execute_result",
          "data": {
            "text/html": [
              "<div>\n",
              "<style scoped>\n",
              "    .dataframe tbody tr th:only-of-type {\n",
              "        vertical-align: middle;\n",
              "    }\n",
              "\n",
              "    .dataframe tbody tr th {\n",
              "        vertical-align: top;\n",
              "    }\n",
              "\n",
              "    .dataframe thead th {\n",
              "        text-align: right;\n",
              "    }\n",
              "</style>\n",
              "<table border=\"1\" class=\"dataframe\">\n",
              "  <thead>\n",
              "    <tr style=\"text-align: right;\">\n",
              "      <th></th>\n",
              "      <th>Year</th>\n",
              "      <th>Duration</th>\n",
              "      <th>Aspect Ratio</th>\n",
              "      <th>Budget</th>\n",
              "      <th>Gross Earnings</th>\n",
              "      <th>Facebook Likes - Director</th>\n",
              "      <th>Facebook Likes - Actor 1</th>\n",
              "      <th>Facebook Likes - Actor 2</th>\n",
              "      <th>Facebook Likes - Actor 3</th>\n",
              "      <th>Facebook Likes - cast Total</th>\n",
              "      <th>Facebook likes - Movie</th>\n",
              "      <th>Facenumber in posters</th>\n",
              "      <th>User Votes</th>\n",
              "      <th>Reviews by Users</th>\n",
              "      <th>Reviews by Crtiics</th>\n",
              "      <th>IMDB Score</th>\n",
              "    </tr>\n",
              "  </thead>\n",
              "  <tbody>\n",
              "    <tr>\n",
              "      <th>count</th>\n",
              "      <td>4935.000000</td>\n",
              "      <td>5028.000000</td>\n",
              "      <td>4714.000000</td>\n",
              "      <td>4.551000e+03</td>\n",
              "      <td>4.159000e+03</td>\n",
              "      <td>4938.000000</td>\n",
              "      <td>5035.000000</td>\n",
              "      <td>5029.000000</td>\n",
              "      <td>5020.000000</td>\n",
              "      <td>5042.000000</td>\n",
              "      <td>5042.000000</td>\n",
              "      <td>5029.000000</td>\n",
              "      <td>5.042000e+03</td>\n",
              "      <td>5022.000000</td>\n",
              "      <td>4993.000000</td>\n",
              "      <td>5042.000000</td>\n",
              "    </tr>\n",
              "    <tr>\n",
              "      <th>mean</th>\n",
              "      <td>2002.470517</td>\n",
              "      <td>107.201074</td>\n",
              "      <td>2.220403</td>\n",
              "      <td>3.975262e+07</td>\n",
              "      <td>4.846841e+07</td>\n",
              "      <td>686.621709</td>\n",
              "      <td>6561.323932</td>\n",
              "      <td>1652.080533</td>\n",
              "      <td>645.009761</td>\n",
              "      <td>9700.959143</td>\n",
              "      <td>7527.457160</td>\n",
              "      <td>1.371446</td>\n",
              "      <td>8.368475e+04</td>\n",
              "      <td>272.770808</td>\n",
              "      <td>140.194272</td>\n",
              "      <td>6.442007</td>\n",
              "    </tr>\n",
              "    <tr>\n",
              "      <th>std</th>\n",
              "      <td>12.474599</td>\n",
              "      <td>25.197441</td>\n",
              "      <td>1.385113</td>\n",
              "      <td>2.061149e+08</td>\n",
              "      <td>6.845299e+07</td>\n",
              "      <td>2813.602405</td>\n",
              "      <td>15021.977635</td>\n",
              "      <td>4042.774685</td>\n",
              "      <td>1665.041728</td>\n",
              "      <td>18165.101925</td>\n",
              "      <td>19322.070537</td>\n",
              "      <td>2.013683</td>\n",
              "      <td>1.384940e+05</td>\n",
              "      <td>377.982886</td>\n",
              "      <td>121.601675</td>\n",
              "      <td>1.125189</td>\n",
              "    </tr>\n",
              "    <tr>\n",
              "      <th>min</th>\n",
              "      <td>1916.000000</td>\n",
              "      <td>7.000000</td>\n",
              "      <td>1.180000</td>\n",
              "      <td>2.180000e+02</td>\n",
              "      <td>1.620000e+02</td>\n",
              "      <td>0.000000</td>\n",
              "      <td>0.000000</td>\n",
              "      <td>0.000000</td>\n",
              "      <td>0.000000</td>\n",
              "      <td>0.000000</td>\n",
              "      <td>0.000000</td>\n",
              "      <td>0.000000</td>\n",
              "      <td>5.000000e+00</td>\n",
              "      <td>1.000000</td>\n",
              "      <td>1.000000</td>\n",
              "      <td>1.600000</td>\n",
              "    </tr>\n",
              "    <tr>\n",
              "      <th>25%</th>\n",
              "      <td>1999.000000</td>\n",
              "      <td>93.000000</td>\n",
              "      <td>1.850000</td>\n",
              "      <td>6.000000e+06</td>\n",
              "      <td>5.340988e+06</td>\n",
              "      <td>7.000000</td>\n",
              "      <td>614.500000</td>\n",
              "      <td>281.000000</td>\n",
              "      <td>133.000000</td>\n",
              "      <td>1411.250000</td>\n",
              "      <td>0.000000</td>\n",
              "      <td>0.000000</td>\n",
              "      <td>8.599250e+03</td>\n",
              "      <td>65.000000</td>\n",
              "      <td>50.000000</td>\n",
              "      <td>5.800000</td>\n",
              "    </tr>\n",
              "    <tr>\n",
              "      <th>50%</th>\n",
              "      <td>2005.000000</td>\n",
              "      <td>103.000000</td>\n",
              "      <td>2.350000</td>\n",
              "      <td>2.000000e+07</td>\n",
              "      <td>2.551750e+07</td>\n",
              "      <td>49.000000</td>\n",
              "      <td>988.000000</td>\n",
              "      <td>595.000000</td>\n",
              "      <td>371.500000</td>\n",
              "      <td>3091.000000</td>\n",
              "      <td>166.000000</td>\n",
              "      <td>1.000000</td>\n",
              "      <td>3.437100e+04</td>\n",
              "      <td>156.000000</td>\n",
              "      <td>110.000000</td>\n",
              "      <td>6.600000</td>\n",
              "    </tr>\n",
              "    <tr>\n",
              "      <th>75%</th>\n",
              "      <td>2011.000000</td>\n",
              "      <td>118.000000</td>\n",
              "      <td>2.350000</td>\n",
              "      <td>4.500000e+07</td>\n",
              "      <td>6.230944e+07</td>\n",
              "      <td>194.750000</td>\n",
              "      <td>11000.000000</td>\n",
              "      <td>918.000000</td>\n",
              "      <td>636.000000</td>\n",
              "      <td>13758.750000</td>\n",
              "      <td>3000.000000</td>\n",
              "      <td>2.000000</td>\n",
              "      <td>9.634700e+04</td>\n",
              "      <td>326.000000</td>\n",
              "      <td>195.000000</td>\n",
              "      <td>7.200000</td>\n",
              "    </tr>\n",
              "    <tr>\n",
              "      <th>max</th>\n",
              "      <td>2016.000000</td>\n",
              "      <td>511.000000</td>\n",
              "      <td>16.000000</td>\n",
              "      <td>1.221550e+10</td>\n",
              "      <td>7.605058e+08</td>\n",
              "      <td>23000.000000</td>\n",
              "      <td>640000.000000</td>\n",
              "      <td>137000.000000</td>\n",
              "      <td>23000.000000</td>\n",
              "      <td>656730.000000</td>\n",
              "      <td>349000.000000</td>\n",
              "      <td>43.000000</td>\n",
              "      <td>1.689764e+06</td>\n",
              "      <td>5060.000000</td>\n",
              "      <td>813.000000</td>\n",
              "      <td>9.500000</td>\n",
              "    </tr>\n",
              "  </tbody>\n",
              "</table>\n",
              "</div>"
            ],
            "text/plain": [
              "              Year     Duration  ...  Reviews by Crtiics   IMDB Score\n",
              "count  4935.000000  5028.000000  ...         4993.000000  5042.000000\n",
              "mean   2002.470517   107.201074  ...          140.194272     6.442007\n",
              "std      12.474599    25.197441  ...          121.601675     1.125189\n",
              "min    1916.000000     7.000000  ...            1.000000     1.600000\n",
              "25%    1999.000000    93.000000  ...           50.000000     5.800000\n",
              "50%    2005.000000   103.000000  ...          110.000000     6.600000\n",
              "75%    2011.000000   118.000000  ...          195.000000     7.200000\n",
              "max    2016.000000   511.000000  ...          813.000000     9.500000\n",
              "\n",
              "[8 rows x 16 columns]"
            ]
          },
          "metadata": {},
          "execution_count": 34
        }
      ]
    },
    {
      "cell_type": "markdown",
      "metadata": {
        "id": "kw8o_uuAZSOp"
      },
      "source": [
        "Для кожного стовпчика, який містить числові значення обчислено:\n",
        "- кількість значень у стовпчику\n",
        "- середнє значення\n",
        "- стандартне відхилення\n",
        "- мінімальне та максимальне значення\n",
        "- квантилі"
      ]
    },
    {
      "cell_type": "markdown",
      "metadata": {
        "id": "jnIiV1iAa6u7"
      },
      "source": [
        "Якщо потрібно провести окремі обчислення для певних стовпців то можна скористатися відповідними методами."
      ]
    },
    {
      "cell_type": "code",
      "metadata": {
        "id": "zWMp61yjbJ6o",
        "colab": {
          "base_uri": "https://localhost:8080/"
        },
        "outputId": "4ba02570-0027-4bb2-99d8-df94c66e997f"
      },
      "source": [
        "movies[\"Gross Earnings\"].mean()"
      ],
      "execution_count": 35,
      "outputs": [
        {
          "output_type": "execute_result",
          "data": {
            "text/plain": [
              "48468407.52680933"
            ]
          },
          "metadata": {},
          "execution_count": 35
        }
      ]
    },
    {
      "cell_type": "markdown",
      "metadata": {
        "id": "5GJX0796Xyre"
      },
      "source": [
        "## 4. Читання фрагментів таблиць"
      ]
    },
    {
      "cell_type": "markdown",
      "metadata": {
        "id": "PFPDOt6KbtRf"
      },
      "source": [
        "Якщо таблиця не містить заголовків стовпців або містить рядки без даних, то при читанні такої таблиці потрібно опустити пусті рядки та вказати pandas не розглядати перший рядок як рядок заголовків стовпців таблиці."
      ]
    },
    {
      "cell_type": "code",
      "metadata": {
        "id": "pKohwgjXbtpG",
        "colab": {
          "base_uri": "https://localhost:8080/",
          "height": 365
        },
        "outputId": "fbc621f6-59c1-4209-9f6b-558ea94c64df"
      },
      "source": [
        "movies_skip_rows = pd.read_excel(\"/content/drive/MyDrive/Data/movies-no-header-skip-rows.xls\", header=None, skiprows=6)\n",
        "movies_skip_rows.head(5)"
      ],
      "execution_count": 37,
      "outputs": [
        {
          "output_type": "execute_result",
          "data": {
            "text/html": [
              "<div>\n",
              "<style scoped>\n",
              "    .dataframe tbody tr th:only-of-type {\n",
              "        vertical-align: middle;\n",
              "    }\n",
              "\n",
              "    .dataframe tbody tr th {\n",
              "        vertical-align: top;\n",
              "    }\n",
              "\n",
              "    .dataframe thead th {\n",
              "        text-align: right;\n",
              "    }\n",
              "</style>\n",
              "<table border=\"1\" class=\"dataframe\">\n",
              "  <thead>\n",
              "    <tr style=\"text-align: right;\">\n",
              "      <th></th>\n",
              "      <th>0</th>\n",
              "      <th>1</th>\n",
              "      <th>2</th>\n",
              "      <th>3</th>\n",
              "      <th>4</th>\n",
              "      <th>5</th>\n",
              "      <th>6</th>\n",
              "      <th>7</th>\n",
              "      <th>8</th>\n",
              "      <th>9</th>\n",
              "      <th>10</th>\n",
              "      <th>11</th>\n",
              "      <th>12</th>\n",
              "      <th>13</th>\n",
              "      <th>14</th>\n",
              "      <th>15</th>\n",
              "      <th>16</th>\n",
              "      <th>17</th>\n",
              "      <th>18</th>\n",
              "      <th>19</th>\n",
              "      <th>20</th>\n",
              "      <th>21</th>\n",
              "      <th>22</th>\n",
              "      <th>23</th>\n",
              "      <th>24</th>\n",
              "    </tr>\n",
              "  </thead>\n",
              "  <tbody>\n",
              "    <tr>\n",
              "      <th>0</th>\n",
              "      <td>127 Hours</td>\n",
              "      <td>2010</td>\n",
              "      <td>Adventure|Biography|Drama|Thriller</td>\n",
              "      <td>English</td>\n",
              "      <td>USA</td>\n",
              "      <td>R</td>\n",
              "      <td>94</td>\n",
              "      <td>1.85</td>\n",
              "      <td>18000000.0</td>\n",
              "      <td>18329466.0</td>\n",
              "      <td>Danny Boyle</td>\n",
              "      <td>James Franco</td>\n",
              "      <td>Treat Williams</td>\n",
              "      <td>Kate Burton</td>\n",
              "      <td>0</td>\n",
              "      <td>11000</td>\n",
              "      <td>642</td>\n",
              "      <td>223</td>\n",
              "      <td>11984</td>\n",
              "      <td>63000</td>\n",
              "      <td>0</td>\n",
              "      <td>279179</td>\n",
              "      <td>440</td>\n",
              "      <td>450</td>\n",
              "      <td>7.6</td>\n",
              "    </tr>\n",
              "    <tr>\n",
              "      <th>1</th>\n",
              "      <td>3 Backyards</td>\n",
              "      <td>2010</td>\n",
              "      <td>Drama</td>\n",
              "      <td>English</td>\n",
              "      <td>USA</td>\n",
              "      <td>R</td>\n",
              "      <td>88</td>\n",
              "      <td>NaN</td>\n",
              "      <td>300000.0</td>\n",
              "      <td>NaN</td>\n",
              "      <td>Eric Mendelsohn</td>\n",
              "      <td>Embeth Davidtz</td>\n",
              "      <td>Edie Falco</td>\n",
              "      <td>Kathryn Erbe</td>\n",
              "      <td>5</td>\n",
              "      <td>795</td>\n",
              "      <td>659</td>\n",
              "      <td>301</td>\n",
              "      <td>1884</td>\n",
              "      <td>92</td>\n",
              "      <td>0</td>\n",
              "      <td>554</td>\n",
              "      <td>23</td>\n",
              "      <td>20</td>\n",
              "      <td>5.2</td>\n",
              "    </tr>\n",
              "    <tr>\n",
              "      <th>2</th>\n",
              "      <td>3</td>\n",
              "      <td>2010</td>\n",
              "      <td>Comedy|Drama|Romance</td>\n",
              "      <td>German</td>\n",
              "      <td>Germany</td>\n",
              "      <td>Unrated</td>\n",
              "      <td>119</td>\n",
              "      <td>2.35</td>\n",
              "      <td>NaN</td>\n",
              "      <td>59774.0</td>\n",
              "      <td>Tom Tykwer</td>\n",
              "      <td>Devid Striesow</td>\n",
              "      <td>Sebastian Schipper</td>\n",
              "      <td>Sophie Rois</td>\n",
              "      <td>670</td>\n",
              "      <td>24</td>\n",
              "      <td>20</td>\n",
              "      <td>9</td>\n",
              "      <td>69</td>\n",
              "      <td>2000</td>\n",
              "      <td>0</td>\n",
              "      <td>4212</td>\n",
              "      <td>18</td>\n",
              "      <td>76</td>\n",
              "      <td>6.8</td>\n",
              "    </tr>\n",
              "    <tr>\n",
              "      <th>3</th>\n",
              "      <td>8: The Mormon Proposition</td>\n",
              "      <td>2010</td>\n",
              "      <td>Documentary</td>\n",
              "      <td>English</td>\n",
              "      <td>USA</td>\n",
              "      <td>R</td>\n",
              "      <td>80</td>\n",
              "      <td>1.78</td>\n",
              "      <td>2500000.0</td>\n",
              "      <td>99851.0</td>\n",
              "      <td>Reed Cowan</td>\n",
              "      <td>Dustin Lance Black</td>\n",
              "      <td>Emily Pearson</td>\n",
              "      <td>Gavin Newsom</td>\n",
              "      <td>0</td>\n",
              "      <td>191</td>\n",
              "      <td>12</td>\n",
              "      <td>5</td>\n",
              "      <td>210</td>\n",
              "      <td>0</td>\n",
              "      <td>0</td>\n",
              "      <td>1138</td>\n",
              "      <td>30</td>\n",
              "      <td>28</td>\n",
              "      <td>7.1</td>\n",
              "    </tr>\n",
              "    <tr>\n",
              "      <th>4</th>\n",
              "      <td>A Turtle's Tale: Sammy's Adventures</td>\n",
              "      <td>2010</td>\n",
              "      <td>Adventure|Animation|Family</td>\n",
              "      <td>English</td>\n",
              "      <td>France</td>\n",
              "      <td>PG</td>\n",
              "      <td>88</td>\n",
              "      <td>2.35</td>\n",
              "      <td>NaN</td>\n",
              "      <td>NaN</td>\n",
              "      <td>Ben Stassen</td>\n",
              "      <td>Ed Begley Jr.</td>\n",
              "      <td>Jenny McCarthy</td>\n",
              "      <td>Stacy Keach</td>\n",
              "      <td>4</td>\n",
              "      <td>783</td>\n",
              "      <td>749</td>\n",
              "      <td>602</td>\n",
              "      <td>3874</td>\n",
              "      <td>0</td>\n",
              "      <td>2</td>\n",
              "      <td>5385</td>\n",
              "      <td>22</td>\n",
              "      <td>56</td>\n",
              "      <td>6.1</td>\n",
              "    </tr>\n",
              "  </tbody>\n",
              "</table>\n",
              "</div>"
            ],
            "text/plain": [
              "                                     0     1   ...   23   24\n",
              "0                            127 Hours   2010  ...  450  7.6\n",
              "1                          3 Backyards   2010  ...   20  5.2\n",
              "2                                    3   2010  ...   76  6.8\n",
              "3            8: The Mormon Proposition   2010  ...   28  7.1\n",
              "4  A Turtle's Tale: Sammy's Adventures   2010  ...   56  6.1\n",
              "\n",
              "[5 rows x 25 columns]"
            ]
          },
          "metadata": {},
          "execution_count": 37
        }
      ]
    },
    {
      "cell_type": "markdown",
      "metadata": {
        "id": "0YUnctmwfDmu"
      },
      "source": [
        "Для опущення рядків у кінці таблиці використовується параметр skip_footer."
      ]
    },
    {
      "cell_type": "markdown",
      "metadata": {
        "id": "ND-SQqPhf3fh"
      },
      "source": [
        "Стовпці у DataFrame movies_skip_rows мають числові назви. Якщо потрібно надати їм інші значення то метод columns дозволяє це зробити."
      ]
    },
    {
      "cell_type": "code",
      "metadata": {
        "id": "U-4QsC0cfSAr",
        "colab": {
          "base_uri": "https://localhost:8080/",
          "height": 417
        },
        "outputId": "99f259fd-6dc4-4a96-ed3d-a991116f07b8"
      },
      "source": [
        "movies_skip_rows.columns = ['Title', 'Year', 'Genres', 'Language', 'Country', 'Content Rating', 'Duration', 'Aspect Ratio', 'Budget', 'Gross Earnings', 'Director', 'Actor 1', 'Actor 2', 'Actor 3', 'Facebook Likes - Director', 'Facebook Likes - Actor 1', 'Facebook Likes - Actor 2', 'Facebook Likes - Actor 3', 'Facebook Likes - cast Total', 'Facebook likes - Movie', 'Facenumber in posters', 'User Votes', 'Reviews by Users', 'Reviews by Crtiics', 'IMDB Score']\n",
        "movies_skip_rows.head()"
      ],
      "execution_count": 38,
      "outputs": [
        {
          "output_type": "execute_result",
          "data": {
            "text/html": [
              "<div>\n",
              "<style scoped>\n",
              "    .dataframe tbody tr th:only-of-type {\n",
              "        vertical-align: middle;\n",
              "    }\n",
              "\n",
              "    .dataframe tbody tr th {\n",
              "        vertical-align: top;\n",
              "    }\n",
              "\n",
              "    .dataframe thead th {\n",
              "        text-align: right;\n",
              "    }\n",
              "</style>\n",
              "<table border=\"1\" class=\"dataframe\">\n",
              "  <thead>\n",
              "    <tr style=\"text-align: right;\">\n",
              "      <th></th>\n",
              "      <th>Title</th>\n",
              "      <th>Year</th>\n",
              "      <th>Genres</th>\n",
              "      <th>Language</th>\n",
              "      <th>Country</th>\n",
              "      <th>Content Rating</th>\n",
              "      <th>Duration</th>\n",
              "      <th>Aspect Ratio</th>\n",
              "      <th>Budget</th>\n",
              "      <th>Gross Earnings</th>\n",
              "      <th>Director</th>\n",
              "      <th>Actor 1</th>\n",
              "      <th>Actor 2</th>\n",
              "      <th>Actor 3</th>\n",
              "      <th>Facebook Likes - Director</th>\n",
              "      <th>Facebook Likes - Actor 1</th>\n",
              "      <th>Facebook Likes - Actor 2</th>\n",
              "      <th>Facebook Likes - Actor 3</th>\n",
              "      <th>Facebook Likes - cast Total</th>\n",
              "      <th>Facebook likes - Movie</th>\n",
              "      <th>Facenumber in posters</th>\n",
              "      <th>User Votes</th>\n",
              "      <th>Reviews by Users</th>\n",
              "      <th>Reviews by Crtiics</th>\n",
              "      <th>IMDB Score</th>\n",
              "    </tr>\n",
              "  </thead>\n",
              "  <tbody>\n",
              "    <tr>\n",
              "      <th>0</th>\n",
              "      <td>127 Hours</td>\n",
              "      <td>2010</td>\n",
              "      <td>Adventure|Biography|Drama|Thriller</td>\n",
              "      <td>English</td>\n",
              "      <td>USA</td>\n",
              "      <td>R</td>\n",
              "      <td>94</td>\n",
              "      <td>1.85</td>\n",
              "      <td>18000000.0</td>\n",
              "      <td>18329466.0</td>\n",
              "      <td>Danny Boyle</td>\n",
              "      <td>James Franco</td>\n",
              "      <td>Treat Williams</td>\n",
              "      <td>Kate Burton</td>\n",
              "      <td>0</td>\n",
              "      <td>11000</td>\n",
              "      <td>642</td>\n",
              "      <td>223</td>\n",
              "      <td>11984</td>\n",
              "      <td>63000</td>\n",
              "      <td>0</td>\n",
              "      <td>279179</td>\n",
              "      <td>440</td>\n",
              "      <td>450</td>\n",
              "      <td>7.6</td>\n",
              "    </tr>\n",
              "    <tr>\n",
              "      <th>1</th>\n",
              "      <td>3 Backyards</td>\n",
              "      <td>2010</td>\n",
              "      <td>Drama</td>\n",
              "      <td>English</td>\n",
              "      <td>USA</td>\n",
              "      <td>R</td>\n",
              "      <td>88</td>\n",
              "      <td>NaN</td>\n",
              "      <td>300000.0</td>\n",
              "      <td>NaN</td>\n",
              "      <td>Eric Mendelsohn</td>\n",
              "      <td>Embeth Davidtz</td>\n",
              "      <td>Edie Falco</td>\n",
              "      <td>Kathryn Erbe</td>\n",
              "      <td>5</td>\n",
              "      <td>795</td>\n",
              "      <td>659</td>\n",
              "      <td>301</td>\n",
              "      <td>1884</td>\n",
              "      <td>92</td>\n",
              "      <td>0</td>\n",
              "      <td>554</td>\n",
              "      <td>23</td>\n",
              "      <td>20</td>\n",
              "      <td>5.2</td>\n",
              "    </tr>\n",
              "    <tr>\n",
              "      <th>2</th>\n",
              "      <td>3</td>\n",
              "      <td>2010</td>\n",
              "      <td>Comedy|Drama|Romance</td>\n",
              "      <td>German</td>\n",
              "      <td>Germany</td>\n",
              "      <td>Unrated</td>\n",
              "      <td>119</td>\n",
              "      <td>2.35</td>\n",
              "      <td>NaN</td>\n",
              "      <td>59774.0</td>\n",
              "      <td>Tom Tykwer</td>\n",
              "      <td>Devid Striesow</td>\n",
              "      <td>Sebastian Schipper</td>\n",
              "      <td>Sophie Rois</td>\n",
              "      <td>670</td>\n",
              "      <td>24</td>\n",
              "      <td>20</td>\n",
              "      <td>9</td>\n",
              "      <td>69</td>\n",
              "      <td>2000</td>\n",
              "      <td>0</td>\n",
              "      <td>4212</td>\n",
              "      <td>18</td>\n",
              "      <td>76</td>\n",
              "      <td>6.8</td>\n",
              "    </tr>\n",
              "    <tr>\n",
              "      <th>3</th>\n",
              "      <td>8: The Mormon Proposition</td>\n",
              "      <td>2010</td>\n",
              "      <td>Documentary</td>\n",
              "      <td>English</td>\n",
              "      <td>USA</td>\n",
              "      <td>R</td>\n",
              "      <td>80</td>\n",
              "      <td>1.78</td>\n",
              "      <td>2500000.0</td>\n",
              "      <td>99851.0</td>\n",
              "      <td>Reed Cowan</td>\n",
              "      <td>Dustin Lance Black</td>\n",
              "      <td>Emily Pearson</td>\n",
              "      <td>Gavin Newsom</td>\n",
              "      <td>0</td>\n",
              "      <td>191</td>\n",
              "      <td>12</td>\n",
              "      <td>5</td>\n",
              "      <td>210</td>\n",
              "      <td>0</td>\n",
              "      <td>0</td>\n",
              "      <td>1138</td>\n",
              "      <td>30</td>\n",
              "      <td>28</td>\n",
              "      <td>7.1</td>\n",
              "    </tr>\n",
              "    <tr>\n",
              "      <th>4</th>\n",
              "      <td>A Turtle's Tale: Sammy's Adventures</td>\n",
              "      <td>2010</td>\n",
              "      <td>Adventure|Animation|Family</td>\n",
              "      <td>English</td>\n",
              "      <td>France</td>\n",
              "      <td>PG</td>\n",
              "      <td>88</td>\n",
              "      <td>2.35</td>\n",
              "      <td>NaN</td>\n",
              "      <td>NaN</td>\n",
              "      <td>Ben Stassen</td>\n",
              "      <td>Ed Begley Jr.</td>\n",
              "      <td>Jenny McCarthy</td>\n",
              "      <td>Stacy Keach</td>\n",
              "      <td>4</td>\n",
              "      <td>783</td>\n",
              "      <td>749</td>\n",
              "      <td>602</td>\n",
              "      <td>3874</td>\n",
              "      <td>0</td>\n",
              "      <td>2</td>\n",
              "      <td>5385</td>\n",
              "      <td>22</td>\n",
              "      <td>56</td>\n",
              "      <td>6.1</td>\n",
              "    </tr>\n",
              "  </tbody>\n",
              "</table>\n",
              "</div>"
            ],
            "text/plain": [
              "                                  Title  Year  ... Reviews by Crtiics IMDB Score\n",
              "0                            127 Hours   2010  ...                450        7.6\n",
              "1                          3 Backyards   2010  ...                 20        5.2\n",
              "2                                    3   2010  ...                 76        6.8\n",
              "3            8: The Mormon Proposition   2010  ...                 28        7.1\n",
              "4  A Turtle's Tale: Sammy's Adventures   2010  ...                 56        6.1\n",
              "\n",
              "[5 rows x 25 columns]"
            ]
          },
          "metadata": {},
          "execution_count": 38
        }
      ]
    },
    {
      "cell_type": "markdown",
      "metadata": {
        "id": "goPRNBG8XygQ"
      },
      "source": [
        "## 5. Читання окремих стовпців"
      ]
    },
    {
      "cell_type": "markdown",
      "metadata": {
        "id": "k7CwqP-NgbI5"
      },
      "source": [
        "Для читання окремих стовпців потрібно скористатися параметром usecols. Значення цього параметра вказує на індекси стовпців, що будуть імпортовані."
      ]
    },
    {
      "cell_type": "code",
      "metadata": {
        "id": "LYAgCM6uhC0s",
        "colab": {
          "base_uri": "https://localhost:8080/",
          "height": 206
        },
        "outputId": "5b56c8e3-7844-4f6b-b217-2cb1b616498e"
      },
      "source": [
        "movies_subset_columns = pd.read_excel(excel_file, usecols=[0,1,2,3,4,5,6])\n",
        "movies_subset_columns.head()"
      ],
      "execution_count": 39,
      "outputs": [
        {
          "output_type": "execute_result",
          "data": {
            "text/html": [
              "<div>\n",
              "<style scoped>\n",
              "    .dataframe tbody tr th:only-of-type {\n",
              "        vertical-align: middle;\n",
              "    }\n",
              "\n",
              "    .dataframe tbody tr th {\n",
              "        vertical-align: top;\n",
              "    }\n",
              "\n",
              "    .dataframe thead th {\n",
              "        text-align: right;\n",
              "    }\n",
              "</style>\n",
              "<table border=\"1\" class=\"dataframe\">\n",
              "  <thead>\n",
              "    <tr style=\"text-align: right;\">\n",
              "      <th></th>\n",
              "      <th>Title</th>\n",
              "      <th>Year</th>\n",
              "      <th>Genres</th>\n",
              "      <th>Language</th>\n",
              "      <th>Country</th>\n",
              "      <th>Content Rating</th>\n",
              "      <th>Duration</th>\n",
              "    </tr>\n",
              "  </thead>\n",
              "  <tbody>\n",
              "    <tr>\n",
              "      <th>0</th>\n",
              "      <td>Intolerance: Love's Struggle Throughout the Ages</td>\n",
              "      <td>1916</td>\n",
              "      <td>Drama|History|War</td>\n",
              "      <td>NaN</td>\n",
              "      <td>USA</td>\n",
              "      <td>Not Rated</td>\n",
              "      <td>123</td>\n",
              "    </tr>\n",
              "    <tr>\n",
              "      <th>1</th>\n",
              "      <td>Over the Hill to the Poorhouse</td>\n",
              "      <td>1920</td>\n",
              "      <td>Crime|Drama</td>\n",
              "      <td>NaN</td>\n",
              "      <td>USA</td>\n",
              "      <td>NaN</td>\n",
              "      <td>110</td>\n",
              "    </tr>\n",
              "    <tr>\n",
              "      <th>2</th>\n",
              "      <td>The Big Parade</td>\n",
              "      <td>1925</td>\n",
              "      <td>Drama|Romance|War</td>\n",
              "      <td>NaN</td>\n",
              "      <td>USA</td>\n",
              "      <td>Not Rated</td>\n",
              "      <td>151</td>\n",
              "    </tr>\n",
              "    <tr>\n",
              "      <th>3</th>\n",
              "      <td>Metropolis</td>\n",
              "      <td>1927</td>\n",
              "      <td>Drama|Sci-Fi</td>\n",
              "      <td>German</td>\n",
              "      <td>Germany</td>\n",
              "      <td>Not Rated</td>\n",
              "      <td>145</td>\n",
              "    </tr>\n",
              "    <tr>\n",
              "      <th>4</th>\n",
              "      <td>Pandora's Box</td>\n",
              "      <td>1929</td>\n",
              "      <td>Crime|Drama|Romance</td>\n",
              "      <td>German</td>\n",
              "      <td>Germany</td>\n",
              "      <td>Not Rated</td>\n",
              "      <td>110</td>\n",
              "    </tr>\n",
              "  </tbody>\n",
              "</table>\n",
              "</div>"
            ],
            "text/plain": [
              "                                               Title  ...  Duration\n",
              "0  Intolerance: Love's Struggle Throughout the Ages   ...       123\n",
              "1                    Over the Hill to the Poorhouse   ...       110\n",
              "2                                    The Big Parade   ...       151\n",
              "3                                        Metropolis   ...       145\n",
              "4                                     Pandora's Box   ...       110\n",
              "\n",
              "[5 rows x 7 columns]"
            ]
          },
          "metadata": {},
          "execution_count": 39
        }
      ]
    },
    {
      "cell_type": "markdown",
      "metadata": {
        "id": "biNxTCmcXyVO"
      },
      "source": [
        "## 6. Прості обчислення"
      ]
    },
    {
      "cell_type": "markdown",
      "metadata": {
        "id": "BU8sIMq1ilQI"
      },
      "source": [
        "Значення у стовпчиках можна використовувати для різноманітних обчислень. Для отримання інформації про прибутковість фільмів потрібно знайти різницю між валовим прибутком та бюджетом фільмів. На основі знаходження різниці між значеннями у стовпцях Gross Earnings та Budget буде додано до таблиці новий стовпець Net Earnings. "
      ]
    },
    {
      "cell_type": "code",
      "metadata": {
        "id": "szy6Z9Ixikb2",
        "colab": {
          "base_uri": "https://localhost:8080/",
          "height": 500
        },
        "outputId": "91af8be3-5472-43a9-8ae0-8b85f1706571"
      },
      "source": [
        "movies[\"Net Earnings\"] = movies[\"Gross Earnings\"] - movies[\"Budget\"]\n",
        "movies.head()"
      ],
      "execution_count": 40,
      "outputs": [
        {
          "output_type": "execute_result",
          "data": {
            "text/html": [
              "<div>\n",
              "<style scoped>\n",
              "    .dataframe tbody tr th:only-of-type {\n",
              "        vertical-align: middle;\n",
              "    }\n",
              "\n",
              "    .dataframe tbody tr th {\n",
              "        vertical-align: top;\n",
              "    }\n",
              "\n",
              "    .dataframe thead th {\n",
              "        text-align: right;\n",
              "    }\n",
              "</style>\n",
              "<table border=\"1\" class=\"dataframe\">\n",
              "  <thead>\n",
              "    <tr style=\"text-align: right;\">\n",
              "      <th></th>\n",
              "      <th>Year</th>\n",
              "      <th>Genres</th>\n",
              "      <th>Language</th>\n",
              "      <th>Country</th>\n",
              "      <th>Content Rating</th>\n",
              "      <th>Duration</th>\n",
              "      <th>Aspect Ratio</th>\n",
              "      <th>Budget</th>\n",
              "      <th>Gross Earnings</th>\n",
              "      <th>Director</th>\n",
              "      <th>Actor 1</th>\n",
              "      <th>Actor 2</th>\n",
              "      <th>Actor 3</th>\n",
              "      <th>Facebook Likes - Director</th>\n",
              "      <th>Facebook Likes - Actor 1</th>\n",
              "      <th>Facebook Likes - Actor 2</th>\n",
              "      <th>Facebook Likes - Actor 3</th>\n",
              "      <th>Facebook Likes - cast Total</th>\n",
              "      <th>Facebook likes - Movie</th>\n",
              "      <th>Facenumber in posters</th>\n",
              "      <th>User Votes</th>\n",
              "      <th>Reviews by Users</th>\n",
              "      <th>Reviews by Crtiics</th>\n",
              "      <th>IMDB Score</th>\n",
              "      <th>Net Earnings</th>\n",
              "    </tr>\n",
              "    <tr>\n",
              "      <th>Title</th>\n",
              "      <th></th>\n",
              "      <th></th>\n",
              "      <th></th>\n",
              "      <th></th>\n",
              "      <th></th>\n",
              "      <th></th>\n",
              "      <th></th>\n",
              "      <th></th>\n",
              "      <th></th>\n",
              "      <th></th>\n",
              "      <th></th>\n",
              "      <th></th>\n",
              "      <th></th>\n",
              "      <th></th>\n",
              "      <th></th>\n",
              "      <th></th>\n",
              "      <th></th>\n",
              "      <th></th>\n",
              "      <th></th>\n",
              "      <th></th>\n",
              "      <th></th>\n",
              "      <th></th>\n",
              "      <th></th>\n",
              "      <th></th>\n",
              "      <th></th>\n",
              "    </tr>\n",
              "  </thead>\n",
              "  <tbody>\n",
              "    <tr>\n",
              "      <th>Intolerance: Love's Struggle Throughout the Ages</th>\n",
              "      <td>1916.0</td>\n",
              "      <td>Drama|History|War</td>\n",
              "      <td>NaN</td>\n",
              "      <td>USA</td>\n",
              "      <td>Not Rated</td>\n",
              "      <td>123.0</td>\n",
              "      <td>1.33</td>\n",
              "      <td>385907.0</td>\n",
              "      <td>NaN</td>\n",
              "      <td>D.W. Griffith</td>\n",
              "      <td>Lillian Gish</td>\n",
              "      <td>Mae Marsh</td>\n",
              "      <td>Walter Long</td>\n",
              "      <td>204.0</td>\n",
              "      <td>436.0</td>\n",
              "      <td>22.0</td>\n",
              "      <td>9.0</td>\n",
              "      <td>481</td>\n",
              "      <td>691</td>\n",
              "      <td>1.0</td>\n",
              "      <td>10718</td>\n",
              "      <td>88.0</td>\n",
              "      <td>69.0</td>\n",
              "      <td>8.0</td>\n",
              "      <td>NaN</td>\n",
              "    </tr>\n",
              "    <tr>\n",
              "      <th>Over the Hill to the Poorhouse</th>\n",
              "      <td>1920.0</td>\n",
              "      <td>Crime|Drama</td>\n",
              "      <td>NaN</td>\n",
              "      <td>USA</td>\n",
              "      <td>NaN</td>\n",
              "      <td>110.0</td>\n",
              "      <td>1.33</td>\n",
              "      <td>100000.0</td>\n",
              "      <td>3000000.0</td>\n",
              "      <td>Harry F. Millarde</td>\n",
              "      <td>Stephen Carr</td>\n",
              "      <td>Johnnie Walker</td>\n",
              "      <td>Mary Carr</td>\n",
              "      <td>0.0</td>\n",
              "      <td>2.0</td>\n",
              "      <td>2.0</td>\n",
              "      <td>0.0</td>\n",
              "      <td>4</td>\n",
              "      <td>0</td>\n",
              "      <td>1.0</td>\n",
              "      <td>5</td>\n",
              "      <td>1.0</td>\n",
              "      <td>1.0</td>\n",
              "      <td>4.8</td>\n",
              "      <td>2900000.0</td>\n",
              "    </tr>\n",
              "    <tr>\n",
              "      <th>The Big Parade</th>\n",
              "      <td>1925.0</td>\n",
              "      <td>Drama|Romance|War</td>\n",
              "      <td>NaN</td>\n",
              "      <td>USA</td>\n",
              "      <td>Not Rated</td>\n",
              "      <td>151.0</td>\n",
              "      <td>1.33</td>\n",
              "      <td>245000.0</td>\n",
              "      <td>NaN</td>\n",
              "      <td>King Vidor</td>\n",
              "      <td>John Gilbert</td>\n",
              "      <td>Renée Adorée</td>\n",
              "      <td>Claire Adams</td>\n",
              "      <td>54.0</td>\n",
              "      <td>81.0</td>\n",
              "      <td>12.0</td>\n",
              "      <td>6.0</td>\n",
              "      <td>108</td>\n",
              "      <td>226</td>\n",
              "      <td>0.0</td>\n",
              "      <td>4849</td>\n",
              "      <td>45.0</td>\n",
              "      <td>48.0</td>\n",
              "      <td>8.3</td>\n",
              "      <td>NaN</td>\n",
              "    </tr>\n",
              "    <tr>\n",
              "      <th>Metropolis</th>\n",
              "      <td>1927.0</td>\n",
              "      <td>Drama|Sci-Fi</td>\n",
              "      <td>German</td>\n",
              "      <td>Germany</td>\n",
              "      <td>Not Rated</td>\n",
              "      <td>145.0</td>\n",
              "      <td>1.33</td>\n",
              "      <td>6000000.0</td>\n",
              "      <td>26435.0</td>\n",
              "      <td>Fritz Lang</td>\n",
              "      <td>Brigitte Helm</td>\n",
              "      <td>Gustav Fröhlich</td>\n",
              "      <td>Rudolf Klein-Rogge</td>\n",
              "      <td>756.0</td>\n",
              "      <td>136.0</td>\n",
              "      <td>23.0</td>\n",
              "      <td>18.0</td>\n",
              "      <td>203</td>\n",
              "      <td>12000</td>\n",
              "      <td>1.0</td>\n",
              "      <td>111841</td>\n",
              "      <td>413.0</td>\n",
              "      <td>260.0</td>\n",
              "      <td>8.3</td>\n",
              "      <td>-5973565.0</td>\n",
              "    </tr>\n",
              "    <tr>\n",
              "      <th>Pandora's Box</th>\n",
              "      <td>1929.0</td>\n",
              "      <td>Crime|Drama|Romance</td>\n",
              "      <td>German</td>\n",
              "      <td>Germany</td>\n",
              "      <td>Not Rated</td>\n",
              "      <td>110.0</td>\n",
              "      <td>1.33</td>\n",
              "      <td>NaN</td>\n",
              "      <td>9950.0</td>\n",
              "      <td>Georg Wilhelm Pabst</td>\n",
              "      <td>Louise Brooks</td>\n",
              "      <td>Francis Lederer</td>\n",
              "      <td>Fritz Kortner</td>\n",
              "      <td>21.0</td>\n",
              "      <td>426.0</td>\n",
              "      <td>20.0</td>\n",
              "      <td>3.0</td>\n",
              "      <td>455</td>\n",
              "      <td>926</td>\n",
              "      <td>1.0</td>\n",
              "      <td>7431</td>\n",
              "      <td>84.0</td>\n",
              "      <td>71.0</td>\n",
              "      <td>8.0</td>\n",
              "      <td>NaN</td>\n",
              "    </tr>\n",
              "  </tbody>\n",
              "</table>\n",
              "</div>"
            ],
            "text/plain": [
              "                                                     Year  ... Net Earnings\n",
              "Title                                                      ...             \n",
              "Intolerance: Love's Struggle Throughout the Ages   1916.0  ...          NaN\n",
              "Over the Hill to the Poorhouse                     1920.0  ...    2900000.0\n",
              "The Big Parade                                     1925.0  ...          NaN\n",
              "Metropolis                                         1927.0  ...   -5973565.0\n",
              "Pandora's Box                                      1929.0  ...          NaN\n",
              "\n",
              "[5 rows x 25 columns]"
            ]
          },
          "metadata": {},
          "execution_count": 40
        }
      ]
    },
    {
      "cell_type": "markdown",
      "metadata": {
        "id": "NABMrngQimfZ"
      },
      "source": [
        "Для порівнняння отриманих результатів доцільно побудувати діаграму"
      ]
    },
    {
      "cell_type": "code",
      "metadata": {
        "id": "QWDrv51qgZcV",
        "colab": {
          "base_uri": "https://localhost:8080/",
          "height": 278
        },
        "outputId": "05865fa8-81c5-4725-c5dc-e1e16b765c29"
      },
      "source": [
        "sorted_movies = movies[['Net Earnings']].sort_values(['Net Earnings'], ascending=[False])\n",
        "sorted_movies.head(10)['Net Earnings'].plot.barh()\n",
        "plt.show()"
      ],
      "execution_count": 41,
      "outputs": [
        {
          "output_type": "display_data",
          "data": {
            "image/png": "[encoded data removed]",
            "text/plain": [
              "<Figure size 432x288 with 1 Axes>"
            ]
          },
          "metadata": {
            "needs_background": "light"
          }
        }
      ]
    },
    {
      "cell_type": "markdown",
      "metadata": {
        "id": "2ntEq4t7XyKJ"
      },
      "source": [
        "## 7. Зведені таблиці"
      ]
    },
    {
      "cell_type": "markdown",
      "metadata": {
        "id": "zxBGI-LLnnvl"
      },
      "source": [
        "Зведена таблиця містить дані іншої таблиці, які  згруповані за індексом та до яких застосовані такі операції, як сортування, підсумовування або усереднення.\n",
        "\n",
        "Для побудови зведеної таблиці потрібно спочатку визначити стовпчик або стовпці, які будуть індексами, та стовпець, до якого буде застосована формула. Якщо вибрати Year як стовпець індексу та Gross Earnings як стовпець для пісумовування то можна створити з цих даних окремий DataFrame."
      ]
    },
    {
      "cell_type": "code",
      "metadata": {
        "id": "mtVddtW_pQJG",
        "colab": {
          "base_uri": "https://localhost:8080/",
          "height": 708
        },
        "outputId": "492bb079-38d8-4a16-d192-671546b6bcc0"
      },
      "source": [
        "movies_subset = movies[['Year', 'Gross Earnings']]\n",
        "movies_subset.head(20)"
      ],
      "execution_count": 42,
      "outputs": [
        {
          "output_type": "execute_result",
          "data": {
            "text/html": [
              "<div>\n",
              "<style scoped>\n",
              "    .dataframe tbody tr th:only-of-type {\n",
              "        vertical-align: middle;\n",
              "    }\n",
              "\n",
              "    .dataframe tbody tr th {\n",
              "        vertical-align: top;\n",
              "    }\n",
              "\n",
              "    .dataframe thead th {\n",
              "        text-align: right;\n",
              "    }\n",
              "</style>\n",
              "<table border=\"1\" class=\"dataframe\">\n",
              "  <thead>\n",
              "    <tr style=\"text-align: right;\">\n",
              "      <th></th>\n",
              "      <th>Year</th>\n",
              "      <th>Gross Earnings</th>\n",
              "    </tr>\n",
              "    <tr>\n",
              "      <th>Title</th>\n",
              "      <th></th>\n",
              "      <th></th>\n",
              "    </tr>\n",
              "  </thead>\n",
              "  <tbody>\n",
              "    <tr>\n",
              "      <th>Intolerance: Love's Struggle Throughout the Ages</th>\n",
              "      <td>1916.0</td>\n",
              "      <td>NaN</td>\n",
              "    </tr>\n",
              "    <tr>\n",
              "      <th>Over the Hill to the Poorhouse</th>\n",
              "      <td>1920.0</td>\n",
              "      <td>3000000.0</td>\n",
              "    </tr>\n",
              "    <tr>\n",
              "      <th>The Big Parade</th>\n",
              "      <td>1925.0</td>\n",
              "      <td>NaN</td>\n",
              "    </tr>\n",
              "    <tr>\n",
              "      <th>Metropolis</th>\n",
              "      <td>1927.0</td>\n",
              "      <td>26435.0</td>\n",
              "    </tr>\n",
              "    <tr>\n",
              "      <th>Pandora's Box</th>\n",
              "      <td>1929.0</td>\n",
              "      <td>9950.0</td>\n",
              "    </tr>\n",
              "    <tr>\n",
              "      <th>The Broadway Melody</th>\n",
              "      <td>1929.0</td>\n",
              "      <td>2808000.0</td>\n",
              "    </tr>\n",
              "    <tr>\n",
              "      <th>Hell's Angels</th>\n",
              "      <td>1930.0</td>\n",
              "      <td>NaN</td>\n",
              "    </tr>\n",
              "    <tr>\n",
              "      <th>A Farewell to Arms</th>\n",
              "      <td>1932.0</td>\n",
              "      <td>NaN</td>\n",
              "    </tr>\n",
              "    <tr>\n",
              "      <th>42nd Street</th>\n",
              "      <td>1933.0</td>\n",
              "      <td>2300000.0</td>\n",
              "    </tr>\n",
              "    <tr>\n",
              "      <th>She Done Him Wrong</th>\n",
              "      <td>1933.0</td>\n",
              "      <td>NaN</td>\n",
              "    </tr>\n",
              "    <tr>\n",
              "      <th>It Happened One Night</th>\n",
              "      <td>1934.0</td>\n",
              "      <td>NaN</td>\n",
              "    </tr>\n",
              "    <tr>\n",
              "      <th>Top Hat</th>\n",
              "      <td>1935.0</td>\n",
              "      <td>3000000.0</td>\n",
              "    </tr>\n",
              "    <tr>\n",
              "      <th>Modern Times</th>\n",
              "      <td>1936.0</td>\n",
              "      <td>163245.0</td>\n",
              "    </tr>\n",
              "    <tr>\n",
              "      <th>The Charge of the Light Brigade</th>\n",
              "      <td>1936.0</td>\n",
              "      <td>NaN</td>\n",
              "    </tr>\n",
              "    <tr>\n",
              "      <th>Snow White and the Seven Dwarfs</th>\n",
              "      <td>1937.0</td>\n",
              "      <td>184925485.0</td>\n",
              "    </tr>\n",
              "    <tr>\n",
              "      <th>The Prisoner of Zenda</th>\n",
              "      <td>1937.0</td>\n",
              "      <td>NaN</td>\n",
              "    </tr>\n",
              "    <tr>\n",
              "      <th>Alexander's Ragtime Band</th>\n",
              "      <td>1938.0</td>\n",
              "      <td>NaN</td>\n",
              "    </tr>\n",
              "    <tr>\n",
              "      <th>You Can't Take It with You</th>\n",
              "      <td>1938.0</td>\n",
              "      <td>NaN</td>\n",
              "    </tr>\n",
              "    <tr>\n",
              "      <th>Gone with the Wind</th>\n",
              "      <td>1939.0</td>\n",
              "      <td>198655278.0</td>\n",
              "    </tr>\n",
              "    <tr>\n",
              "      <th>Mr. Smith Goes to Washington</th>\n",
              "      <td>1939.0</td>\n",
              "      <td>NaN</td>\n",
              "    </tr>\n",
              "  </tbody>\n",
              "</table>\n",
              "</div>"
            ],
            "text/plain": [
              "                                                     Year  Gross Earnings\n",
              "Title                                                                    \n",
              "Intolerance: Love's Struggle Throughout the Ages   1916.0             NaN\n",
              "Over the Hill to the Poorhouse                     1920.0       3000000.0\n",
              "The Big Parade                                     1925.0             NaN\n",
              "Metropolis                                         1927.0         26435.0\n",
              "Pandora's Box                                      1929.0          9950.0\n",
              "The Broadway Melody                                1929.0       2808000.0\n",
              "Hell's Angels                                      1930.0             NaN\n",
              "A Farewell to Arms                                 1932.0             NaN\n",
              "42nd Street                                        1933.0       2300000.0\n",
              "She Done Him Wrong                                 1933.0             NaN\n",
              "It Happened One Night                              1934.0             NaN\n",
              "Top Hat                                            1935.0       3000000.0\n",
              "Modern Times                                       1936.0        163245.0\n",
              "The Charge of the Light Brigade                    1936.0             NaN\n",
              "Snow White and the Seven Dwarfs                    1937.0     184925485.0\n",
              "The Prisoner of Zenda                              1937.0             NaN\n",
              "Alexander's Ragtime Band                           1938.0             NaN\n",
              "You Can't Take It with You                         1938.0             NaN\n",
              "Gone with the Wind                                 1939.0     198655278.0\n",
              "Mr. Smith Goes to Washington                       1939.0             NaN"
            ]
          },
          "metadata": {},
          "execution_count": 42
        }
      ]
    },
    {
      "cell_type": "markdown",
      "metadata": {
        "id": "52r2S-1Ip-XT"
      },
      "source": [
        "Тепре можна отримати зведену таблицю"
      ]
    },
    {
      "cell_type": "code",
      "metadata": {
        "id": "aMYG9CWupRj6",
        "colab": {
          "base_uri": "https://localhost:8080/",
          "height": 237
        },
        "outputId": "60bd1150-be6a-4f17-8750-d47757162f53"
      },
      "source": [
        "earnings_by_year = movies_subset.pivot_table(index=['Year'])\n",
        "earnings_by_year.head()"
      ],
      "execution_count": 43,
      "outputs": [
        {
          "output_type": "execute_result",
          "data": {
            "text/html": [
              "<div>\n",
              "<style scoped>\n",
              "    .dataframe tbody tr th:only-of-type {\n",
              "        vertical-align: middle;\n",
              "    }\n",
              "\n",
              "    .dataframe tbody tr th {\n",
              "        vertical-align: top;\n",
              "    }\n",
              "\n",
              "    .dataframe thead th {\n",
              "        text-align: right;\n",
              "    }\n",
              "</style>\n",
              "<table border=\"1\" class=\"dataframe\">\n",
              "  <thead>\n",
              "    <tr style=\"text-align: right;\">\n",
              "      <th></th>\n",
              "      <th>Gross Earnings</th>\n",
              "    </tr>\n",
              "    <tr>\n",
              "      <th>Year</th>\n",
              "      <th></th>\n",
              "    </tr>\n",
              "  </thead>\n",
              "  <tbody>\n",
              "    <tr>\n",
              "      <th>1920.0</th>\n",
              "      <td>3000000.0</td>\n",
              "    </tr>\n",
              "    <tr>\n",
              "      <th>1927.0</th>\n",
              "      <td>26435.0</td>\n",
              "    </tr>\n",
              "    <tr>\n",
              "      <th>1929.0</th>\n",
              "      <td>1408975.0</td>\n",
              "    </tr>\n",
              "    <tr>\n",
              "      <th>1933.0</th>\n",
              "      <td>2300000.0</td>\n",
              "    </tr>\n",
              "    <tr>\n",
              "      <th>1935.0</th>\n",
              "      <td>3000000.0</td>\n",
              "    </tr>\n",
              "  </tbody>\n",
              "</table>\n",
              "</div>"
            ],
            "text/plain": [
              "        Gross Earnings\n",
              "Year                  \n",
              "1920.0       3000000.0\n",
              "1927.0         26435.0\n",
              "1929.0       1408975.0\n",
              "1933.0       2300000.0\n",
              "1935.0       3000000.0"
            ]
          },
          "metadata": {},
          "execution_count": 43
        }
      ]
    },
    {
      "cell_type": "markdown",
      "metadata": {
        "id": "RH5KEgr3qEpX"
      },
      "source": [
        "Графічно ця інформація виглядає наступним чином"
      ]
    },
    {
      "cell_type": "code",
      "metadata": {
        "id": "9Cy1keLqqcYO",
        "colab": {
          "base_uri": "https://localhost:8080/",
          "height": 290
        },
        "outputId": "1c3cc861-8aba-435f-ee08-9bc599583ee2"
      },
      "source": [
        "earnings_by_year.plot()\n",
        "plt.show()"
      ],
      "execution_count": 44,
      "outputs": [
        {
          "output_type": "display_data",
          "data": {
            "image/png": "[encoded data removed]",
            "text/plain": [
              "<Figure size 432x288 with 1 Axes>"
            ]
          },
          "metadata": {
            "needs_background": "light"
          }
        }
      ]
    },
    {
      "cell_type": "markdown",
      "metadata": {
        "id": "GkdyLOlEqEam"
      },
      "source": [
        "Подібні обчислення можна провести для декількох стовпців. Наприклад спочатку побудуємо DataFrame на основі даних зі стовпців Country, Language та Gross Earnings"
      ]
    },
    {
      "cell_type": "code",
      "metadata": {
        "id": "fF7JZZ9drNqv",
        "colab": {
          "base_uri": "https://localhost:8080/",
          "height": 237
        },
        "outputId": "ef379d7e-1e9b-49b4-e61f-9ec76e1f3b1d"
      },
      "source": [
        "movies_subset = movies[['Country', 'Language', 'Gross Earnings']]\n",
        "movies_subset.head()"
      ],
      "execution_count": 45,
      "outputs": [
        {
          "output_type": "execute_result",
          "data": {
            "text/html": [
              "<div>\n",
              "<style scoped>\n",
              "    .dataframe tbody tr th:only-of-type {\n",
              "        vertical-align: middle;\n",
              "    }\n",
              "\n",
              "    .dataframe tbody tr th {\n",
              "        vertical-align: top;\n",
              "    }\n",
              "\n",
              "    .dataframe thead th {\n",
              "        text-align: right;\n",
              "    }\n",
              "</style>\n",
              "<table border=\"1\" class=\"dataframe\">\n",
              "  <thead>\n",
              "    <tr style=\"text-align: right;\">\n",
              "      <th></th>\n",
              "      <th>Country</th>\n",
              "      <th>Language</th>\n",
              "      <th>Gross Earnings</th>\n",
              "    </tr>\n",
              "    <tr>\n",
              "      <th>Title</th>\n",
              "      <th></th>\n",
              "      <th></th>\n",
              "      <th></th>\n",
              "    </tr>\n",
              "  </thead>\n",
              "  <tbody>\n",
              "    <tr>\n",
              "      <th>Intolerance: Love's Struggle Throughout the Ages</th>\n",
              "      <td>USA</td>\n",
              "      <td>NaN</td>\n",
              "      <td>NaN</td>\n",
              "    </tr>\n",
              "    <tr>\n",
              "      <th>Over the Hill to the Poorhouse</th>\n",
              "      <td>USA</td>\n",
              "      <td>NaN</td>\n",
              "      <td>3000000.0</td>\n",
              "    </tr>\n",
              "    <tr>\n",
              "      <th>The Big Parade</th>\n",
              "      <td>USA</td>\n",
              "      <td>NaN</td>\n",
              "      <td>NaN</td>\n",
              "    </tr>\n",
              "    <tr>\n",
              "      <th>Metropolis</th>\n",
              "      <td>Germany</td>\n",
              "      <td>German</td>\n",
              "      <td>26435.0</td>\n",
              "    </tr>\n",
              "    <tr>\n",
              "      <th>Pandora's Box</th>\n",
              "      <td>Germany</td>\n",
              "      <td>German</td>\n",
              "      <td>9950.0</td>\n",
              "    </tr>\n",
              "  </tbody>\n",
              "</table>\n",
              "</div>"
            ],
            "text/plain": [
              "                                                   Country  ... Gross Earnings\n",
              "Title                                                       ...               \n",
              "Intolerance: Love's Struggle Throughout the Ages       USA  ...            NaN\n",
              "Over the Hill to the Poorhouse                         USA  ...      3000000.0\n",
              "The Big Parade                                         USA  ...            NaN\n",
              "Metropolis                                         Germany  ...        26435.0\n",
              "Pandora's Box                                      Germany  ...         9950.0\n",
              "\n",
              "[5 rows x 3 columns]"
            ]
          },
          "metadata": {},
          "execution_count": 45
        }
      ]
    },
    {
      "cell_type": "markdown",
      "metadata": {
        "id": "xM3roxWTrUOX"
      },
      "source": [
        "Якщо використати два стовпці як індекс то можна отримати зведенну таблицю з відповідною інформацією"
      ]
    },
    {
      "cell_type": "code",
      "metadata": {
        "id": "1TCl-M_MrqRd",
        "colab": {
          "base_uri": "https://localhost:8080/",
          "height": 237
        },
        "outputId": "6dc2169b-4d64-4efb-faa9-54467fecd44b"
      },
      "source": [
        "earnings_by_co_lang = movies_subset.pivot_table(index=['Country', 'Language'])\n",
        "earnings_by_co_lang.head()"
      ],
      "execution_count": 46,
      "outputs": [
        {
          "output_type": "execute_result",
          "data": {
            "text/html": [
              "<div>\n",
              "<style scoped>\n",
              "    .dataframe tbody tr th:only-of-type {\n",
              "        vertical-align: middle;\n",
              "    }\n",
              "\n",
              "    .dataframe tbody tr th {\n",
              "        vertical-align: top;\n",
              "    }\n",
              "\n",
              "    .dataframe thead th {\n",
              "        text-align: right;\n",
              "    }\n",
              "</style>\n",
              "<table border=\"1\" class=\"dataframe\">\n",
              "  <thead>\n",
              "    <tr style=\"text-align: right;\">\n",
              "      <th></th>\n",
              "      <th></th>\n",
              "      <th>Gross Earnings</th>\n",
              "    </tr>\n",
              "    <tr>\n",
              "      <th>Country</th>\n",
              "      <th>Language</th>\n",
              "      <th></th>\n",
              "    </tr>\n",
              "  </thead>\n",
              "  <tbody>\n",
              "    <tr>\n",
              "      <th>Afghanistan</th>\n",
              "      <th>Dari</th>\n",
              "      <td>1.127331e+06</td>\n",
              "    </tr>\n",
              "    <tr>\n",
              "      <th>Argentina</th>\n",
              "      <th>Spanish</th>\n",
              "      <td>7.230936e+06</td>\n",
              "    </tr>\n",
              "    <tr>\n",
              "      <th>Aruba</th>\n",
              "      <th>English</th>\n",
              "      <td>1.007614e+07</td>\n",
              "    </tr>\n",
              "    <tr>\n",
              "      <th rowspan=\"2\" valign=\"top\">Australia</th>\n",
              "      <th>Aboriginal</th>\n",
              "      <td>6.165429e+06</td>\n",
              "    </tr>\n",
              "    <tr>\n",
              "      <th>Dzongkha</th>\n",
              "      <td>5.052950e+05</td>\n",
              "    </tr>\n",
              "  </tbody>\n",
              "</table>\n",
              "</div>"
            ],
            "text/plain": [
              "                        Gross Earnings\n",
              "Country     Language                  \n",
              "Afghanistan Dari          1.127331e+06\n",
              "Argentina   Spanish       7.230936e+06\n",
              "Aruba       English       1.007614e+07\n",
              "Australia   Aboriginal    6.165429e+06\n",
              "            Dzongkha      5.052950e+05"
            ]
          },
          "metadata": {},
          "execution_count": 46
        }
      ]
    },
    {
      "cell_type": "code",
      "metadata": {
        "id": "A00yHIOJruHS",
        "colab": {
          "base_uri": "https://localhost:8080/",
          "height": 624
        },
        "outputId": "2265e1c6-d864-44ea-f427-67853d613e17"
      },
      "source": [
        "earnings_by_co_lang.head(40).plot(kind='bar', figsize=(20,8))\n",
        "plt.show()"
      ],
      "execution_count": 49,
      "outputs": [
        {
          "output_type": "display_data",
          "data": {
            "image/png": "[encoded data removed]",
            "text/plain": [
              "<Figure size 1440x576 with 1 Axes>"
            ]
          },
          "metadata": {
            "needs_background": "light"
          }
        }
      ]
    },
    {
      "cell_type": "code",
      "metadata": {
        "id": "jmrQEFyUsFCT",
        "colab": {
          "base_uri": "https://localhost:8080/",
          "height": 278
        },
        "outputId": "a02aeeff-39af-4d3b-9cff-81098b6d86e2"
      },
      "source": [
        "sorted_movies = earnings_by_co_lang[['Gross Earnings']].sort_values(['Gross Earnings'], ascending=[False])\n",
        "sorted_movies.head(10)['Gross Earnings'].plot.barh()\n",
        "plt.show()"
      ],
      "execution_count": 50,
      "outputs": [
        {
          "output_type": "display_data",
          "data": {
            "image/png": "[encoded data removed]",
            "text/plain": [
              "<Figure size 432x288 with 1 Axes>"
            ]
          },
          "metadata": {
            "needs_background": "light"
          }
        }
      ]
    },
    {
      "cell_type": "markdown",
      "metadata": {
        "id": "mhKWGhxPXx-a"
      },
      "source": [
        "## 8. Екcпорт даних"
      ]
    },
    {
      "cell_type": "markdown",
      "metadata": {
        "id": "u2qbcewYtZ5j"
      },
      "source": [
        "Результати опрацювання даних можна зберегти або експортувати у різноманітні формати. В pandas реалізовано методи для експорту даних у csv та Excel файли, LaTex та HTML таблиці, та інші .\n",
        "\n",
        "Наступний приклад демонструє як експортувати об'єкт DataFrame у Excel файл. "
      ]
    },
    {
      "cell_type": "code",
      "metadata": {
        "id": "7aBpSFIWwJ-V"
      },
      "source": [
        "movies.to_excel('/content/drive/MyDrive/Data/output.xlsx')"
      ],
      "execution_count": 52,
      "outputs": []
    },
    {
      "cell_type": "markdown",
      "metadata": {
        "id": "p3QAGsVExcM5"
      },
      "source": [
        "За потреби можна опустити перший стовпчик, який містить індекси рядків."
      ]
    },
    {
      "cell_type": "code",
      "metadata": {
        "id": "jelUV0YXxsIE"
      },
      "source": [
        "movies.to_excel('//content/drive/MyDrive/Data/output.xlsx', index=False)"
      ],
      "execution_count": 53,
      "outputs": []
    },
    {
      "cell_type": "markdown",
      "metadata": {
        "id": "bXQacFVJo5_3"
      },
      "source": [
        "## Використання pandas початкової обробки даних з файлів csv \n",
        "(на основі Tutorial 2: Data Manipulation with pandas курсу Statistical Learning and Data Mining)"
      ]
    },
    {
      "cell_type": "markdown",
      "metadata": {
        "id": "wLiu9tAdufpZ"
      },
      "source": [
        "### 1. Набір даних\n",
        "\n",
        "Використовується набір даних Credit.csv з підручника http://www-bcf.usc.edu/~gareth/ISL/index.html \n",
        "Набір даних містить інформацію про стан кредитних карток (баланс на кінець місяця та інформація про власника).  \n",
        "\n",
        "### 2. Імпортування даних\n",
        "\n",
        "Pandas надає засоби для роботи з файлами різних типів."
      ]
    },
    {
      "cell_type": "markdown",
      "metadata": {
        "id": "CaOgLlHRufpv"
      },
      "source": [
        "Набір даних у форматі `csv` й потрібно використовувати функцію pandas <a href=\"http://pandas.pydata.org/pandas-docs/stable/generated/pandas.read_csv.html\" target=\"_blank\">read_csv</a> для імпортування даних з файлу. Функція дозволяє автоматично прочитати назви стовпців у файлі та визначити типи змінних. Змінна `data` буде містити посилання на об'єкт типу `DataFrame`, який буде використовуватися для збереження набору даних."
      ]
    },
    {
      "cell_type": "code",
      "metadata": {
        "id": "WEyQhERzufp0",
        "colab": {
          "base_uri": "https://localhost:8080/"
        },
        "outputId": "ff904055-7d58-4f35-ba79-b3a5a6bd9d73"
      },
      "source": [
        "# We will always assume that the data file is in a real path\n",
        "path = '/content/drive/MyDrive/Data/Credit.csv'\n",
        "data = pd.read_csv(path)\n",
        "type(data)"
      ],
      "execution_count": 54,
      "outputs": [
        {
          "output_type": "execute_result",
          "data": {
            "text/plain": [
              "pandas.core.frame.DataFrame"
            ]
          },
          "metadata": {},
          "execution_count": 54
        }
      ]
    },
    {
      "cell_type": "markdown",
      "metadata": {
        "id": "K5_meOzrufqD"
      },
      "source": [
        "Для встановлення шляху до файла доцільно скористатися командою `pwd` щоб дізнатися з якого місця виконується блокнот. Якщо файл з даними знаходиться у тій самій теці що блокнот можна викликати функцію безпосередньо вказавши назву файла як шлях `pd.read_csv('Credit.csv')`."
      ]
    },
    {
      "cell_type": "code",
      "metadata": {
        "id": "sk8hON2uCxMB",
        "colab": {
          "base_uri": "https://localhost:8080/",
          "height": 36
        },
        "outputId": "3a09d577-7461-4274-92eb-3ae8743c7783"
      },
      "source": [
        "pwd"
      ],
      "execution_count": 55,
      "outputs": [
        {
          "output_type": "execute_result",
          "data": {
            "application/vnd.google.colaboratory.intrinsic+json": {
              "type": "string"
            },
            "text/plain": [
              "'/content/drive'"
            ]
          },
          "metadata": {},
          "execution_count": 55
        }
      ]
    },
    {
      "cell_type": "code",
      "metadata": {
        "id": "cWDUfUmrG9Xj"
      },
      "source": [
        "# To get help on any function or object, append a question mark to it and run the cell.\n",
        "pd.read_csv?"
      ],
      "execution_count": 56,
      "outputs": []
    },
    {
      "cell_type": "markdown",
      "metadata": {
        "id": "K8jwWkuoufqH"
      },
      "source": [
        "Набір даних Credit.csv доволі простий, але при роботі з іншими файлами виклик функції `read_csv` може бути набагато складнішим. В документації можна побачити, яка кількість аргументів може бути використана.\n",
        "\n",
        "Pandas надає й інші спеціальні функції для роботи з файлами різних типів, наприклад для Excel файлів. За наступним посиланням можна переглянути перелік цих функцій <a href=\"http://pandas.pydata.org/pandas-docs/stable/io.html\" target=\"_blank\">here</a>. Функція  <a href=\"http://pandas.pydata.org/pandas-docs/stable/generated/pandas.read_table.html#pandas.read_table\" target=\"_blank\">read table</a> дозволяє отримати дані з текстового файлу де стовпчики відділені пробілами. Для роботи з реляційними базами даних [relational database](https://en.wikipedia.org/wiki/Relational_database), дані з яких не завжди зберігаються на локальному комп'ютері можна використовувати функції `read_sql_table`, `read_sql_query`, та `read_sql`.  "
      ]
    },
    {
      "cell_type": "markdown",
      "metadata": {
        "id": "GwOmWH1GufqK"
      },
      "source": [
        "### 3. Перегляд даних\n",
        "\n",
        "Структура даних pandas `DataFrame` має багато спільного з табличними даними (наприклад, таблиці в Excel). Однак на противагу до таблиць немає можливості клацнути на комірку та змінити її значення. Доступ до даних в `DataFrame` здійснюється у інший спосіб. Спочатку це видається перепоною в роботі але потім стають зрозумілі переваги такого підходу. В деяких середовищах розробки на Python реалізовано графічні інтерфейси користувача GUI (graphical user interfaces), які дозволяють доступатися та змінювати значення у dataframes безпосередньо.  \n",
        "\n",
        "Для роботи з даними потрібно спочатку їх переглянути. Для цього є два методи `head` та `tail`. Метод head дозволяє вивести на екран перші рядки даних (за замовчуванням п'ять). Метод tail дозволяє вивести на екран останні п'ять рядків. За потреби можна вказати яку кількість рядків потрібно вивести на екран. \n",
        "\n",
        "Якщо вказати тільки назву `DataFrame` то можна пегелянути всі дані, але їх обсяг буде обмежений налаштуваннями pandas. Змінити ці налаштування можна перглянувши рекомендації за наступним посиланням [here](http://stackoverflow.com/questions/19124601/is-there-a-way-to-pretty-print-the-entire-pandas-series-dataframe)."
      ]
    },
    {
      "cell_type": "code",
      "metadata": {
        "id": "mzA4vxDLufqN",
        "colab": {
          "base_uri": "https://localhost:8080/",
          "height": 206
        },
        "outputId": "b808f63e-814c-454c-f026-f841bd6f2190"
      },
      "source": [
        "data.head()"
      ],
      "execution_count": 57,
      "outputs": [
        {
          "output_type": "execute_result",
          "data": {
            "text/html": [
              "<div>\n",
              "<style scoped>\n",
              "    .dataframe tbody tr th:only-of-type {\n",
              "        vertical-align: middle;\n",
              "    }\n",
              "\n",
              "    .dataframe tbody tr th {\n",
              "        vertical-align: top;\n",
              "    }\n",
              "\n",
              "    .dataframe thead th {\n",
              "        text-align: right;\n",
              "    }\n",
              "</style>\n",
              "<table border=\"1\" class=\"dataframe\">\n",
              "  <thead>\n",
              "    <tr style=\"text-align: right;\">\n",
              "      <th></th>\n",
              "      <th>Unnamed: 0</th>\n",
              "      <th>Income</th>\n",
              "      <th>Limit</th>\n",
              "      <th>Rating</th>\n",
              "      <th>Cards</th>\n",
              "      <th>Age</th>\n",
              "      <th>Education</th>\n",
              "      <th>Gender</th>\n",
              "      <th>Student</th>\n",
              "      <th>Married</th>\n",
              "      <th>Ethnicity</th>\n",
              "      <th>Balance</th>\n",
              "    </tr>\n",
              "  </thead>\n",
              "  <tbody>\n",
              "    <tr>\n",
              "      <th>0</th>\n",
              "      <td>1</td>\n",
              "      <td>14.891</td>\n",
              "      <td>3606</td>\n",
              "      <td>283</td>\n",
              "      <td>2</td>\n",
              "      <td>34</td>\n",
              "      <td>11</td>\n",
              "      <td>Male</td>\n",
              "      <td>No</td>\n",
              "      <td>Yes</td>\n",
              "      <td>Caucasian</td>\n",
              "      <td>333</td>\n",
              "    </tr>\n",
              "    <tr>\n",
              "      <th>1</th>\n",
              "      <td>2</td>\n",
              "      <td>106.025</td>\n",
              "      <td>6645</td>\n",
              "      <td>483</td>\n",
              "      <td>3</td>\n",
              "      <td>82</td>\n",
              "      <td>15</td>\n",
              "      <td>Female</td>\n",
              "      <td>Yes</td>\n",
              "      <td>Yes</td>\n",
              "      <td>Asian</td>\n",
              "      <td>903</td>\n",
              "    </tr>\n",
              "    <tr>\n",
              "      <th>2</th>\n",
              "      <td>3</td>\n",
              "      <td>104.593</td>\n",
              "      <td>7075</td>\n",
              "      <td>514</td>\n",
              "      <td>4</td>\n",
              "      <td>71</td>\n",
              "      <td>11</td>\n",
              "      <td>Male</td>\n",
              "      <td>No</td>\n",
              "      <td>No</td>\n",
              "      <td>Asian</td>\n",
              "      <td>580</td>\n",
              "    </tr>\n",
              "    <tr>\n",
              "      <th>3</th>\n",
              "      <td>4</td>\n",
              "      <td>148.924</td>\n",
              "      <td>9504</td>\n",
              "      <td>681</td>\n",
              "      <td>3</td>\n",
              "      <td>36</td>\n",
              "      <td>11</td>\n",
              "      <td>Female</td>\n",
              "      <td>No</td>\n",
              "      <td>No</td>\n",
              "      <td>Asian</td>\n",
              "      <td>964</td>\n",
              "    </tr>\n",
              "    <tr>\n",
              "      <th>4</th>\n",
              "      <td>5</td>\n",
              "      <td>55.882</td>\n",
              "      <td>4897</td>\n",
              "      <td>357</td>\n",
              "      <td>2</td>\n",
              "      <td>68</td>\n",
              "      <td>16</td>\n",
              "      <td>Male</td>\n",
              "      <td>No</td>\n",
              "      <td>Yes</td>\n",
              "      <td>Caucasian</td>\n",
              "      <td>331</td>\n",
              "    </tr>\n",
              "  </tbody>\n",
              "</table>\n",
              "</div>"
            ],
            "text/plain": [
              "   Unnamed: 0   Income  Limit  Rating  ...  Student  Married  Ethnicity Balance\n",
              "0           1   14.891   3606     283  ...       No      Yes  Caucasian     333\n",
              "1           2  106.025   6645     483  ...      Yes      Yes      Asian     903\n",
              "2           3  104.593   7075     514  ...       No       No      Asian     580\n",
              "3           4  148.924   9504     681  ...       No       No      Asian     964\n",
              "4           5   55.882   4897     357  ...       No      Yes  Caucasian     331\n",
              "\n",
              "[5 rows x 12 columns]"
            ]
          },
          "metadata": {},
          "execution_count": 57
        }
      ]
    },
    {
      "cell_type": "code",
      "metadata": {
        "id": "Pkhj1PBWufqf",
        "colab": {
          "base_uri": "https://localhost:8080/",
          "height": 206
        },
        "outputId": "f43e78ce-85e7-4295-d2a3-a880fce0b081"
      },
      "source": [
        "data.tail()"
      ],
      "execution_count": 58,
      "outputs": [
        {
          "output_type": "execute_result",
          "data": {
            "text/html": [
              "<div>\n",
              "<style scoped>\n",
              "    .dataframe tbody tr th:only-of-type {\n",
              "        vertical-align: middle;\n",
              "    }\n",
              "\n",
              "    .dataframe tbody tr th {\n",
              "        vertical-align: top;\n",
              "    }\n",
              "\n",
              "    .dataframe thead th {\n",
              "        text-align: right;\n",
              "    }\n",
              "</style>\n",
              "<table border=\"1\" class=\"dataframe\">\n",
              "  <thead>\n",
              "    <tr style=\"text-align: right;\">\n",
              "      <th></th>\n",
              "      <th>Unnamed: 0</th>\n",
              "      <th>Income</th>\n",
              "      <th>Limit</th>\n",
              "      <th>Rating</th>\n",
              "      <th>Cards</th>\n",
              "      <th>Age</th>\n",
              "      <th>Education</th>\n",
              "      <th>Gender</th>\n",
              "      <th>Student</th>\n",
              "      <th>Married</th>\n",
              "      <th>Ethnicity</th>\n",
              "      <th>Balance</th>\n",
              "    </tr>\n",
              "  </thead>\n",
              "  <tbody>\n",
              "    <tr>\n",
              "      <th>395</th>\n",
              "      <td>396</td>\n",
              "      <td>12.096</td>\n",
              "      <td>4100</td>\n",
              "      <td>307</td>\n",
              "      <td>3</td>\n",
              "      <td>32</td>\n",
              "      <td>13</td>\n",
              "      <td>Male</td>\n",
              "      <td>No</td>\n",
              "      <td>Yes</td>\n",
              "      <td>Caucasian</td>\n",
              "      <td>560</td>\n",
              "    </tr>\n",
              "    <tr>\n",
              "      <th>396</th>\n",
              "      <td>397</td>\n",
              "      <td>13.364</td>\n",
              "      <td>3838</td>\n",
              "      <td>296</td>\n",
              "      <td>5</td>\n",
              "      <td>65</td>\n",
              "      <td>17</td>\n",
              "      <td>Male</td>\n",
              "      <td>No</td>\n",
              "      <td>No</td>\n",
              "      <td>African American</td>\n",
              "      <td>480</td>\n",
              "    </tr>\n",
              "    <tr>\n",
              "      <th>397</th>\n",
              "      <td>398</td>\n",
              "      <td>57.872</td>\n",
              "      <td>4171</td>\n",
              "      <td>321</td>\n",
              "      <td>5</td>\n",
              "      <td>67</td>\n",
              "      <td>12</td>\n",
              "      <td>Female</td>\n",
              "      <td>No</td>\n",
              "      <td>Yes</td>\n",
              "      <td>Caucasian</td>\n",
              "      <td>138</td>\n",
              "    </tr>\n",
              "    <tr>\n",
              "      <th>398</th>\n",
              "      <td>399</td>\n",
              "      <td>37.728</td>\n",
              "      <td>2525</td>\n",
              "      <td>192</td>\n",
              "      <td>1</td>\n",
              "      <td>44</td>\n",
              "      <td>13</td>\n",
              "      <td>Male</td>\n",
              "      <td>No</td>\n",
              "      <td>Yes</td>\n",
              "      <td>Caucasian</td>\n",
              "      <td>0</td>\n",
              "    </tr>\n",
              "    <tr>\n",
              "      <th>399</th>\n",
              "      <td>400</td>\n",
              "      <td>18.701</td>\n",
              "      <td>5524</td>\n",
              "      <td>415</td>\n",
              "      <td>5</td>\n",
              "      <td>64</td>\n",
              "      <td>7</td>\n",
              "      <td>Female</td>\n",
              "      <td>No</td>\n",
              "      <td>No</td>\n",
              "      <td>Asian</td>\n",
              "      <td>966</td>\n",
              "    </tr>\n",
              "  </tbody>\n",
              "</table>\n",
              "</div>"
            ],
            "text/plain": [
              "     Unnamed: 0  Income  Limit  ...  Married         Ethnicity  Balance\n",
              "395         396  12.096   4100  ...      Yes         Caucasian      560\n",
              "396         397  13.364   3838  ...       No  African American      480\n",
              "397         398  57.872   4171  ...      Yes         Caucasian      138\n",
              "398         399  37.728   2525  ...      Yes         Caucasian        0\n",
              "399         400  18.701   5524  ...       No             Asian      966\n",
              "\n",
              "[5 rows x 12 columns]"
            ]
          },
          "metadata": {},
          "execution_count": 58
        }
      ]
    },
    {
      "cell_type": "code",
      "metadata": {
        "id": "sXgfDj3uufqt",
        "colab": {
          "base_uri": "https://localhost:8080/",
          "height": 143
        },
        "outputId": "c8a17584-c7df-4d22-e5d1-a11116ad81bd"
      },
      "source": [
        "data.head(3)"
      ],
      "execution_count": 59,
      "outputs": [
        {
          "output_type": "execute_result",
          "data": {
            "text/html": [
              "<div>\n",
              "<style scoped>\n",
              "    .dataframe tbody tr th:only-of-type {\n",
              "        vertical-align: middle;\n",
              "    }\n",
              "\n",
              "    .dataframe tbody tr th {\n",
              "        vertical-align: top;\n",
              "    }\n",
              "\n",
              "    .dataframe thead th {\n",
              "        text-align: right;\n",
              "    }\n",
              "</style>\n",
              "<table border=\"1\" class=\"dataframe\">\n",
              "  <thead>\n",
              "    <tr style=\"text-align: right;\">\n",
              "      <th></th>\n",
              "      <th>Unnamed: 0</th>\n",
              "      <th>Income</th>\n",
              "      <th>Limit</th>\n",
              "      <th>Rating</th>\n",
              "      <th>Cards</th>\n",
              "      <th>Age</th>\n",
              "      <th>Education</th>\n",
              "      <th>Gender</th>\n",
              "      <th>Student</th>\n",
              "      <th>Married</th>\n",
              "      <th>Ethnicity</th>\n",
              "      <th>Balance</th>\n",
              "    </tr>\n",
              "  </thead>\n",
              "  <tbody>\n",
              "    <tr>\n",
              "      <th>0</th>\n",
              "      <td>1</td>\n",
              "      <td>14.891</td>\n",
              "      <td>3606</td>\n",
              "      <td>283</td>\n",
              "      <td>2</td>\n",
              "      <td>34</td>\n",
              "      <td>11</td>\n",
              "      <td>Male</td>\n",
              "      <td>No</td>\n",
              "      <td>Yes</td>\n",
              "      <td>Caucasian</td>\n",
              "      <td>333</td>\n",
              "    </tr>\n",
              "    <tr>\n",
              "      <th>1</th>\n",
              "      <td>2</td>\n",
              "      <td>106.025</td>\n",
              "      <td>6645</td>\n",
              "      <td>483</td>\n",
              "      <td>3</td>\n",
              "      <td>82</td>\n",
              "      <td>15</td>\n",
              "      <td>Female</td>\n",
              "      <td>Yes</td>\n",
              "      <td>Yes</td>\n",
              "      <td>Asian</td>\n",
              "      <td>903</td>\n",
              "    </tr>\n",
              "    <tr>\n",
              "      <th>2</th>\n",
              "      <td>3</td>\n",
              "      <td>104.593</td>\n",
              "      <td>7075</td>\n",
              "      <td>514</td>\n",
              "      <td>4</td>\n",
              "      <td>71</td>\n",
              "      <td>11</td>\n",
              "      <td>Male</td>\n",
              "      <td>No</td>\n",
              "      <td>No</td>\n",
              "      <td>Asian</td>\n",
              "      <td>580</td>\n",
              "    </tr>\n",
              "  </tbody>\n",
              "</table>\n",
              "</div>"
            ],
            "text/plain": [
              "   Unnamed: 0   Income  Limit  Rating  ...  Student  Married  Ethnicity Balance\n",
              "0           1   14.891   3606     283  ...       No      Yes  Caucasian     333\n",
              "1           2  106.025   6645     483  ...      Yes      Yes      Asian     903\n",
              "2           3  104.593   7075     514  ...       No       No      Asian     580\n",
              "\n",
              "[3 rows x 12 columns]"
            ]
          },
          "metadata": {},
          "execution_count": 59
        }
      ]
    },
    {
      "cell_type": "markdown",
      "metadata": {
        "id": "ym3mglfGufq4"
      },
      "source": [
        "Рядки у `DataFrame` мають числовий індекс(потовщений шрифт зліва). Індексація які у Python починається з нуля. \n",
        "\n",
        "За потреби можна визначити змінну для індексів у `DataFrame` (яка буде буде міткою для кожного з рядків), що буде не числовим значенням. Наприклад, якщо дані це події, що відбувалися в різні моменти часу, то таким значенням може бути дата.  \n",
        "\n",
        "В наборі даних `Credit` перший стовпчик це порядковий номер рядка даних.  В такому випадку можна ці дані використовувати як індекси рядків та присвоїти ці значення змінній в `DataFrame` при читанні файла. "
      ]
    },
    {
      "cell_type": "code",
      "metadata": {
        "id": "Hg6uQqp1ufq8",
        "colab": {
          "base_uri": "https://localhost:8080/",
          "height": 206
        },
        "outputId": "9a27cb8f-1197-482d-f1ec-ffbcfc135b24"
      },
      "source": [
        "data=pd.read_csv(path, index_col=0)\n",
        "data.head()"
      ],
      "execution_count": 60,
      "outputs": [
        {
          "output_type": "execute_result",
          "data": {
            "text/html": [
              "<div>\n",
              "<style scoped>\n",
              "    .dataframe tbody tr th:only-of-type {\n",
              "        vertical-align: middle;\n",
              "    }\n",
              "\n",
              "    .dataframe tbody tr th {\n",
              "        vertical-align: top;\n",
              "    }\n",
              "\n",
              "    .dataframe thead th {\n",
              "        text-align: right;\n",
              "    }\n",
              "</style>\n",
              "<table border=\"1\" class=\"dataframe\">\n",
              "  <thead>\n",
              "    <tr style=\"text-align: right;\">\n",
              "      <th></th>\n",
              "      <th>Income</th>\n",
              "      <th>Limit</th>\n",
              "      <th>Rating</th>\n",
              "      <th>Cards</th>\n",
              "      <th>Age</th>\n",
              "      <th>Education</th>\n",
              "      <th>Gender</th>\n",
              "      <th>Student</th>\n",
              "      <th>Married</th>\n",
              "      <th>Ethnicity</th>\n",
              "      <th>Balance</th>\n",
              "    </tr>\n",
              "  </thead>\n",
              "  <tbody>\n",
              "    <tr>\n",
              "      <th>1</th>\n",
              "      <td>14.891</td>\n",
              "      <td>3606</td>\n",
              "      <td>283</td>\n",
              "      <td>2</td>\n",
              "      <td>34</td>\n",
              "      <td>11</td>\n",
              "      <td>Male</td>\n",
              "      <td>No</td>\n",
              "      <td>Yes</td>\n",
              "      <td>Caucasian</td>\n",
              "      <td>333</td>\n",
              "    </tr>\n",
              "    <tr>\n",
              "      <th>2</th>\n",
              "      <td>106.025</td>\n",
              "      <td>6645</td>\n",
              "      <td>483</td>\n",
              "      <td>3</td>\n",
              "      <td>82</td>\n",
              "      <td>15</td>\n",
              "      <td>Female</td>\n",
              "      <td>Yes</td>\n",
              "      <td>Yes</td>\n",
              "      <td>Asian</td>\n",
              "      <td>903</td>\n",
              "    </tr>\n",
              "    <tr>\n",
              "      <th>3</th>\n",
              "      <td>104.593</td>\n",
              "      <td>7075</td>\n",
              "      <td>514</td>\n",
              "      <td>4</td>\n",
              "      <td>71</td>\n",
              "      <td>11</td>\n",
              "      <td>Male</td>\n",
              "      <td>No</td>\n",
              "      <td>No</td>\n",
              "      <td>Asian</td>\n",
              "      <td>580</td>\n",
              "    </tr>\n",
              "    <tr>\n",
              "      <th>4</th>\n",
              "      <td>148.924</td>\n",
              "      <td>9504</td>\n",
              "      <td>681</td>\n",
              "      <td>3</td>\n",
              "      <td>36</td>\n",
              "      <td>11</td>\n",
              "      <td>Female</td>\n",
              "      <td>No</td>\n",
              "      <td>No</td>\n",
              "      <td>Asian</td>\n",
              "      <td>964</td>\n",
              "    </tr>\n",
              "    <tr>\n",
              "      <th>5</th>\n",
              "      <td>55.882</td>\n",
              "      <td>4897</td>\n",
              "      <td>357</td>\n",
              "      <td>2</td>\n",
              "      <td>68</td>\n",
              "      <td>16</td>\n",
              "      <td>Male</td>\n",
              "      <td>No</td>\n",
              "      <td>Yes</td>\n",
              "      <td>Caucasian</td>\n",
              "      <td>331</td>\n",
              "    </tr>\n",
              "  </tbody>\n",
              "</table>\n",
              "</div>"
            ],
            "text/plain": [
              "    Income  Limit  Rating  Cards  ...  Student  Married  Ethnicity Balance\n",
              "1   14.891   3606     283      2  ...       No      Yes  Caucasian     333\n",
              "2  106.025   6645     483      3  ...      Yes      Yes      Asian     903\n",
              "3  104.593   7075     514      4  ...       No       No      Asian     580\n",
              "4  148.924   9504     681      3  ...       No       No      Asian     964\n",
              "5   55.882   4897     357      2  ...       No      Yes  Caucasian     331\n",
              "\n",
              "[5 rows x 11 columns]"
            ]
          },
          "metadata": {},
          "execution_count": 60
        }
      ]
    },
    {
      "cell_type": "markdown",
      "metadata": {
        "id": "NyzkhSPpufrJ"
      },
      "source": [
        "Наступний важливий метод `info`. Цей метод дозволяє переглянути інформацію про кількість рядків, стовпчиків, типи даних кожного зі стовпчиків(`dtypes` у pandas) та перевірити чи є втрачені дані. "
      ]
    },
    {
      "cell_type": "code",
      "metadata": {
        "id": "ej28I7HFufrL",
        "colab": {
          "base_uri": "https://localhost:8080/"
        },
        "outputId": "41b65597-242f-4af7-9b61-12baac0faf07"
      },
      "source": [
        "data.info()"
      ],
      "execution_count": 61,
      "outputs": [
        {
          "output_type": "stream",
          "name": "stdout",
          "text": [
            "<class 'pandas.core.frame.DataFrame'>\n",
            "Int64Index: 400 entries, 1 to 400\n",
            "Data columns (total 11 columns):\n",
            " #   Column     Non-Null Count  Dtype  \n",
            "---  ------     --------------  -----  \n",
            " 0   Income     400 non-null    float64\n",
            " 1   Limit      400 non-null    int64  \n",
            " 2   Rating     400 non-null    int64  \n",
            " 3   Cards      400 non-null    int64  \n",
            " 4   Age        400 non-null    int64  \n",
            " 5   Education  400 non-null    int64  \n",
            " 6   Gender     400 non-null    object \n",
            " 7   Student    400 non-null    object \n",
            " 8   Married    400 non-null    object \n",
            " 9   Ethnicity  400 non-null    object \n",
            " 10  Balance    400 non-null    int64  \n",
            "dtypes: float64(1), int64(6), object(4)\n",
            "memory usage: 37.5+ KB\n"
          ]
        }
      ]
    },
    {
      "cell_type": "markdown",
      "metadata": {
        "id": "I5JC3MJLufrU"
      },
      "source": [
        "Тип даних `object` dtype це найбільш загальний тип. Найчастише стопчики такого типу містять текстові дані. Якщо у стовпчику числові дані, але їх тип вказано як `object`, то потрібно виконати певні дії для вирішення цієї проблеми (змінити тип даних). Такі дії називають clean up. \n",
        "\n",
        "В наборі даних відсутні втрачні дані, оскільки функція `info` повідомляє що у dataframe 400 записів, а всі стовпчики містяь 400 не нульових значень. Інший спосіб це перевірити - знайти кількість нульових значень. "
      ]
    },
    {
      "cell_type": "code",
      "metadata": {
        "id": "HO2l5LR_ufrZ",
        "colab": {
          "base_uri": "https://localhost:8080/"
        },
        "outputId": "1f5550b2-e19e-49f2-e2f7-5af77bfd4f08"
      },
      "source": [
        "data.isnull().sum()"
      ],
      "execution_count": 62,
      "outputs": [
        {
          "output_type": "execute_result",
          "data": {
            "text/plain": [
              "Income       0\n",
              "Limit        0\n",
              "Rating       0\n",
              "Cards        0\n",
              "Age          0\n",
              "Education    0\n",
              "Gender       0\n",
              "Student      0\n",
              "Married      0\n",
              "Ethnicity    0\n",
              "Balance      0\n",
              "dtype: int64"
            ]
          },
          "metadata": {},
          "execution_count": 62
        }
      ]
    },
    {
      "cell_type": "markdown",
      "metadata": {
        "id": "feZA14GWufri"
      },
      "source": [
        "### 4. Доступ до даних\n",
        "\n",
        "В pandas є два способи отримати доступ до даних: за допомогою міток стовпчиків та рядків або за допомогою числових індексів. \n",
        "\n",
        "**4.1 Вибір стопців за міткою**\n",
        "\n",
        "Якщо обрати один стовпчик то результат буде відрізнятися від попередніх результатів, оскільки функція повертає `Series` (спеціальний об'єкт для серії окремих даних) а не `DataFrame`. "
      ]
    },
    {
      "cell_type": "code",
      "metadata": {
        "id": "piYgBOY1ufrl",
        "colab": {
          "base_uri": "https://localhost:8080/"
        },
        "outputId": "f51dcbf0-ab50-43e0-9179-ba578daf18dc"
      },
      "source": [
        "data['Income'].head()"
      ],
      "execution_count": 63,
      "outputs": [
        {
          "output_type": "execute_result",
          "data": {
            "text/plain": [
              "1     14.891\n",
              "2    106.025\n",
              "3    104.593\n",
              "4    148.924\n",
              "5     55.882\n",
              "Name: Income, dtype: float64"
            ]
          },
          "metadata": {},
          "execution_count": 63
        }
      ]
    },
    {
      "cell_type": "markdown",
      "metadata": {
        "id": "t_JqSo93ufrt"
      },
      "source": [
        "**4.2 Вибір декількох стовпців за їх мітками**"
      ]
    },
    {
      "cell_type": "code",
      "metadata": {
        "id": "j37ytiPhufrw",
        "colab": {
          "base_uri": "https://localhost:8080/",
          "height": 206
        },
        "outputId": "f550b82f-809f-4e94-db39-0eb9dc3ba648"
      },
      "source": [
        "data[['Income','Education']].head()"
      ],
      "execution_count": 64,
      "outputs": [
        {
          "output_type": "execute_result",
          "data": {
            "text/html": [
              "<div>\n",
              "<style scoped>\n",
              "    .dataframe tbody tr th:only-of-type {\n",
              "        vertical-align: middle;\n",
              "    }\n",
              "\n",
              "    .dataframe tbody tr th {\n",
              "        vertical-align: top;\n",
              "    }\n",
              "\n",
              "    .dataframe thead th {\n",
              "        text-align: right;\n",
              "    }\n",
              "</style>\n",
              "<table border=\"1\" class=\"dataframe\">\n",
              "  <thead>\n",
              "    <tr style=\"text-align: right;\">\n",
              "      <th></th>\n",
              "      <th>Income</th>\n",
              "      <th>Education</th>\n",
              "    </tr>\n",
              "  </thead>\n",
              "  <tbody>\n",
              "    <tr>\n",
              "      <th>1</th>\n",
              "      <td>14.891</td>\n",
              "      <td>11</td>\n",
              "    </tr>\n",
              "    <tr>\n",
              "      <th>2</th>\n",
              "      <td>106.025</td>\n",
              "      <td>15</td>\n",
              "    </tr>\n",
              "    <tr>\n",
              "      <th>3</th>\n",
              "      <td>104.593</td>\n",
              "      <td>11</td>\n",
              "    </tr>\n",
              "    <tr>\n",
              "      <th>4</th>\n",
              "      <td>148.924</td>\n",
              "      <td>11</td>\n",
              "    </tr>\n",
              "    <tr>\n",
              "      <th>5</th>\n",
              "      <td>55.882</td>\n",
              "      <td>16</td>\n",
              "    </tr>\n",
              "  </tbody>\n",
              "</table>\n",
              "</div>"
            ],
            "text/plain": [
              "    Income  Education\n",
              "1   14.891         11\n",
              "2  106.025         15\n",
              "3  104.593         11\n",
              "4  148.924         11\n",
              "5   55.882         16"
            ]
          },
          "metadata": {},
          "execution_count": 64
        }
      ]
    },
    {
      "cell_type": "markdown",
      "metadata": {
        "id": "R_pDp_6Jufr8"
      },
      "source": [
        "Потрібно звернути увагу що мітки були передані у метод як список рядків. Наступний приклад де наглядно демонструє. "
      ]
    },
    {
      "cell_type": "code",
      "metadata": {
        "id": "NO9CWBW6ufsA",
        "colab": {
          "base_uri": "https://localhost:8080/"
        },
        "outputId": "8e578aae-51c6-4b13-d978-3638e2bb204f"
      },
      "source": [
        "names=['Income','Education']\n",
        "print(names)"
      ],
      "execution_count": 65,
      "outputs": [
        {
          "output_type": "stream",
          "name": "stdout",
          "text": [
            "['Income', 'Education']\n"
          ]
        }
      ]
    },
    {
      "cell_type": "code",
      "metadata": {
        "id": "QbPeVMv3ufsO",
        "colab": {
          "base_uri": "https://localhost:8080/",
          "height": 206
        },
        "outputId": "6a18c81d-fdb4-4fc2-e25f-2f43ddd63a39"
      },
      "source": [
        "data[names].head()"
      ],
      "execution_count": 66,
      "outputs": [
        {
          "output_type": "execute_result",
          "data": {
            "text/html": [
              "<div>\n",
              "<style scoped>\n",
              "    .dataframe tbody tr th:only-of-type {\n",
              "        vertical-align: middle;\n",
              "    }\n",
              "\n",
              "    .dataframe tbody tr th {\n",
              "        vertical-align: top;\n",
              "    }\n",
              "\n",
              "    .dataframe thead th {\n",
              "        text-align: right;\n",
              "    }\n",
              "</style>\n",
              "<table border=\"1\" class=\"dataframe\">\n",
              "  <thead>\n",
              "    <tr style=\"text-align: right;\">\n",
              "      <th></th>\n",
              "      <th>Income</th>\n",
              "      <th>Education</th>\n",
              "    </tr>\n",
              "  </thead>\n",
              "  <tbody>\n",
              "    <tr>\n",
              "      <th>1</th>\n",
              "      <td>14.891</td>\n",
              "      <td>11</td>\n",
              "    </tr>\n",
              "    <tr>\n",
              "      <th>2</th>\n",
              "      <td>106.025</td>\n",
              "      <td>15</td>\n",
              "    </tr>\n",
              "    <tr>\n",
              "      <th>3</th>\n",
              "      <td>104.593</td>\n",
              "      <td>11</td>\n",
              "    </tr>\n",
              "    <tr>\n",
              "      <th>4</th>\n",
              "      <td>148.924</td>\n",
              "      <td>11</td>\n",
              "    </tr>\n",
              "    <tr>\n",
              "      <th>5</th>\n",
              "      <td>55.882</td>\n",
              "      <td>16</td>\n",
              "    </tr>\n",
              "  </tbody>\n",
              "</table>\n",
              "</div>"
            ],
            "text/plain": [
              "    Income  Education\n",
              "1   14.891         11\n",
              "2  106.025         15\n",
              "3  104.593         11\n",
              "4  148.924         11\n",
              "5   55.882         16"
            ]
          },
          "metadata": {},
          "execution_count": 66
        }
      ]
    },
    {
      "cell_type": "markdown",
      "metadata": {
        "id": "qTBficxJufsa"
      },
      "source": [
        "**4.3 Вибір стовпця за числовим індексом**\n",
        "\n",
        "Метод `iloc` дозволяє вибирати дані за числовими індесами. Індекс першого стовпця - 0. Синтаксис, який використовується вказує що потрібно обрати всі рядки стовпчика з індексом 1. "
      ]
    },
    {
      "cell_type": "code",
      "metadata": {
        "id": "AU1APHmFufsg",
        "colab": {
          "base_uri": "https://localhost:8080/"
        },
        "outputId": "45503e4e-98c9-4c7d-b8b3-91d3dd600dc1"
      },
      "source": [
        "data.iloc[:,1].head()"
      ],
      "execution_count": 67,
      "outputs": [
        {
          "output_type": "execute_result",
          "data": {
            "text/plain": [
              "1    3606\n",
              "2    6645\n",
              "3    7075\n",
              "4    9504\n",
              "5    4897\n",
              "Name: Limit, dtype: int64"
            ]
          },
          "metadata": {},
          "execution_count": 67
        }
      ]
    },
    {
      "cell_type": "markdown",
      "metadata": {
        "id": "3IDoQ1Rvufss"
      },
      "source": [
        "**4.4 Вибір декількох рядків за їх числовими індексами**\n",
        "\n",
        "Список індексів в аргументах методу дозволяє отримати декілька стовпців. "
      ]
    },
    {
      "cell_type": "code",
      "metadata": {
        "id": "zfP__2zDufsv",
        "colab": {
          "base_uri": "https://localhost:8080/",
          "height": 269
        },
        "outputId": "cdc26a74-c0ec-4991-a1bc-5a48c503f988"
      },
      "source": [
        "data.iloc[5:12,[0,5]].head(12)"
      ],
      "execution_count": 69,
      "outputs": [
        {
          "output_type": "execute_result",
          "data": {
            "text/html": [
              "<div>\n",
              "<style scoped>\n",
              "    .dataframe tbody tr th:only-of-type {\n",
              "        vertical-align: middle;\n",
              "    }\n",
              "\n",
              "    .dataframe tbody tr th {\n",
              "        vertical-align: top;\n",
              "    }\n",
              "\n",
              "    .dataframe thead th {\n",
              "        text-align: right;\n",
              "    }\n",
              "</style>\n",
              "<table border=\"1\" class=\"dataframe\">\n",
              "  <thead>\n",
              "    <tr style=\"text-align: right;\">\n",
              "      <th></th>\n",
              "      <th>Income</th>\n",
              "      <th>Education</th>\n",
              "    </tr>\n",
              "  </thead>\n",
              "  <tbody>\n",
              "    <tr>\n",
              "      <th>6</th>\n",
              "      <td>80.180</td>\n",
              "      <td>10</td>\n",
              "    </tr>\n",
              "    <tr>\n",
              "      <th>7</th>\n",
              "      <td>20.996</td>\n",
              "      <td>12</td>\n",
              "    </tr>\n",
              "    <tr>\n",
              "      <th>8</th>\n",
              "      <td>71.408</td>\n",
              "      <td>9</td>\n",
              "    </tr>\n",
              "    <tr>\n",
              "      <th>9</th>\n",
              "      <td>15.125</td>\n",
              "      <td>13</td>\n",
              "    </tr>\n",
              "    <tr>\n",
              "      <th>10</th>\n",
              "      <td>71.061</td>\n",
              "      <td>19</td>\n",
              "    </tr>\n",
              "    <tr>\n",
              "      <th>11</th>\n",
              "      <td>63.095</td>\n",
              "      <td>14</td>\n",
              "    </tr>\n",
              "    <tr>\n",
              "      <th>12</th>\n",
              "      <td>15.045</td>\n",
              "      <td>16</td>\n",
              "    </tr>\n",
              "  </tbody>\n",
              "</table>\n",
              "</div>"
            ],
            "text/plain": [
              "    Income  Education\n",
              "6   80.180         10\n",
              "7   20.996         12\n",
              "8   71.408          9\n",
              "9   15.125         13\n",
              "10  71.061         19\n",
              "11  63.095         14\n",
              "12  15.045         16"
            ]
          },
          "metadata": {},
          "execution_count": 69
        }
      ]
    },
    {
      "cell_type": "markdown",
      "metadata": {
        "id": "yRv3qYU9ufs7"
      },
      "source": [
        "Інший спосіб отримати подібний результат це скористатися зрізами. Якщо потрібно отримати дані з першого по шостого стовпців то потрібно вказати їх індекси черед двокрапку."
      ]
    },
    {
      "cell_type": "code",
      "metadata": {
        "id": "u9gFUQkQufs9",
        "colab": {
          "base_uri": "https://localhost:8080/",
          "height": 112
        },
        "outputId": "fccdea88-f626-430c-a0a4-83c4a67d57a1"
      },
      "source": [
        "data.iloc[:,0:6].head(2)"
      ],
      "execution_count": 70,
      "outputs": [
        {
          "output_type": "execute_result",
          "data": {
            "text/html": [
              "<div>\n",
              "<style scoped>\n",
              "    .dataframe tbody tr th:only-of-type {\n",
              "        vertical-align: middle;\n",
              "    }\n",
              "\n",
              "    .dataframe tbody tr th {\n",
              "        vertical-align: top;\n",
              "    }\n",
              "\n",
              "    .dataframe thead th {\n",
              "        text-align: right;\n",
              "    }\n",
              "</style>\n",
              "<table border=\"1\" class=\"dataframe\">\n",
              "  <thead>\n",
              "    <tr style=\"text-align: right;\">\n",
              "      <th></th>\n",
              "      <th>Income</th>\n",
              "      <th>Limit</th>\n",
              "      <th>Rating</th>\n",
              "      <th>Cards</th>\n",
              "      <th>Age</th>\n",
              "      <th>Education</th>\n",
              "    </tr>\n",
              "  </thead>\n",
              "  <tbody>\n",
              "    <tr>\n",
              "      <th>1</th>\n",
              "      <td>14.891</td>\n",
              "      <td>3606</td>\n",
              "      <td>283</td>\n",
              "      <td>2</td>\n",
              "      <td>34</td>\n",
              "      <td>11</td>\n",
              "    </tr>\n",
              "    <tr>\n",
              "      <th>2</th>\n",
              "      <td>106.025</td>\n",
              "      <td>6645</td>\n",
              "      <td>483</td>\n",
              "      <td>3</td>\n",
              "      <td>82</td>\n",
              "      <td>15</td>\n",
              "    </tr>\n",
              "  </tbody>\n",
              "</table>\n",
              "</div>"
            ],
            "text/plain": [
              "    Income  Limit  Rating  Cards  Age  Education\n",
              "1   14.891   3606     283      2   34         11\n",
              "2  106.025   6645     483      3   82         15"
            ]
          },
          "metadata": {},
          "execution_count": 70
        }
      ]
    },
    {
      "cell_type": "markdown",
      "metadata": {
        "id": "xI0z34PnuftG"
      },
      "source": [
        "**4.5 Вибір рядків за мітками**\n",
        "\n",
        "Метод `loc` дозволяє отримати рядки позначені індексами. "
      ]
    },
    {
      "cell_type": "code",
      "metadata": {
        "id": "2PXQX_RwuftJ",
        "colab": {
          "base_uri": "https://localhost:8080/",
          "height": 143
        },
        "outputId": "e8f8ae3d-ed58-49ce-ea26-df77978c8df0"
      },
      "source": [
        "data.loc[[1,2,5],:]"
      ],
      "execution_count": 71,
      "outputs": [
        {
          "output_type": "execute_result",
          "data": {
            "text/html": [
              "<div>\n",
              "<style scoped>\n",
              "    .dataframe tbody tr th:only-of-type {\n",
              "        vertical-align: middle;\n",
              "    }\n",
              "\n",
              "    .dataframe tbody tr th {\n",
              "        vertical-align: top;\n",
              "    }\n",
              "\n",
              "    .dataframe thead th {\n",
              "        text-align: right;\n",
              "    }\n",
              "</style>\n",
              "<table border=\"1\" class=\"dataframe\">\n",
              "  <thead>\n",
              "    <tr style=\"text-align: right;\">\n",
              "      <th></th>\n",
              "      <th>Income</th>\n",
              "      <th>Limit</th>\n",
              "      <th>Rating</th>\n",
              "      <th>Cards</th>\n",
              "      <th>Age</th>\n",
              "      <th>Education</th>\n",
              "      <th>Gender</th>\n",
              "      <th>Student</th>\n",
              "      <th>Married</th>\n",
              "      <th>Ethnicity</th>\n",
              "      <th>Balance</th>\n",
              "    </tr>\n",
              "  </thead>\n",
              "  <tbody>\n",
              "    <tr>\n",
              "      <th>1</th>\n",
              "      <td>14.891</td>\n",
              "      <td>3606</td>\n",
              "      <td>283</td>\n",
              "      <td>2</td>\n",
              "      <td>34</td>\n",
              "      <td>11</td>\n",
              "      <td>Male</td>\n",
              "      <td>No</td>\n",
              "      <td>Yes</td>\n",
              "      <td>Caucasian</td>\n",
              "      <td>333</td>\n",
              "    </tr>\n",
              "    <tr>\n",
              "      <th>2</th>\n",
              "      <td>106.025</td>\n",
              "      <td>6645</td>\n",
              "      <td>483</td>\n",
              "      <td>3</td>\n",
              "      <td>82</td>\n",
              "      <td>15</td>\n",
              "      <td>Female</td>\n",
              "      <td>Yes</td>\n",
              "      <td>Yes</td>\n",
              "      <td>Asian</td>\n",
              "      <td>903</td>\n",
              "    </tr>\n",
              "    <tr>\n",
              "      <th>5</th>\n",
              "      <td>55.882</td>\n",
              "      <td>4897</td>\n",
              "      <td>357</td>\n",
              "      <td>2</td>\n",
              "      <td>68</td>\n",
              "      <td>16</td>\n",
              "      <td>Male</td>\n",
              "      <td>No</td>\n",
              "      <td>Yes</td>\n",
              "      <td>Caucasian</td>\n",
              "      <td>331</td>\n",
              "    </tr>\n",
              "  </tbody>\n",
              "</table>\n",
              "</div>"
            ],
            "text/plain": [
              "    Income  Limit  Rating  Cards  ...  Student  Married  Ethnicity Balance\n",
              "1   14.891   3606     283      2  ...       No      Yes  Caucasian     333\n",
              "2  106.025   6645     483      3  ...      Yes      Yes      Asian     903\n",
              "5   55.882   4897     357      2  ...       No      Yes  Caucasian     331\n",
              "\n",
              "[3 rows x 11 columns]"
            ]
          },
          "metadata": {},
          "execution_count": 71
        }
      ]
    },
    {
      "cell_type": "markdown",
      "metadata": {
        "id": "rqJiTDLQuftS"
      },
      "source": [
        "При використанні зрізів потрібно звернути увагу, що будуть вибрані рядки включно з останнім індексом, який вказано у зрізі. "
      ]
    },
    {
      "cell_type": "code",
      "metadata": {
        "id": "x58UMn90uftT",
        "colab": {
          "base_uri": "https://localhost:8080/",
          "height": 175
        },
        "outputId": "cdd1e2a0-ca81-4e29-dc8a-b29e737657dd"
      },
      "source": [
        "data.loc[1:4,:]"
      ],
      "execution_count": 72,
      "outputs": [
        {
          "output_type": "execute_result",
          "data": {
            "text/html": [
              "<div>\n",
              "<style scoped>\n",
              "    .dataframe tbody tr th:only-of-type {\n",
              "        vertical-align: middle;\n",
              "    }\n",
              "\n",
              "    .dataframe tbody tr th {\n",
              "        vertical-align: top;\n",
              "    }\n",
              "\n",
              "    .dataframe thead th {\n",
              "        text-align: right;\n",
              "    }\n",
              "</style>\n",
              "<table border=\"1\" class=\"dataframe\">\n",
              "  <thead>\n",
              "    <tr style=\"text-align: right;\">\n",
              "      <th></th>\n",
              "      <th>Income</th>\n",
              "      <th>Limit</th>\n",
              "      <th>Rating</th>\n",
              "      <th>Cards</th>\n",
              "      <th>Age</th>\n",
              "      <th>Education</th>\n",
              "      <th>Gender</th>\n",
              "      <th>Student</th>\n",
              "      <th>Married</th>\n",
              "      <th>Ethnicity</th>\n",
              "      <th>Balance</th>\n",
              "    </tr>\n",
              "  </thead>\n",
              "  <tbody>\n",
              "    <tr>\n",
              "      <th>1</th>\n",
              "      <td>14.891</td>\n",
              "      <td>3606</td>\n",
              "      <td>283</td>\n",
              "      <td>2</td>\n",
              "      <td>34</td>\n",
              "      <td>11</td>\n",
              "      <td>Male</td>\n",
              "      <td>No</td>\n",
              "      <td>Yes</td>\n",
              "      <td>Caucasian</td>\n",
              "      <td>333</td>\n",
              "    </tr>\n",
              "    <tr>\n",
              "      <th>2</th>\n",
              "      <td>106.025</td>\n",
              "      <td>6645</td>\n",
              "      <td>483</td>\n",
              "      <td>3</td>\n",
              "      <td>82</td>\n",
              "      <td>15</td>\n",
              "      <td>Female</td>\n",
              "      <td>Yes</td>\n",
              "      <td>Yes</td>\n",
              "      <td>Asian</td>\n",
              "      <td>903</td>\n",
              "    </tr>\n",
              "    <tr>\n",
              "      <th>3</th>\n",
              "      <td>104.593</td>\n",
              "      <td>7075</td>\n",
              "      <td>514</td>\n",
              "      <td>4</td>\n",
              "      <td>71</td>\n",
              "      <td>11</td>\n",
              "      <td>Male</td>\n",
              "      <td>No</td>\n",
              "      <td>No</td>\n",
              "      <td>Asian</td>\n",
              "      <td>580</td>\n",
              "    </tr>\n",
              "    <tr>\n",
              "      <th>4</th>\n",
              "      <td>148.924</td>\n",
              "      <td>9504</td>\n",
              "      <td>681</td>\n",
              "      <td>3</td>\n",
              "      <td>36</td>\n",
              "      <td>11</td>\n",
              "      <td>Female</td>\n",
              "      <td>No</td>\n",
              "      <td>No</td>\n",
              "      <td>Asian</td>\n",
              "      <td>964</td>\n",
              "    </tr>\n",
              "  </tbody>\n",
              "</table>\n",
              "</div>"
            ],
            "text/plain": [
              "    Income  Limit  Rating  Cards  ...  Student  Married  Ethnicity Balance\n",
              "1   14.891   3606     283      2  ...       No      Yes  Caucasian     333\n",
              "2  106.025   6645     483      3  ...      Yes      Yes      Asian     903\n",
              "3  104.593   7075     514      4  ...       No       No      Asian     580\n",
              "4  148.924   9504     681      3  ...       No       No      Asian     964\n",
              "\n",
              "[4 rows x 11 columns]"
            ]
          },
          "metadata": {},
          "execution_count": 72
        }
      ]
    },
    {
      "cell_type": "markdown",
      "metadata": {
        "id": "_wJI6RAOufte"
      },
      "source": [
        "Наступний приклад демонструє як працювати з мітками рядків, якщо використовуються не числові мітки. "
      ]
    },
    {
      "cell_type": "code",
      "metadata": {
        "id": "9JBHS5xHufth",
        "colab": {
          "base_uri": "https://localhost:8080/",
          "height": 206
        },
        "outputId": "adbf0c87-203d-49a7-cc21-b528a8f2aeaa"
      },
      "source": [
        "df = data.head(5).copy() # make a copy of the first five rows of the dataframe\n",
        "df.index = ['a','b','c', 'd', 'e'] # replace the index with arbitrary labels\n",
        "df.head()"
      ],
      "execution_count": 73,
      "outputs": [
        {
          "output_type": "execute_result",
          "data": {
            "text/html": [
              "<div>\n",
              "<style scoped>\n",
              "    .dataframe tbody tr th:only-of-type {\n",
              "        vertical-align: middle;\n",
              "    }\n",
              "\n",
              "    .dataframe tbody tr th {\n",
              "        vertical-align: top;\n",
              "    }\n",
              "\n",
              "    .dataframe thead th {\n",
              "        text-align: right;\n",
              "    }\n",
              "</style>\n",
              "<table border=\"1\" class=\"dataframe\">\n",
              "  <thead>\n",
              "    <tr style=\"text-align: right;\">\n",
              "      <th></th>\n",
              "      <th>Income</th>\n",
              "      <th>Limit</th>\n",
              "      <th>Rating</th>\n",
              "      <th>Cards</th>\n",
              "      <th>Age</th>\n",
              "      <th>Education</th>\n",
              "      <th>Gender</th>\n",
              "      <th>Student</th>\n",
              "      <th>Married</th>\n",
              "      <th>Ethnicity</th>\n",
              "      <th>Balance</th>\n",
              "    </tr>\n",
              "  </thead>\n",
              "  <tbody>\n",
              "    <tr>\n",
              "      <th>a</th>\n",
              "      <td>14.891</td>\n",
              "      <td>3606</td>\n",
              "      <td>283</td>\n",
              "      <td>2</td>\n",
              "      <td>34</td>\n",
              "      <td>11</td>\n",
              "      <td>Male</td>\n",
              "      <td>No</td>\n",
              "      <td>Yes</td>\n",
              "      <td>Caucasian</td>\n",
              "      <td>333</td>\n",
              "    </tr>\n",
              "    <tr>\n",
              "      <th>b</th>\n",
              "      <td>106.025</td>\n",
              "      <td>6645</td>\n",
              "      <td>483</td>\n",
              "      <td>3</td>\n",
              "      <td>82</td>\n",
              "      <td>15</td>\n",
              "      <td>Female</td>\n",
              "      <td>Yes</td>\n",
              "      <td>Yes</td>\n",
              "      <td>Asian</td>\n",
              "      <td>903</td>\n",
              "    </tr>\n",
              "    <tr>\n",
              "      <th>c</th>\n",
              "      <td>104.593</td>\n",
              "      <td>7075</td>\n",
              "      <td>514</td>\n",
              "      <td>4</td>\n",
              "      <td>71</td>\n",
              "      <td>11</td>\n",
              "      <td>Male</td>\n",
              "      <td>No</td>\n",
              "      <td>No</td>\n",
              "      <td>Asian</td>\n",
              "      <td>580</td>\n",
              "    </tr>\n",
              "    <tr>\n",
              "      <th>d</th>\n",
              "      <td>148.924</td>\n",
              "      <td>9504</td>\n",
              "      <td>681</td>\n",
              "      <td>3</td>\n",
              "      <td>36</td>\n",
              "      <td>11</td>\n",
              "      <td>Female</td>\n",
              "      <td>No</td>\n",
              "      <td>No</td>\n",
              "      <td>Asian</td>\n",
              "      <td>964</td>\n",
              "    </tr>\n",
              "    <tr>\n",
              "      <th>e</th>\n",
              "      <td>55.882</td>\n",
              "      <td>4897</td>\n",
              "      <td>357</td>\n",
              "      <td>2</td>\n",
              "      <td>68</td>\n",
              "      <td>16</td>\n",
              "      <td>Male</td>\n",
              "      <td>No</td>\n",
              "      <td>Yes</td>\n",
              "      <td>Caucasian</td>\n",
              "      <td>331</td>\n",
              "    </tr>\n",
              "  </tbody>\n",
              "</table>\n",
              "</div>"
            ],
            "text/plain": [
              "    Income  Limit  Rating  Cards  ...  Student  Married  Ethnicity Balance\n",
              "a   14.891   3606     283      2  ...       No      Yes  Caucasian     333\n",
              "b  106.025   6645     483      3  ...      Yes      Yes      Asian     903\n",
              "c  104.593   7075     514      4  ...       No       No      Asian     580\n",
              "d  148.924   9504     681      3  ...       No       No      Asian     964\n",
              "e   55.882   4897     357      2  ...       No      Yes  Caucasian     331\n",
              "\n",
              "[5 rows x 11 columns]"
            ]
          },
          "metadata": {},
          "execution_count": 73
        }
      ]
    },
    {
      "cell_type": "code",
      "metadata": {
        "id": "vimfpNB7uftn",
        "colab": {
          "base_uri": "https://localhost:8080/",
          "height": 112
        },
        "outputId": "bc6dc0d5-4968-4552-e1c8-75eead60432d"
      },
      "source": [
        "df.loc[['a','c'],:]"
      ],
      "execution_count": 74,
      "outputs": [
        {
          "output_type": "execute_result",
          "data": {
            "text/html": [
              "<div>\n",
              "<style scoped>\n",
              "    .dataframe tbody tr th:only-of-type {\n",
              "        vertical-align: middle;\n",
              "    }\n",
              "\n",
              "    .dataframe tbody tr th {\n",
              "        vertical-align: top;\n",
              "    }\n",
              "\n",
              "    .dataframe thead th {\n",
              "        text-align: right;\n",
              "    }\n",
              "</style>\n",
              "<table border=\"1\" class=\"dataframe\">\n",
              "  <thead>\n",
              "    <tr style=\"text-align: right;\">\n",
              "      <th></th>\n",
              "      <th>Income</th>\n",
              "      <th>Limit</th>\n",
              "      <th>Rating</th>\n",
              "      <th>Cards</th>\n",
              "      <th>Age</th>\n",
              "      <th>Education</th>\n",
              "      <th>Gender</th>\n",
              "      <th>Student</th>\n",
              "      <th>Married</th>\n",
              "      <th>Ethnicity</th>\n",
              "      <th>Balance</th>\n",
              "    </tr>\n",
              "  </thead>\n",
              "  <tbody>\n",
              "    <tr>\n",
              "      <th>a</th>\n",
              "      <td>14.891</td>\n",
              "      <td>3606</td>\n",
              "      <td>283</td>\n",
              "      <td>2</td>\n",
              "      <td>34</td>\n",
              "      <td>11</td>\n",
              "      <td>Male</td>\n",
              "      <td>No</td>\n",
              "      <td>Yes</td>\n",
              "      <td>Caucasian</td>\n",
              "      <td>333</td>\n",
              "    </tr>\n",
              "    <tr>\n",
              "      <th>c</th>\n",
              "      <td>104.593</td>\n",
              "      <td>7075</td>\n",
              "      <td>514</td>\n",
              "      <td>4</td>\n",
              "      <td>71</td>\n",
              "      <td>11</td>\n",
              "      <td>Male</td>\n",
              "      <td>No</td>\n",
              "      <td>No</td>\n",
              "      <td>Asian</td>\n",
              "      <td>580</td>\n",
              "    </tr>\n",
              "  </tbody>\n",
              "</table>\n",
              "</div>"
            ],
            "text/plain": [
              "    Income  Limit  Rating  Cards  ...  Student  Married  Ethnicity Balance\n",
              "a   14.891   3606     283      2  ...       No      Yes  Caucasian     333\n",
              "c  104.593   7075     514      4  ...       No       No      Asian     580\n",
              "\n",
              "[2 rows x 11 columns]"
            ]
          },
          "metadata": {},
          "execution_count": 74
        }
      ]
    },
    {
      "cell_type": "code",
      "metadata": {
        "id": "Mp_zKpLRuftt",
        "colab": {
          "base_uri": "https://localhost:8080/",
          "height": 143
        },
        "outputId": "c0662bb4-4b80-4eb6-dbd5-6b21a43c4fbf"
      },
      "source": [
        "df.loc['a':'c',:]"
      ],
      "execution_count": 75,
      "outputs": [
        {
          "output_type": "execute_result",
          "data": {
            "text/html": [
              "<div>\n",
              "<style scoped>\n",
              "    .dataframe tbody tr th:only-of-type {\n",
              "        vertical-align: middle;\n",
              "    }\n",
              "\n",
              "    .dataframe tbody tr th {\n",
              "        vertical-align: top;\n",
              "    }\n",
              "\n",
              "    .dataframe thead th {\n",
              "        text-align: right;\n",
              "    }\n",
              "</style>\n",
              "<table border=\"1\" class=\"dataframe\">\n",
              "  <thead>\n",
              "    <tr style=\"text-align: right;\">\n",
              "      <th></th>\n",
              "      <th>Income</th>\n",
              "      <th>Limit</th>\n",
              "      <th>Rating</th>\n",
              "      <th>Cards</th>\n",
              "      <th>Age</th>\n",
              "      <th>Education</th>\n",
              "      <th>Gender</th>\n",
              "      <th>Student</th>\n",
              "      <th>Married</th>\n",
              "      <th>Ethnicity</th>\n",
              "      <th>Balance</th>\n",
              "    </tr>\n",
              "  </thead>\n",
              "  <tbody>\n",
              "    <tr>\n",
              "      <th>a</th>\n",
              "      <td>14.891</td>\n",
              "      <td>3606</td>\n",
              "      <td>283</td>\n",
              "      <td>2</td>\n",
              "      <td>34</td>\n",
              "      <td>11</td>\n",
              "      <td>Male</td>\n",
              "      <td>No</td>\n",
              "      <td>Yes</td>\n",
              "      <td>Caucasian</td>\n",
              "      <td>333</td>\n",
              "    </tr>\n",
              "    <tr>\n",
              "      <th>b</th>\n",
              "      <td>106.025</td>\n",
              "      <td>6645</td>\n",
              "      <td>483</td>\n",
              "      <td>3</td>\n",
              "      <td>82</td>\n",
              "      <td>15</td>\n",
              "      <td>Female</td>\n",
              "      <td>Yes</td>\n",
              "      <td>Yes</td>\n",
              "      <td>Asian</td>\n",
              "      <td>903</td>\n",
              "    </tr>\n",
              "    <tr>\n",
              "      <th>c</th>\n",
              "      <td>104.593</td>\n",
              "      <td>7075</td>\n",
              "      <td>514</td>\n",
              "      <td>4</td>\n",
              "      <td>71</td>\n",
              "      <td>11</td>\n",
              "      <td>Male</td>\n",
              "      <td>No</td>\n",
              "      <td>No</td>\n",
              "      <td>Asian</td>\n",
              "      <td>580</td>\n",
              "    </tr>\n",
              "  </tbody>\n",
              "</table>\n",
              "</div>"
            ],
            "text/plain": [
              "    Income  Limit  Rating  Cards  ...  Student  Married  Ethnicity Balance\n",
              "a   14.891   3606     283      2  ...       No      Yes  Caucasian     333\n",
              "b  106.025   6645     483      3  ...      Yes      Yes      Asian     903\n",
              "c  104.593   7075     514      4  ...       No       No      Asian     580\n",
              "\n",
              "[3 rows x 11 columns]"
            ]
          },
          "metadata": {},
          "execution_count": 75
        }
      ]
    },
    {
      "cell_type": "markdown",
      "metadata": {
        "id": "uC_3u0ruufty"
      },
      "source": [
        "**4.6 Вибір рядків за числовими індексами**\n",
        "\n",
        "Такий спосіб доступу корисний коли змінна індексів це рядок або дата. Доступ відбувається за індексами починаючи з 0. "
      ]
    },
    {
      "cell_type": "code",
      "metadata": {
        "id": "SUrnZ8rruft3",
        "colab": {
          "base_uri": "https://localhost:8080/",
          "height": 112
        },
        "outputId": "fde7f2cb-dce9-44e9-aea7-848d1e90b1ea"
      },
      "source": [
        "data.iloc[:2,:]"
      ],
      "execution_count": 76,
      "outputs": [
        {
          "output_type": "execute_result",
          "data": {
            "text/html": [
              "<div>\n",
              "<style scoped>\n",
              "    .dataframe tbody tr th:only-of-type {\n",
              "        vertical-align: middle;\n",
              "    }\n",
              "\n",
              "    .dataframe tbody tr th {\n",
              "        vertical-align: top;\n",
              "    }\n",
              "\n",
              "    .dataframe thead th {\n",
              "        text-align: right;\n",
              "    }\n",
              "</style>\n",
              "<table border=\"1\" class=\"dataframe\">\n",
              "  <thead>\n",
              "    <tr style=\"text-align: right;\">\n",
              "      <th></th>\n",
              "      <th>Income</th>\n",
              "      <th>Limit</th>\n",
              "      <th>Rating</th>\n",
              "      <th>Cards</th>\n",
              "      <th>Age</th>\n",
              "      <th>Education</th>\n",
              "      <th>Gender</th>\n",
              "      <th>Student</th>\n",
              "      <th>Married</th>\n",
              "      <th>Ethnicity</th>\n",
              "      <th>Balance</th>\n",
              "    </tr>\n",
              "  </thead>\n",
              "  <tbody>\n",
              "    <tr>\n",
              "      <th>1</th>\n",
              "      <td>14.891</td>\n",
              "      <td>3606</td>\n",
              "      <td>283</td>\n",
              "      <td>2</td>\n",
              "      <td>34</td>\n",
              "      <td>11</td>\n",
              "      <td>Male</td>\n",
              "      <td>No</td>\n",
              "      <td>Yes</td>\n",
              "      <td>Caucasian</td>\n",
              "      <td>333</td>\n",
              "    </tr>\n",
              "    <tr>\n",
              "      <th>2</th>\n",
              "      <td>106.025</td>\n",
              "      <td>6645</td>\n",
              "      <td>483</td>\n",
              "      <td>3</td>\n",
              "      <td>82</td>\n",
              "      <td>15</td>\n",
              "      <td>Female</td>\n",
              "      <td>Yes</td>\n",
              "      <td>Yes</td>\n",
              "      <td>Asian</td>\n",
              "      <td>903</td>\n",
              "    </tr>\n",
              "  </tbody>\n",
              "</table>\n",
              "</div>"
            ],
            "text/plain": [
              "    Income  Limit  Rating  Cards  ...  Student  Married  Ethnicity Balance\n",
              "1   14.891   3606     283      2  ...       No      Yes  Caucasian     333\n",
              "2  106.025   6645     483      3  ...      Yes      Yes      Asian     903\n",
              "\n",
              "[2 rows x 11 columns]"
            ]
          },
          "metadata": {},
          "execution_count": 76
        }
      ]
    },
    {
      "cell_type": "code",
      "metadata": {
        "id": "aEhb9O_XufuD",
        "colab": {
          "base_uri": "https://localhost:8080/",
          "height": 112
        },
        "outputId": "93d6207a-169f-40ee-b585-bfa122fb6df0"
      },
      "source": [
        "df.iloc[:2,:]"
      ],
      "execution_count": 77,
      "outputs": [
        {
          "output_type": "execute_result",
          "data": {
            "text/html": [
              "<div>\n",
              "<style scoped>\n",
              "    .dataframe tbody tr th:only-of-type {\n",
              "        vertical-align: middle;\n",
              "    }\n",
              "\n",
              "    .dataframe tbody tr th {\n",
              "        vertical-align: top;\n",
              "    }\n",
              "\n",
              "    .dataframe thead th {\n",
              "        text-align: right;\n",
              "    }\n",
              "</style>\n",
              "<table border=\"1\" class=\"dataframe\">\n",
              "  <thead>\n",
              "    <tr style=\"text-align: right;\">\n",
              "      <th></th>\n",
              "      <th>Income</th>\n",
              "      <th>Limit</th>\n",
              "      <th>Rating</th>\n",
              "      <th>Cards</th>\n",
              "      <th>Age</th>\n",
              "      <th>Education</th>\n",
              "      <th>Gender</th>\n",
              "      <th>Student</th>\n",
              "      <th>Married</th>\n",
              "      <th>Ethnicity</th>\n",
              "      <th>Balance</th>\n",
              "    </tr>\n",
              "  </thead>\n",
              "  <tbody>\n",
              "    <tr>\n",
              "      <th>a</th>\n",
              "      <td>14.891</td>\n",
              "      <td>3606</td>\n",
              "      <td>283</td>\n",
              "      <td>2</td>\n",
              "      <td>34</td>\n",
              "      <td>11</td>\n",
              "      <td>Male</td>\n",
              "      <td>No</td>\n",
              "      <td>Yes</td>\n",
              "      <td>Caucasian</td>\n",
              "      <td>333</td>\n",
              "    </tr>\n",
              "    <tr>\n",
              "      <th>b</th>\n",
              "      <td>106.025</td>\n",
              "      <td>6645</td>\n",
              "      <td>483</td>\n",
              "      <td>3</td>\n",
              "      <td>82</td>\n",
              "      <td>15</td>\n",
              "      <td>Female</td>\n",
              "      <td>Yes</td>\n",
              "      <td>Yes</td>\n",
              "      <td>Asian</td>\n",
              "      <td>903</td>\n",
              "    </tr>\n",
              "  </tbody>\n",
              "</table>\n",
              "</div>"
            ],
            "text/plain": [
              "    Income  Limit  Rating  Cards  ...  Student  Married  Ethnicity Balance\n",
              "a   14.891   3606     283      2  ...       No      Yes  Caucasian     333\n",
              "b  106.025   6645     483      3  ...      Yes      Yes      Asian     903\n",
              "\n",
              "[2 rows x 11 columns]"
            ]
          },
          "metadata": {},
          "execution_count": 77
        }
      ]
    },
    {
      "cell_type": "markdown",
      "metadata": {
        "id": "Na6P67vEufuO"
      },
      "source": [
        "**4.7 Одночасний вибір рядків та стовпців**\n",
        "\n",
        "За потреби можна поєднувати вибір рядків та стовпців. "
      ]
    },
    {
      "cell_type": "code",
      "metadata": {
        "id": "hmdCWlepufuQ",
        "colab": {
          "base_uri": "https://localhost:8080/",
          "height": 112
        },
        "outputId": "09649d02-9ce2-447e-b984-faad546eef31"
      },
      "source": [
        "data.loc[1:2,['Income', 'Education']] # label indexing"
      ],
      "execution_count": 78,
      "outputs": [
        {
          "output_type": "execute_result",
          "data": {
            "text/html": [
              "<div>\n",
              "<style scoped>\n",
              "    .dataframe tbody tr th:only-of-type {\n",
              "        vertical-align: middle;\n",
              "    }\n",
              "\n",
              "    .dataframe tbody tr th {\n",
              "        vertical-align: top;\n",
              "    }\n",
              "\n",
              "    .dataframe thead th {\n",
              "        text-align: right;\n",
              "    }\n",
              "</style>\n",
              "<table border=\"1\" class=\"dataframe\">\n",
              "  <thead>\n",
              "    <tr style=\"text-align: right;\">\n",
              "      <th></th>\n",
              "      <th>Income</th>\n",
              "      <th>Education</th>\n",
              "    </tr>\n",
              "  </thead>\n",
              "  <tbody>\n",
              "    <tr>\n",
              "      <th>1</th>\n",
              "      <td>14.891</td>\n",
              "      <td>11</td>\n",
              "    </tr>\n",
              "    <tr>\n",
              "      <th>2</th>\n",
              "      <td>106.025</td>\n",
              "      <td>15</td>\n",
              "    </tr>\n",
              "  </tbody>\n",
              "</table>\n",
              "</div>"
            ],
            "text/plain": [
              "    Income  Education\n",
              "1   14.891         11\n",
              "2  106.025         15"
            ]
          },
          "metadata": {},
          "execution_count": 78
        }
      ]
    },
    {
      "cell_type": "code",
      "metadata": {
        "id": "aMldnp7Wplyu"
      },
      "source": [
        "df_1 = data.loc[1:2,['Income', 'Education']]"
      ],
      "execution_count": 79,
      "outputs": []
    },
    {
      "cell_type": "code",
      "metadata": {
        "id": "cjB81_Rupuxf",
        "colab": {
          "base_uri": "https://localhost:8080/"
        },
        "outputId": "8f42d7a2-198f-41bf-8256-365875835354"
      },
      "source": [
        "df_1.info()"
      ],
      "execution_count": 80,
      "outputs": [
        {
          "output_type": "stream",
          "name": "stdout",
          "text": [
            "<class 'pandas.core.frame.DataFrame'>\n",
            "Int64Index: 2 entries, 1 to 2\n",
            "Data columns (total 2 columns):\n",
            " #   Column     Non-Null Count  Dtype  \n",
            "---  ------     --------------  -----  \n",
            " 0   Income     2 non-null      float64\n",
            " 1   Education  2 non-null      int64  \n",
            "dtypes: float64(1), int64(1)\n",
            "memory usage: 48.0 bytes\n"
          ]
        }
      ]
    },
    {
      "cell_type": "code",
      "metadata": {
        "id": "FZUPjia-ufuX",
        "colab": {
          "base_uri": "https://localhost:8080/",
          "height": 112
        },
        "outputId": "b29fd86a-1a57-4667-df3f-96afbf243695"
      },
      "source": [
        "data.iloc[:2,[0,5]]  # numerical indexing"
      ],
      "execution_count": 81,
      "outputs": [
        {
          "output_type": "execute_result",
          "data": {
            "text/html": [
              "<div>\n",
              "<style scoped>\n",
              "    .dataframe tbody tr th:only-of-type {\n",
              "        vertical-align: middle;\n",
              "    }\n",
              "\n",
              "    .dataframe tbody tr th {\n",
              "        vertical-align: top;\n",
              "    }\n",
              "\n",
              "    .dataframe thead th {\n",
              "        text-align: right;\n",
              "    }\n",
              "</style>\n",
              "<table border=\"1\" class=\"dataframe\">\n",
              "  <thead>\n",
              "    <tr style=\"text-align: right;\">\n",
              "      <th></th>\n",
              "      <th>Income</th>\n",
              "      <th>Education</th>\n",
              "    </tr>\n",
              "  </thead>\n",
              "  <tbody>\n",
              "    <tr>\n",
              "      <th>1</th>\n",
              "      <td>14.891</td>\n",
              "      <td>11</td>\n",
              "    </tr>\n",
              "    <tr>\n",
              "      <th>2</th>\n",
              "      <td>106.025</td>\n",
              "      <td>15</td>\n",
              "    </tr>\n",
              "  </tbody>\n",
              "</table>\n",
              "</div>"
            ],
            "text/plain": [
              "    Income  Education\n",
              "1   14.891         11\n",
              "2  106.025         15"
            ]
          },
          "metadata": {},
          "execution_count": 81
        }
      ]
    },
    {
      "cell_type": "markdown",
      "metadata": {
        "id": "V45Mb2_Sufue"
      },
      "source": [
        "**4.8 Поєднання міток та числових індексів**\n",
        "\n",
        "Зріз `DataFrame` є також об'єктом pandas. Отже, можна скористатися операторм . (крапка) та будувати синтаксичні конструкції де будуть поєднуватися мітки та числові індеси."
      ]
    },
    {
      "cell_type": "code",
      "metadata": {
        "id": "CHRXINB5ufuf",
        "colab": {
          "base_uri": "https://localhost:8080/",
          "height": 112
        },
        "outputId": "a37878a7-2437-4f30-8891-9040b1dd359b"
      },
      "source": [
        "data[['Income', 'Education']].iloc[0:2,:]"
      ],
      "execution_count": 82,
      "outputs": [
        {
          "output_type": "execute_result",
          "data": {
            "text/html": [
              "<div>\n",
              "<style scoped>\n",
              "    .dataframe tbody tr th:only-of-type {\n",
              "        vertical-align: middle;\n",
              "    }\n",
              "\n",
              "    .dataframe tbody tr th {\n",
              "        vertical-align: top;\n",
              "    }\n",
              "\n",
              "    .dataframe thead th {\n",
              "        text-align: right;\n",
              "    }\n",
              "</style>\n",
              "<table border=\"1\" class=\"dataframe\">\n",
              "  <thead>\n",
              "    <tr style=\"text-align: right;\">\n",
              "      <th></th>\n",
              "      <th>Income</th>\n",
              "      <th>Education</th>\n",
              "    </tr>\n",
              "  </thead>\n",
              "  <tbody>\n",
              "    <tr>\n",
              "      <th>1</th>\n",
              "      <td>14.891</td>\n",
              "      <td>11</td>\n",
              "    </tr>\n",
              "    <tr>\n",
              "      <th>2</th>\n",
              "      <td>106.025</td>\n",
              "      <td>15</td>\n",
              "    </tr>\n",
              "  </tbody>\n",
              "</table>\n",
              "</div>"
            ],
            "text/plain": [
              "    Income  Education\n",
              "1   14.891         11\n",
              "2  106.025         15"
            ]
          },
          "metadata": {},
          "execution_count": 82
        }
      ]
    },
    {
      "cell_type": "markdown",
      "metadata": {
        "id": "3N9j90Y7ufuk"
      },
      "source": [
        "**4.9 Вибір рядків за типим даних**\n",
        "\n",
        "За потреби можна вибрати всі стовпці певного типу `dtype` що дозволить їх одночасно обробити. Наступний приклад це демонструє. "
      ]
    },
    {
      "cell_type": "code",
      "metadata": {
        "id": "xPuoHThmufun",
        "colab": {
          "base_uri": "https://localhost:8080/",
          "height": 206
        },
        "outputId": "152e7c33-9627-40ef-9f14-a0528f9fa738"
      },
      "source": [
        "text_variables=data.select_dtypes(['object'])\n",
        "text_variables.head()"
      ],
      "execution_count": 83,
      "outputs": [
        {
          "output_type": "execute_result",
          "data": {
            "text/html": [
              "<div>\n",
              "<style scoped>\n",
              "    .dataframe tbody tr th:only-of-type {\n",
              "        vertical-align: middle;\n",
              "    }\n",
              "\n",
              "    .dataframe tbody tr th {\n",
              "        vertical-align: top;\n",
              "    }\n",
              "\n",
              "    .dataframe thead th {\n",
              "        text-align: right;\n",
              "    }\n",
              "</style>\n",
              "<table border=\"1\" class=\"dataframe\">\n",
              "  <thead>\n",
              "    <tr style=\"text-align: right;\">\n",
              "      <th></th>\n",
              "      <th>Gender</th>\n",
              "      <th>Student</th>\n",
              "      <th>Married</th>\n",
              "      <th>Ethnicity</th>\n",
              "    </tr>\n",
              "  </thead>\n",
              "  <tbody>\n",
              "    <tr>\n",
              "      <th>1</th>\n",
              "      <td>Male</td>\n",
              "      <td>No</td>\n",
              "      <td>Yes</td>\n",
              "      <td>Caucasian</td>\n",
              "    </tr>\n",
              "    <tr>\n",
              "      <th>2</th>\n",
              "      <td>Female</td>\n",
              "      <td>Yes</td>\n",
              "      <td>Yes</td>\n",
              "      <td>Asian</td>\n",
              "    </tr>\n",
              "    <tr>\n",
              "      <th>3</th>\n",
              "      <td>Male</td>\n",
              "      <td>No</td>\n",
              "      <td>No</td>\n",
              "      <td>Asian</td>\n",
              "    </tr>\n",
              "    <tr>\n",
              "      <th>4</th>\n",
              "      <td>Female</td>\n",
              "      <td>No</td>\n",
              "      <td>No</td>\n",
              "      <td>Asian</td>\n",
              "    </tr>\n",
              "    <tr>\n",
              "      <th>5</th>\n",
              "      <td>Male</td>\n",
              "      <td>No</td>\n",
              "      <td>Yes</td>\n",
              "      <td>Caucasian</td>\n",
              "    </tr>\n",
              "  </tbody>\n",
              "</table>\n",
              "</div>"
            ],
            "text/plain": [
              "   Gender Student Married  Ethnicity\n",
              "1    Male      No     Yes  Caucasian\n",
              "2  Female     Yes     Yes      Asian\n",
              "3    Male      No      No      Asian\n",
              "4  Female      No      No      Asian\n",
              "5    Male      No     Yes  Caucasian"
            ]
          },
          "metadata": {},
          "execution_count": 83
        }
      ]
    },
    {
      "cell_type": "markdown",
      "metadata": {
        "id": "iKTfexJaufuu"
      },
      "source": [
        "### 5. Вибір даних за умовою\n",
        "\n",
        "Нехай потрібно потрібно знайти середнє значення балансу по всіх кредитних картках, які належать чоловікам. Нижче показано як обрати потрібні стовпці та знайти середнє значення."
      ]
    },
    {
      "cell_type": "code",
      "metadata": {
        "id": "e4gXhP4lufuw",
        "colab": {
          "base_uri": "https://localhost:8080/"
        },
        "outputId": "2a474a6d-bc12-4531-89c8-1ab0e0641502"
      },
      "source": [
        "data.loc[data['Gender']=='Male','Balance'].mean()"
      ],
      "execution_count": 84,
      "outputs": [
        {
          "output_type": "execute_result",
          "data": {
            "text/plain": [
              "509.8031088082902"
            ]
          },
          "metadata": {},
          "execution_count": 84
        }
      ]
    },
    {
      "cell_type": "markdown",
      "metadata": {
        "id": "MhXu9HZGufu7"
      },
      "source": [
        "В аргументах методу `loc` вказано булевий вираз, який дозволяє створити бінарні змінні що приймають значення `True` чи `False` для кожного рядка. Наступний приклад демострує це більш детально."
      ]
    },
    {
      "cell_type": "code",
      "metadata": {
        "id": "HzkT_LZoufu9",
        "colab": {
          "base_uri": "https://localhost:8080/",
          "height": 243
        },
        "outputId": "04feb9e0-f5b3-46ef-c1c8-0b001f23f2af"
      },
      "source": [
        "print(data['Gender'].head())\n",
        "print('')\n",
        "print((data['Gender']=='Female').head())"
      ],
      "execution_count": null,
      "outputs": [
        {
          "output_type": "stream",
          "text": [
            "1      Male\n",
            "2    Female\n",
            "3      Male\n",
            "4    Female\n",
            "5      Male\n",
            "Name: Gender, dtype: object\n",
            "\n",
            "1    False\n",
            "2     True\n",
            "3    False\n",
            "4     True\n",
            "5    False\n",
            "Name: Gender, dtype: bool\n"
          ],
          "name": "stdout"
        }
      ]
    },
    {
      "cell_type": "markdown",
      "metadata": {
        "id": "cfuuH-99ufvD"
      },
      "source": [
        "Можна використовувати й більш складні умовні конструкції. Наступний приклад демонструє як обрати дані про жінок, що молодші за 30 років та знайти їх середнє значення.  "
      ]
    },
    {
      "cell_type": "code",
      "metadata": {
        "id": "xluPiEDWufvE",
        "colab": {
          "base_uri": "https://localhost:8080/",
          "height": 34
        },
        "outputId": "40edbe6b-5077-41e9-bed2-7c1551fb9554"
      },
      "source": [
        "data.loc[(data['Gender']=='Female') & (data['Age']<30),'Balance'].mean()"
      ],
      "execution_count": null,
      "outputs": [
        {
          "output_type": "execute_result",
          "data": {
            "text/plain": [
              "540.7058823529412"
            ]
          },
          "metadata": {
            "tags": []
          },
          "execution_count": 72
        }
      ]
    },
    {
      "cell_type": "markdown",
      "metadata": {
        "id": "EYzGF5OrufvJ"
      },
      "source": [
        "За наступним посиланням <a href=\"http://www.tutorialspoint.com/python/python_basic_operators.htm\" target=\"_blank\">reference page</a> можна повторити матеріал про умовні оператори в Python. "
      ]
    },
    {
      "cell_type": "markdown",
      "metadata": {
        "id": "IpUJIuwlufvL"
      },
      "source": [
        "### 6. Присвоювання значень\n",
        "\n",
        "Метод <a href=\"http://pandas.pydata.org/pandas-docs/stable/generated/pandas.Series.unique.html\" target=\"_blank\">unique</a> pandas дозволяє переглянути всі унікальні значення у стовпці. "
      ]
    },
    {
      "cell_type": "code",
      "metadata": {
        "id": "yW_DaIYEufvL",
        "colab": {
          "base_uri": "https://localhost:8080/"
        },
        "outputId": "5374dd43-2ce2-41b9-d67e-d8e45d9de496"
      },
      "source": [
        "data['Gender'].unique()"
      ],
      "execution_count": 85,
      "outputs": [
        {
          "output_type": "execute_result",
          "data": {
            "text/plain": [
              "array(['Male', 'Female'], dtype=object)"
            ]
          },
          "metadata": {},
          "execution_count": 85
        }
      ]
    },
    {
      "cell_type": "code",
      "metadata": {
        "id": "6a5xWVhBuzeN",
        "colab": {
          "base_uri": "https://localhost:8080/"
        },
        "outputId": "82ff7ad9-7347-4ef4-94cf-c4b2d3286d52"
      },
      "source": [
        "data['Age'].unique()"
      ],
      "execution_count": 86,
      "outputs": [
        {
          "output_type": "execute_result",
          "data": {
            "text/plain": [
              "array([34, 82, 71, 36, 68, 77, 37, 87, 66, 41, 30, 64, 57, 49, 75, 73, 69,\n",
              "       28, 44, 63, 72, 61, 48, 25, 55, 47, 43, 54, 24, 50, 27, 32, 60, 79,\n",
              "       65, 70, 81, 35, 59, 38, 78, 31, 45, 40, 83, 33, 52, 42, 51, 26, 46,\n",
              "       74, 56, 53, 58, 62, 67, 84, 89, 80, 29, 85, 39, 91, 76, 86, 98, 23])"
            ]
          },
          "metadata": {},
          "execution_count": 86
        }
      ]
    },
    {
      "cell_type": "markdown",
      "metadata": {
        "id": "BoHjftoeufvP"
      },
      "source": [
        "Наступний приклад демострує як можна одночасно присвоїти значення у стовпці з використанням умови. \n",
        "\n",
        "Також цей приклад показує які проблеми можуть містити дані. Якщо значення містить один зайвий пробіл то при роботі з таким даними часто можна отримувати помилки, які не легко зрозуміти. "
      ]
    },
    {
      "cell_type": "code",
      "metadata": {
        "id": "JGJj9-EnufvR",
        "colab": {
          "base_uri": "https://localhost:8080/",
          "height": 206
        },
        "outputId": "67bf480e-b047-4af2-a188-dfc42320dfe6"
      },
      "source": [
        "data.loc[data['Gender']=='Male','Gender']=' Male'\n",
        "data.head()"
      ],
      "execution_count": 88,
      "outputs": [
        {
          "output_type": "execute_result",
          "data": {
            "text/html": [
              "<div>\n",
              "<style scoped>\n",
              "    .dataframe tbody tr th:only-of-type {\n",
              "        vertical-align: middle;\n",
              "    }\n",
              "\n",
              "    .dataframe tbody tr th {\n",
              "        vertical-align: top;\n",
              "    }\n",
              "\n",
              "    .dataframe thead th {\n",
              "        text-align: right;\n",
              "    }\n",
              "</style>\n",
              "<table border=\"1\" class=\"dataframe\">\n",
              "  <thead>\n",
              "    <tr style=\"text-align: right;\">\n",
              "      <th></th>\n",
              "      <th>Income</th>\n",
              "      <th>Limit</th>\n",
              "      <th>Rating</th>\n",
              "      <th>Cards</th>\n",
              "      <th>Age</th>\n",
              "      <th>Education</th>\n",
              "      <th>Gender</th>\n",
              "      <th>Student</th>\n",
              "      <th>Married</th>\n",
              "      <th>Ethnicity</th>\n",
              "      <th>Balance</th>\n",
              "    </tr>\n",
              "  </thead>\n",
              "  <tbody>\n",
              "    <tr>\n",
              "      <th>1</th>\n",
              "      <td>14.891</td>\n",
              "      <td>3606</td>\n",
              "      <td>283</td>\n",
              "      <td>2</td>\n",
              "      <td>34</td>\n",
              "      <td>11</td>\n",
              "      <td>Male</td>\n",
              "      <td>No</td>\n",
              "      <td>Yes</td>\n",
              "      <td>Caucasian</td>\n",
              "      <td>333</td>\n",
              "    </tr>\n",
              "    <tr>\n",
              "      <th>2</th>\n",
              "      <td>106.025</td>\n",
              "      <td>6645</td>\n",
              "      <td>483</td>\n",
              "      <td>3</td>\n",
              "      <td>82</td>\n",
              "      <td>15</td>\n",
              "      <td>Female</td>\n",
              "      <td>Yes</td>\n",
              "      <td>Yes</td>\n",
              "      <td>Asian</td>\n",
              "      <td>903</td>\n",
              "    </tr>\n",
              "    <tr>\n",
              "      <th>3</th>\n",
              "      <td>104.593</td>\n",
              "      <td>7075</td>\n",
              "      <td>514</td>\n",
              "      <td>4</td>\n",
              "      <td>71</td>\n",
              "      <td>11</td>\n",
              "      <td>Male</td>\n",
              "      <td>No</td>\n",
              "      <td>No</td>\n",
              "      <td>Asian</td>\n",
              "      <td>580</td>\n",
              "    </tr>\n",
              "    <tr>\n",
              "      <th>4</th>\n",
              "      <td>148.924</td>\n",
              "      <td>9504</td>\n",
              "      <td>681</td>\n",
              "      <td>3</td>\n",
              "      <td>36</td>\n",
              "      <td>11</td>\n",
              "      <td>Female</td>\n",
              "      <td>No</td>\n",
              "      <td>No</td>\n",
              "      <td>Asian</td>\n",
              "      <td>964</td>\n",
              "    </tr>\n",
              "    <tr>\n",
              "      <th>5</th>\n",
              "      <td>55.882</td>\n",
              "      <td>4897</td>\n",
              "      <td>357</td>\n",
              "      <td>2</td>\n",
              "      <td>68</td>\n",
              "      <td>16</td>\n",
              "      <td>Male</td>\n",
              "      <td>No</td>\n",
              "      <td>Yes</td>\n",
              "      <td>Caucasian</td>\n",
              "      <td>331</td>\n",
              "    </tr>\n",
              "  </tbody>\n",
              "</table>\n",
              "</div>"
            ],
            "text/plain": [
              "    Income  Limit  Rating  Cards  ...  Student  Married  Ethnicity Balance\n",
              "1   14.891   3606     283      2  ...       No      Yes  Caucasian     333\n",
              "2  106.025   6645     483      3  ...      Yes      Yes      Asian     903\n",
              "3  104.593   7075     514      4  ...       No       No      Asian     580\n",
              "4  148.924   9504     681      3  ...       No       No      Asian     964\n",
              "5   55.882   4897     357      2  ...       No      Yes  Caucasian     331\n",
              "\n",
              "[5 rows x 11 columns]"
            ]
          },
          "metadata": {},
          "execution_count": 88
        }
      ]
    },
    {
      "cell_type": "code",
      "metadata": {
        "id": "xqpHzTTpufvV",
        "colab": {
          "base_uri": "https://localhost:8080/"
        },
        "outputId": "50da8866-ae95-4c28-a4a2-1bb54432585a"
      },
      "source": [
        "data['Gender'].unique()"
      ],
      "execution_count": 89,
      "outputs": [
        {
          "output_type": "execute_result",
          "data": {
            "text/plain": [
              "array([' Male', 'Female'], dtype=object)"
            ]
          },
          "metadata": {},
          "execution_count": 89
        }
      ]
    },
    {
      "cell_type": "code",
      "metadata": {
        "id": "UCrduSrDwkwR",
        "colab": {
          "base_uri": "https://localhost:8080/"
        },
        "outputId": "8b139d49-e6c2-4a11-b9cf-2c07829503c0"
      },
      "source": [
        "data.loc[(data['Gender']=='Male') & (data['Age']<30),'Balance'].mean()"
      ],
      "execution_count": 92,
      "outputs": [
        {
          "output_type": "execute_result",
          "data": {
            "text/plain": [
              "467.2857142857143"
            ]
          },
          "metadata": {},
          "execution_count": 92
        }
      ]
    },
    {
      "cell_type": "code",
      "metadata": {
        "id": "hY-If_S3wd9o",
        "colab": {
          "base_uri": "https://localhost:8080/",
          "height": 206
        },
        "outputId": "ba294f70-1238-4ccf-82b0-ce88e88f1dad"
      },
      "source": [
        "data.loc[data['Gender']==' Male','Gender']='Male'\n",
        "data.head()"
      ],
      "execution_count": 91,
      "outputs": [
        {
          "output_type": "execute_result",
          "data": {
            "text/html": [
              "<div>\n",
              "<style scoped>\n",
              "    .dataframe tbody tr th:only-of-type {\n",
              "        vertical-align: middle;\n",
              "    }\n",
              "\n",
              "    .dataframe tbody tr th {\n",
              "        vertical-align: top;\n",
              "    }\n",
              "\n",
              "    .dataframe thead th {\n",
              "        text-align: right;\n",
              "    }\n",
              "</style>\n",
              "<table border=\"1\" class=\"dataframe\">\n",
              "  <thead>\n",
              "    <tr style=\"text-align: right;\">\n",
              "      <th></th>\n",
              "      <th>Income</th>\n",
              "      <th>Limit</th>\n",
              "      <th>Rating</th>\n",
              "      <th>Cards</th>\n",
              "      <th>Age</th>\n",
              "      <th>Education</th>\n",
              "      <th>Gender</th>\n",
              "      <th>Student</th>\n",
              "      <th>Married</th>\n",
              "      <th>Ethnicity</th>\n",
              "      <th>Balance</th>\n",
              "    </tr>\n",
              "  </thead>\n",
              "  <tbody>\n",
              "    <tr>\n",
              "      <th>1</th>\n",
              "      <td>14.891</td>\n",
              "      <td>3606</td>\n",
              "      <td>283</td>\n",
              "      <td>2</td>\n",
              "      <td>34</td>\n",
              "      <td>11</td>\n",
              "      <td>Male</td>\n",
              "      <td>No</td>\n",
              "      <td>Yes</td>\n",
              "      <td>Caucasian</td>\n",
              "      <td>333</td>\n",
              "    </tr>\n",
              "    <tr>\n",
              "      <th>2</th>\n",
              "      <td>106.025</td>\n",
              "      <td>6645</td>\n",
              "      <td>483</td>\n",
              "      <td>3</td>\n",
              "      <td>82</td>\n",
              "      <td>15</td>\n",
              "      <td>Female</td>\n",
              "      <td>Yes</td>\n",
              "      <td>Yes</td>\n",
              "      <td>Asian</td>\n",
              "      <td>903</td>\n",
              "    </tr>\n",
              "    <tr>\n",
              "      <th>3</th>\n",
              "      <td>104.593</td>\n",
              "      <td>7075</td>\n",
              "      <td>514</td>\n",
              "      <td>4</td>\n",
              "      <td>71</td>\n",
              "      <td>11</td>\n",
              "      <td>Male</td>\n",
              "      <td>No</td>\n",
              "      <td>No</td>\n",
              "      <td>Asian</td>\n",
              "      <td>580</td>\n",
              "    </tr>\n",
              "    <tr>\n",
              "      <th>4</th>\n",
              "      <td>148.924</td>\n",
              "      <td>9504</td>\n",
              "      <td>681</td>\n",
              "      <td>3</td>\n",
              "      <td>36</td>\n",
              "      <td>11</td>\n",
              "      <td>Female</td>\n",
              "      <td>No</td>\n",
              "      <td>No</td>\n",
              "      <td>Asian</td>\n",
              "      <td>964</td>\n",
              "    </tr>\n",
              "    <tr>\n",
              "      <th>5</th>\n",
              "      <td>55.882</td>\n",
              "      <td>4897</td>\n",
              "      <td>357</td>\n",
              "      <td>2</td>\n",
              "      <td>68</td>\n",
              "      <td>16</td>\n",
              "      <td>Male</td>\n",
              "      <td>No</td>\n",
              "      <td>Yes</td>\n",
              "      <td>Caucasian</td>\n",
              "      <td>331</td>\n",
              "    </tr>\n",
              "  </tbody>\n",
              "</table>\n",
              "</div>"
            ],
            "text/plain": [
              "    Income  Limit  Rating  Cards  ...  Student  Married  Ethnicity Balance\n",
              "1   14.891   3606     283      2  ...       No      Yes  Caucasian     333\n",
              "2  106.025   6645     483      3  ...      Yes      Yes      Asian     903\n",
              "3  104.593   7075     514      4  ...       No       No      Asian     580\n",
              "4  148.924   9504     681      3  ...       No       No      Asian     964\n",
              "5   55.882   4897     357      2  ...       No      Yes  Caucasian     331\n",
              "\n",
              "[5 rows x 11 columns]"
            ]
          },
          "metadata": {},
          "execution_count": 91
        }
      ]
    },
    {
      "cell_type": "markdown",
      "metadata": {
        "id": "-A344r7gufvx"
      },
      "source": [
        "### 7. Описова статистика (Descriptive statistics)\n",
        "\n",
        "Після завантаження даних можна починати їх аналіз. Найпростіше що можна зробити це обчислити статистичні характеристики. Метод `describe` дозволяє отримати таблицю з цими статистичними даними.  "
      ]
    },
    {
      "cell_type": "code",
      "metadata": {
        "id": "e28K987Rufv0",
        "colab": {
          "base_uri": "https://localhost:8080/",
          "height": 300
        },
        "outputId": "481b50f9-3ef4-4f60-a60f-b26ce10fe397"
      },
      "source": [
        "data.describe().round(1) \n",
        "# round to limit the number of decimal places in the output, try without it"
      ],
      "execution_count": 93,
      "outputs": [
        {
          "output_type": "execute_result",
          "data": {
            "text/html": [
              "<div>\n",
              "<style scoped>\n",
              "    .dataframe tbody tr th:only-of-type {\n",
              "        vertical-align: middle;\n",
              "    }\n",
              "\n",
              "    .dataframe tbody tr th {\n",
              "        vertical-align: top;\n",
              "    }\n",
              "\n",
              "    .dataframe thead th {\n",
              "        text-align: right;\n",
              "    }\n",
              "</style>\n",
              "<table border=\"1\" class=\"dataframe\">\n",
              "  <thead>\n",
              "    <tr style=\"text-align: right;\">\n",
              "      <th></th>\n",
              "      <th>Income</th>\n",
              "      <th>Limit</th>\n",
              "      <th>Rating</th>\n",
              "      <th>Cards</th>\n",
              "      <th>Age</th>\n",
              "      <th>Education</th>\n",
              "      <th>Balance</th>\n",
              "    </tr>\n",
              "  </thead>\n",
              "  <tbody>\n",
              "    <tr>\n",
              "      <th>count</th>\n",
              "      <td>400.0</td>\n",
              "      <td>400.0</td>\n",
              "      <td>400.0</td>\n",
              "      <td>400.0</td>\n",
              "      <td>400.0</td>\n",
              "      <td>400.0</td>\n",
              "      <td>400.0</td>\n",
              "    </tr>\n",
              "    <tr>\n",
              "      <th>mean</th>\n",
              "      <td>45.2</td>\n",
              "      <td>4735.6</td>\n",
              "      <td>354.9</td>\n",
              "      <td>3.0</td>\n",
              "      <td>55.7</td>\n",
              "      <td>13.4</td>\n",
              "      <td>520.0</td>\n",
              "    </tr>\n",
              "    <tr>\n",
              "      <th>std</th>\n",
              "      <td>35.2</td>\n",
              "      <td>2308.2</td>\n",
              "      <td>154.7</td>\n",
              "      <td>1.4</td>\n",
              "      <td>17.2</td>\n",
              "      <td>3.1</td>\n",
              "      <td>459.8</td>\n",
              "    </tr>\n",
              "    <tr>\n",
              "      <th>min</th>\n",
              "      <td>10.4</td>\n",
              "      <td>855.0</td>\n",
              "      <td>93.0</td>\n",
              "      <td>1.0</td>\n",
              "      <td>23.0</td>\n",
              "      <td>5.0</td>\n",
              "      <td>0.0</td>\n",
              "    </tr>\n",
              "    <tr>\n",
              "      <th>25%</th>\n",
              "      <td>21.0</td>\n",
              "      <td>3088.0</td>\n",
              "      <td>247.2</td>\n",
              "      <td>2.0</td>\n",
              "      <td>41.8</td>\n",
              "      <td>11.0</td>\n",
              "      <td>68.8</td>\n",
              "    </tr>\n",
              "    <tr>\n",
              "      <th>50%</th>\n",
              "      <td>33.1</td>\n",
              "      <td>4622.5</td>\n",
              "      <td>344.0</td>\n",
              "      <td>3.0</td>\n",
              "      <td>56.0</td>\n",
              "      <td>14.0</td>\n",
              "      <td>459.5</td>\n",
              "    </tr>\n",
              "    <tr>\n",
              "      <th>75%</th>\n",
              "      <td>57.5</td>\n",
              "      <td>5872.8</td>\n",
              "      <td>437.2</td>\n",
              "      <td>4.0</td>\n",
              "      <td>70.0</td>\n",
              "      <td>16.0</td>\n",
              "      <td>863.0</td>\n",
              "    </tr>\n",
              "    <tr>\n",
              "      <th>max</th>\n",
              "      <td>186.6</td>\n",
              "      <td>13913.0</td>\n",
              "      <td>982.0</td>\n",
              "      <td>9.0</td>\n",
              "      <td>98.0</td>\n",
              "      <td>20.0</td>\n",
              "      <td>1999.0</td>\n",
              "    </tr>\n",
              "  </tbody>\n",
              "</table>\n",
              "</div>"
            ],
            "text/plain": [
              "       Income    Limit  Rating  Cards    Age  Education  Balance\n",
              "count   400.0    400.0   400.0  400.0  400.0      400.0    400.0\n",
              "mean     45.2   4735.6   354.9    3.0   55.7       13.4    520.0\n",
              "std      35.2   2308.2   154.7    1.4   17.2        3.1    459.8\n",
              "min      10.4    855.0    93.0    1.0   23.0        5.0      0.0\n",
              "25%      21.0   3088.0   247.2    2.0   41.8       11.0     68.8\n",
              "50%      33.1   4622.5   344.0    3.0   56.0       14.0    459.5\n",
              "75%      57.5   5872.8   437.2    4.0   70.0       16.0    863.0\n",
              "max     186.6  13913.0   982.0    9.0   98.0       20.0   1999.0"
            ]
          },
          "metadata": {},
          "execution_count": 93
        }
      ]
    },
    {
      "cell_type": "code",
      "metadata": {
        "id": "YOyQWTdDx3jE",
        "colab": {
          "base_uri": "https://localhost:8080/",
          "height": 300
        },
        "outputId": "75d7f091-e4e8-4455-add1-aeb9e975bde8"
      },
      "source": [
        "data.describe()"
      ],
      "execution_count": 94,
      "outputs": [
        {
          "output_type": "execute_result",
          "data": {
            "text/html": [
              "<div>\n",
              "<style scoped>\n",
              "    .dataframe tbody tr th:only-of-type {\n",
              "        vertical-align: middle;\n",
              "    }\n",
              "\n",
              "    .dataframe tbody tr th {\n",
              "        vertical-align: top;\n",
              "    }\n",
              "\n",
              "    .dataframe thead th {\n",
              "        text-align: right;\n",
              "    }\n",
              "</style>\n",
              "<table border=\"1\" class=\"dataframe\">\n",
              "  <thead>\n",
              "    <tr style=\"text-align: right;\">\n",
              "      <th></th>\n",
              "      <th>Income</th>\n",
              "      <th>Limit</th>\n",
              "      <th>Rating</th>\n",
              "      <th>Cards</th>\n",
              "      <th>Age</th>\n",
              "      <th>Education</th>\n",
              "      <th>Balance</th>\n",
              "    </tr>\n",
              "  </thead>\n",
              "  <tbody>\n",
              "    <tr>\n",
              "      <th>count</th>\n",
              "      <td>400.000000</td>\n",
              "      <td>400.000000</td>\n",
              "      <td>400.000000</td>\n",
              "      <td>400.000000</td>\n",
              "      <td>400.000000</td>\n",
              "      <td>400.000000</td>\n",
              "      <td>400.000000</td>\n",
              "    </tr>\n",
              "    <tr>\n",
              "      <th>mean</th>\n",
              "      <td>45.218885</td>\n",
              "      <td>4735.600000</td>\n",
              "      <td>354.940000</td>\n",
              "      <td>2.957500</td>\n",
              "      <td>55.667500</td>\n",
              "      <td>13.450000</td>\n",
              "      <td>520.015000</td>\n",
              "    </tr>\n",
              "    <tr>\n",
              "      <th>std</th>\n",
              "      <td>35.244273</td>\n",
              "      <td>2308.198848</td>\n",
              "      <td>154.724143</td>\n",
              "      <td>1.371275</td>\n",
              "      <td>17.249807</td>\n",
              "      <td>3.125207</td>\n",
              "      <td>459.758877</td>\n",
              "    </tr>\n",
              "    <tr>\n",
              "      <th>min</th>\n",
              "      <td>10.354000</td>\n",
              "      <td>855.000000</td>\n",
              "      <td>93.000000</td>\n",
              "      <td>1.000000</td>\n",
              "      <td>23.000000</td>\n",
              "      <td>5.000000</td>\n",
              "      <td>0.000000</td>\n",
              "    </tr>\n",
              "    <tr>\n",
              "      <th>25%</th>\n",
              "      <td>21.007250</td>\n",
              "      <td>3088.000000</td>\n",
              "      <td>247.250000</td>\n",
              "      <td>2.000000</td>\n",
              "      <td>41.750000</td>\n",
              "      <td>11.000000</td>\n",
              "      <td>68.750000</td>\n",
              "    </tr>\n",
              "    <tr>\n",
              "      <th>50%</th>\n",
              "      <td>33.115500</td>\n",
              "      <td>4622.500000</td>\n",
              "      <td>344.000000</td>\n",
              "      <td>3.000000</td>\n",
              "      <td>56.000000</td>\n",
              "      <td>14.000000</td>\n",
              "      <td>459.500000</td>\n",
              "    </tr>\n",
              "    <tr>\n",
              "      <th>75%</th>\n",
              "      <td>57.470750</td>\n",
              "      <td>5872.750000</td>\n",
              "      <td>437.250000</td>\n",
              "      <td>4.000000</td>\n",
              "      <td>70.000000</td>\n",
              "      <td>16.000000</td>\n",
              "      <td>863.000000</td>\n",
              "    </tr>\n",
              "    <tr>\n",
              "      <th>max</th>\n",
              "      <td>186.634000</td>\n",
              "      <td>13913.000000</td>\n",
              "      <td>982.000000</td>\n",
              "      <td>9.000000</td>\n",
              "      <td>98.000000</td>\n",
              "      <td>20.000000</td>\n",
              "      <td>1999.000000</td>\n",
              "    </tr>\n",
              "  </tbody>\n",
              "</table>\n",
              "</div>"
            ],
            "text/plain": [
              "           Income         Limit  ...   Education      Balance\n",
              "count  400.000000    400.000000  ...  400.000000   400.000000\n",
              "mean    45.218885   4735.600000  ...   13.450000   520.015000\n",
              "std     35.244273   2308.198848  ...    3.125207   459.758877\n",
              "min     10.354000    855.000000  ...    5.000000     0.000000\n",
              "25%     21.007250   3088.000000  ...   11.000000    68.750000\n",
              "50%     33.115500   4622.500000  ...   14.000000   459.500000\n",
              "75%     57.470750   5872.750000  ...   16.000000   863.000000\n",
              "max    186.634000  13913.000000  ...   20.000000  1999.000000\n",
              "\n",
              "[8 rows x 7 columns]"
            ]
          },
          "metadata": {},
          "execution_count": 94
        }
      ]
    },
    {
      "cell_type": "code",
      "metadata": {
        "id": "JqNYHxJqx9Ci",
        "colab": {
          "base_uri": "https://localhost:8080/",
          "height": 300
        },
        "outputId": "57cb0ca8-748c-44d3-95d5-2f85f5adb7e8"
      },
      "source": [
        "data.describe().round()"
      ],
      "execution_count": 95,
      "outputs": [
        {
          "output_type": "execute_result",
          "data": {
            "text/html": [
              "<div>\n",
              "<style scoped>\n",
              "    .dataframe tbody tr th:only-of-type {\n",
              "        vertical-align: middle;\n",
              "    }\n",
              "\n",
              "    .dataframe tbody tr th {\n",
              "        vertical-align: top;\n",
              "    }\n",
              "\n",
              "    .dataframe thead th {\n",
              "        text-align: right;\n",
              "    }\n",
              "</style>\n",
              "<table border=\"1\" class=\"dataframe\">\n",
              "  <thead>\n",
              "    <tr style=\"text-align: right;\">\n",
              "      <th></th>\n",
              "      <th>Income</th>\n",
              "      <th>Limit</th>\n",
              "      <th>Rating</th>\n",
              "      <th>Cards</th>\n",
              "      <th>Age</th>\n",
              "      <th>Education</th>\n",
              "      <th>Balance</th>\n",
              "    </tr>\n",
              "  </thead>\n",
              "  <tbody>\n",
              "    <tr>\n",
              "      <th>count</th>\n",
              "      <td>400.0</td>\n",
              "      <td>400.0</td>\n",
              "      <td>400.0</td>\n",
              "      <td>400.0</td>\n",
              "      <td>400.0</td>\n",
              "      <td>400.0</td>\n",
              "      <td>400.0</td>\n",
              "    </tr>\n",
              "    <tr>\n",
              "      <th>mean</th>\n",
              "      <td>45.0</td>\n",
              "      <td>4736.0</td>\n",
              "      <td>355.0</td>\n",
              "      <td>3.0</td>\n",
              "      <td>56.0</td>\n",
              "      <td>13.0</td>\n",
              "      <td>520.0</td>\n",
              "    </tr>\n",
              "    <tr>\n",
              "      <th>std</th>\n",
              "      <td>35.0</td>\n",
              "      <td>2308.0</td>\n",
              "      <td>155.0</td>\n",
              "      <td>1.0</td>\n",
              "      <td>17.0</td>\n",
              "      <td>3.0</td>\n",
              "      <td>460.0</td>\n",
              "    </tr>\n",
              "    <tr>\n",
              "      <th>min</th>\n",
              "      <td>10.0</td>\n",
              "      <td>855.0</td>\n",
              "      <td>93.0</td>\n",
              "      <td>1.0</td>\n",
              "      <td>23.0</td>\n",
              "      <td>5.0</td>\n",
              "      <td>0.0</td>\n",
              "    </tr>\n",
              "    <tr>\n",
              "      <th>25%</th>\n",
              "      <td>21.0</td>\n",
              "      <td>3088.0</td>\n",
              "      <td>247.0</td>\n",
              "      <td>2.0</td>\n",
              "      <td>42.0</td>\n",
              "      <td>11.0</td>\n",
              "      <td>69.0</td>\n",
              "    </tr>\n",
              "    <tr>\n",
              "      <th>50%</th>\n",
              "      <td>33.0</td>\n",
              "      <td>4622.0</td>\n",
              "      <td>344.0</td>\n",
              "      <td>3.0</td>\n",
              "      <td>56.0</td>\n",
              "      <td>14.0</td>\n",
              "      <td>460.0</td>\n",
              "    </tr>\n",
              "    <tr>\n",
              "      <th>75%</th>\n",
              "      <td>57.0</td>\n",
              "      <td>5873.0</td>\n",
              "      <td>437.0</td>\n",
              "      <td>4.0</td>\n",
              "      <td>70.0</td>\n",
              "      <td>16.0</td>\n",
              "      <td>863.0</td>\n",
              "    </tr>\n",
              "    <tr>\n",
              "      <th>max</th>\n",
              "      <td>187.0</td>\n",
              "      <td>13913.0</td>\n",
              "      <td>982.0</td>\n",
              "      <td>9.0</td>\n",
              "      <td>98.0</td>\n",
              "      <td>20.0</td>\n",
              "      <td>1999.0</td>\n",
              "    </tr>\n",
              "  </tbody>\n",
              "</table>\n",
              "</div>"
            ],
            "text/plain": [
              "       Income    Limit  Rating  Cards    Age  Education  Balance\n",
              "count   400.0    400.0   400.0  400.0  400.0      400.0    400.0\n",
              "mean     45.0   4736.0   355.0    3.0   56.0       13.0    520.0\n",
              "std      35.0   2308.0   155.0    1.0   17.0        3.0    460.0\n",
              "min      10.0    855.0    93.0    1.0   23.0        5.0      0.0\n",
              "25%      21.0   3088.0   247.0    2.0   42.0       11.0     69.0\n",
              "50%      33.0   4622.0   344.0    3.0   56.0       14.0    460.0\n",
              "75%      57.0   5873.0   437.0    4.0   70.0       16.0    863.0\n",
              "max     187.0  13913.0   982.0    9.0   98.0       20.0   1999.0"
            ]
          },
          "metadata": {},
          "execution_count": 95
        }
      ]
    },
    {
      "cell_type": "markdown",
      "metadata": {
        "id": "qrEGPkytufv4"
      },
      "source": [
        "Статистичні характеристики можна обчислити за допомогою окремих функцій. Якщо звернутися до документації [pandas documentation](http://pandas.pydata.org/pandas-docs/stable/api.html#api-dataframe-stats) то можна дізнатися перелік цих функцій. Наприклда, нижче обчислено: (a) середнє значення всіх змінних в наборі даних (b) кореляцію між income та лімітом кредитних карток. "
      ]
    },
    {
      "cell_type": "code",
      "metadata": {
        "id": "PUk6IYZgufv6",
        "colab": {
          "base_uri": "https://localhost:8080/",
          "height": 156
        },
        "outputId": "56aee784-7fb6-40c9-a19d-538699e3497b"
      },
      "source": [
        "data.mean().round(2)"
      ],
      "execution_count": null,
      "outputs": [
        {
          "output_type": "execute_result",
          "data": {
            "text/plain": [
              "Income         45.22\n",
              "Limit        4735.60\n",
              "Rating        354.94\n",
              "Cards           2.96\n",
              "Age            55.67\n",
              "Education      13.45\n",
              "Balance       520.02\n",
              "dtype: float64"
            ]
          },
          "metadata": {
            "tags": []
          },
          "execution_count": 86
        }
      ]
    },
    {
      "cell_type": "code",
      "metadata": {
        "id": "tUhHZSm5ufwD",
        "colab": {
          "base_uri": "https://localhost:8080/",
          "height": 112
        },
        "outputId": "49982218-d8c2-4280-c730-81354d79e5cd"
      },
      "source": [
        "data[['Income','Limit']].corr().round(2)"
      ],
      "execution_count": null,
      "outputs": [
        {
          "output_type": "execute_result",
          "data": {
            "text/html": [
              "<div>\n",
              "<style scoped>\n",
              "    .dataframe tbody tr th:only-of-type {\n",
              "        vertical-align: middle;\n",
              "    }\n",
              "\n",
              "    .dataframe tbody tr th {\n",
              "        vertical-align: top;\n",
              "    }\n",
              "\n",
              "    .dataframe thead th {\n",
              "        text-align: right;\n",
              "    }\n",
              "</style>\n",
              "<table border=\"1\" class=\"dataframe\">\n",
              "  <thead>\n",
              "    <tr style=\"text-align: right;\">\n",
              "      <th></th>\n",
              "      <th>Income</th>\n",
              "      <th>Limit</th>\n",
              "    </tr>\n",
              "  </thead>\n",
              "  <tbody>\n",
              "    <tr>\n",
              "      <th>Income</th>\n",
              "      <td>1.00</td>\n",
              "      <td>0.79</td>\n",
              "    </tr>\n",
              "    <tr>\n",
              "      <th>Limit</th>\n",
              "      <td>0.79</td>\n",
              "      <td>1.00</td>\n",
              "    </tr>\n",
              "  </tbody>\n",
              "</table>\n",
              "</div>"
            ],
            "text/plain": [
              "        Income  Limit\n",
              "Income    1.00   0.79\n",
              "Limit     0.79   1.00"
            ]
          },
          "metadata": {
            "tags": []
          },
          "execution_count": 87
        }
      ]
    },
    {
      "cell_type": "markdown",
      "metadata": {
        "id": "YvUGJJJVufwK"
      },
      "source": [
        "### 8. Експорт даних\n",
        "\n",
        "Результати опрацювання даних можна зберегти або експортувати у різноманітні формати. В pandas реалізовано методи для експорту даних у <a href=\"http://pandas.pydata.org/pandas-docs/stable/generated/pandas.DataFrame.to_csv.html\" target=\"_blank\">csv</a> та <a href=\"http://pandas.pydata.org/pandas-docs/stable/generated/pandas.DataFrame.to_excel.html\" target=\"_blank\">Excel</a> файли, <a href=\"http://pandas.pydata.org/pandas-docs/stable/generated/pandas.DataFrame.to_latex.html\" target=\"_blank\">LaTex</a> та <a href=\"http://pandas.pydata.org/pandas-docs/stable/generated/pandas.DataFrame.to_html.html\" target=\"_blank\">HTML</a> таблиці, та інші <a href='http://pandas.pydata.org/pandas-docs/stable/api.html#id12' target=\"_blank\"></a>.\n",
        "\n",
        "Наступний приклад демонструє як експортувати об'єкт <TT>DataFrame</TT> у Excel файл. "
      ]
    },
    {
      "cell_type": "code",
      "metadata": {
        "id": "6J6WSXljufwL"
      },
      "source": [
        "data.to_excel(path[:-4]+'_new_data.xlsx')"
      ],
      "execution_count": null,
      "outputs": []
    },
    {
      "cell_type": "markdown",
      "metadata": {
        "id": "9Qw9DO4XaRCq"
      },
      "source": [
        "## Варто прочитати:\n",
        "- Data Wrangling with Pandas (Short Guide) (http://www.marcelscharth.com/python/pandas.html)\n",
        "- 10 minutes to pandas (https://pandas.pydata.org/pandas-docs/stable/getting_started/10min.html)"
      ]
    }
  ]
}